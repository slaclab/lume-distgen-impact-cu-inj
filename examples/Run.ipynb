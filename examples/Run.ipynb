{
 "cells": [
  {
   "cell_type": "markdown",
   "id": "a0aeb04c",
   "metadata": {},
   "source": [
    "# LUME-services demo\n",
    "In this notebook, we will configure LUME-services to use the service configuration used to launch our docker-compose services. Make sure you've completed all steps outlined in https://slaclab.github.io/lume-services/demo/."
   ]
  },
  {
   "cell_type": "code",
   "execution_count": 1,
   "id": "3b0cfe6a",
   "metadata": {},
   "outputs": [],
   "source": [
    "import logging\n",
    "logging.basicConfig(level=logging.INFO)  # Lets check the logs"
   ]
  },
  {
   "cell_type": "markdown",
   "id": "88cb7294",
   "metadata": {},
   "source": [
    "## Configure services\n",
    "LUME-services is packages with a configuration utility that reads environment variables and initializes services:"
   ]
  },
  {
   "cell_type": "code",
   "execution_count": 2,
   "id": "3c1e88af",
   "metadata": {},
   "outputs": [
    {
     "name": "stderr",
     "output_type": "stream",
     "text": [
      "INFO:lume_services.config:Configuring LUME-services environment...\n",
      "INFO:lume_services.config:Environment configured.\n"
     ]
    }
   ],
   "source": [
    "from lume_services import config\n",
    "config.configure()"
   ]
  },
  {
   "cell_type": "markdown",
   "id": "e14910cc",
   "metadata": {},
   "source": [
    "## if you're running this many time, creation will fail because of uniqueness... You can reset since this is a dev server"
   ]
  },
  {
   "cell_type": "code",
   "execution_count": 3,
   "id": "b1dae5e5",
   "metadata": {},
   "outputs": [],
   "source": [
    "#model_db_service._reset()"
   ]
  },
  {
   "cell_type": "markdown",
   "id": "0d4ba844",
   "metadata": {},
   "source": [
    "## Create a model\n",
    "The LUME-services Model provides an API to all model services and facilitates all model operations."
   ]
  },
  {
   "cell_type": "code",
   "execution_count": 4,
   "id": "299e5321",
   "metadata": {},
   "outputs": [
    {
     "name": "stderr",
     "output_type": "stream",
     "text": [
      "INFO:lume_services.services.models.db.db:ModelDB selecting: SELECT model.model_id, model.created, model.author, model.laboratory, model.facility, model.beampath, model.description \n",
      "FROM model \n",
      "WHERE model.author = :author_1 AND model.laboratory = :laboratory_1 AND model.facility = :facility_1 AND model.beampath = :beampath_1 AND model.description = :description_1\n",
      "INFO:lume_services.services.models.db.db:ModelDB inserting: INSERT INTO model (author, laboratory, facility, beampath, description) VALUES (:author, :laboratory, :facility, :beampath, :description)\n",
      "INFO:lume_services.services.models.db.db:Sucessfully executed: INSERT INTO model (author, laboratory, facility, beampath, description) VALUES (:author, :laboratory, :facility, :beampath, :description)\n",
      "INFO:lume_services.services.models.db.db:ModelDB selecting: SELECT model.model_id, model.created, model.author, model.laboratory, model.facility, model.beampath, model.description \n",
      "FROM model \n",
      "WHERE model.model_id = :model_id_1\n"
     ]
    },
    {
     "data": {
      "text/plain": [
       "Model(metadata=Model(                     model_id=1,                     created=datetime.datetime(2022, 10, 21, 4, 24, 20),                     author='Jackie Garrahan'),                     laboratory='slac',                     facility='lcls',                     beampath='cu',                     description='disgen-impact-cu-inj'                 ), deployment=None, results=None)"
      ]
     },
     "execution_count": 4,
     "metadata": {},
     "output_type": "execute_result"
    }
   ],
   "source": [
    "from lume_services.models import Model\n",
    "\n",
    "model = Model.create_model(\n",
    "    author = \"Jackie Garrahan\",\n",
    "    laboratory = \"slac\",\n",
    "    facility = \"lcls\",\n",
    "    beampath = \"cu\",\n",
    "    description = \"disgen-impact-cu-inj\"\n",
    ")\n",
    "model"
   ]
  },
  {
   "cell_type": "markdown",
   "id": "3088ad03",
   "metadata": {},
   "source": [
    "## Create a project\n",
    "Workflows are organized by the Prefect scheduler into different projects. Below, we access the configured services directly (TODO create project registry utility)"
   ]
  },
  {
   "cell_type": "code",
   "execution_count": 5,
   "id": "5b7a075b",
   "metadata": {},
   "outputs": [],
   "source": [
    "model_db_service = config.context.model_db_service()\n",
    "scheduling_service = config.context.scheduling_service()"
   ]
  },
  {
   "cell_type": "code",
   "execution_count": 6,
   "id": "a3c31d82",
   "metadata": {},
   "outputs": [],
   "source": [
    "### NOTE: The below cell will raise an error if run 2x"
   ]
  },
  {
   "cell_type": "code",
   "execution_count": 7,
   "id": "bcd2f83f",
   "metadata": {},
   "outputs": [
    {
     "name": "stderr",
     "output_type": "stream",
     "text": [
      "INFO:lume_services.services.models.db.db:ModelDB inserting: INSERT INTO project (project_name, description) VALUES (:project_name, :description)\n",
      "INFO:lume_services.services.models.db.db:Sucessfully executed: INSERT INTO project (project_name, description) VALUES (:project_name, :description)\n"
     ]
    }
   ],
   "source": [
    "# create a project\n",
    "project_name = model_db_service.store_project(\n",
    "    project_name=\"test\", description=\"my_description\"\n",
    ")\n",
    "scheduling_service.create_project(\"test\")"
   ]
  },
  {
   "cell_type": "markdown",
   "id": "3abbe01a",
   "metadata": {},
   "source": [
    "You can now find this project in you Prefect UI at http://localhost:8080\n",
    "\n",
    "\n",
    "![project](https://slaclab.github.io/lume-services/files/project_nav.png)"
   ]
  },
  {
   "cell_type": "markdown",
   "id": "bc23acff",
   "metadata": {},
   "source": [
    "## Create a deployment for your model\n",
    "Replace `source_path` with the path to your release tarball below:"
   ]
  },
  {
   "cell_type": "code",
   "execution_count": 8,
   "id": "2346c829",
   "metadata": {},
   "outputs": [
    {
     "name": "stderr",
     "output_type": "stream",
     "text": [
      "INFO:lume_services.models.model:installing package\n",
      "INFO:lume_services.environment.solver:https://github.com/slaclab/lume-distgen-impact-cu-inj/releases/download/v0.1/lume_distgen_impact_cu_inj-0.1.tar.gz saved to /var/folders/nh/g2v_nmtj7t1g94gmjtgjrk3r0000gn/T/tmpsjzsmp85/lume_distgen_impact_cu_inj-0.1.tar.gz\n",
      "INFO:lume_services.environment.solver:Uninstall complete\n",
      "INFO:lume_services.environment.solver:Installing dependencies...\n",
      "INFO:lume_services.environment.solver:Dependency installation complete\n",
      "INFO:lume_services.environment.solver:https://github.com/slaclab/lume-distgen-impact-cu-inj/releases/download/v0.1/lume_distgen_impact_cu_inj-0.1.tar.gz saved to /var/folders/nh/g2v_nmtj7t1g94gmjtgjrk3r0000gn/T/tmp9ud8w_wh/lume_distgen_impact_cu_inj-0.1.tar.gz\n"
     ]
    },
    {
     "name": "stdout",
     "output_type": "stream",
     "text": [
      "['/Users/jacquelinegarrahan/miniconda3/envs/lume-distgen-impact-cu-inj-dev/bin/python', '-m', 'pip', 'install', '--no-deps', '-v', '/var/folders/nh/g2v_nmtj7t1g94gmjtgjrk3r0000gn/T/tmp9ud8w_wh/lume_distgen_impact_cu_inj-0.1.tar.gz']\n"
     ]
    },
    {
     "name": "stderr",
     "output_type": "stream",
     "text": [
      "  Running command python setup.py egg_info\n",
      "  running egg_info\n",
      "  creating /private/var/folders/nh/g2v_nmtj7t1g94gmjtgjrk3r0000gn/T/pip-pip-egg-info-751lg_ad/lume_distgen_impact_cu_inj.egg-info\n",
      "  writing /private/var/folders/nh/g2v_nmtj7t1g94gmjtgjrk3r0000gn/T/pip-pip-egg-info-751lg_ad/lume_distgen_impact_cu_inj.egg-info/PKG-INFO\n",
      "  writing dependency_links to /private/var/folders/nh/g2v_nmtj7t1g94gmjtgjrk3r0000gn/T/pip-pip-egg-info-751lg_ad/lume_distgen_impact_cu_inj.egg-info/dependency_links.txt\n",
      "  writing entry points to /private/var/folders/nh/g2v_nmtj7t1g94gmjtgjrk3r0000gn/T/pip-pip-egg-info-751lg_ad/lume_distgen_impact_cu_inj.egg-info/entry_points.txt\n",
      "  writing requirements to /private/var/folders/nh/g2v_nmtj7t1g94gmjtgjrk3r0000gn/T/pip-pip-egg-info-751lg_ad/lume_distgen_impact_cu_inj.egg-info/requires.txt\n",
      "  writing top-level names to /private/var/folders/nh/g2v_nmtj7t1g94gmjtgjrk3r0000gn/T/pip-pip-egg-info-751lg_ad/lume_distgen_impact_cu_inj.egg-info/top_level.txt\n",
      "  writing manifest file '/private/var/folders/nh/g2v_nmtj7t1g94gmjtgjrk3r0000gn/T/pip-pip-egg-info-751lg_ad/lume_distgen_impact_cu_inj.egg-info/SOURCES.txt'\n",
      "  reading manifest file '/private/var/folders/nh/g2v_nmtj7t1g94gmjtgjrk3r0000gn/T/pip-pip-egg-info-751lg_ad/lume_distgen_impact_cu_inj.egg-info/SOURCES.txt'\n",
      "  reading manifest template 'MANIFEST.in'\n",
      "  warning: no files found matching 'LICENSE'\n",
      "  writing manifest file '/private/var/folders/nh/g2v_nmtj7t1g94gmjtgjrk3r0000gn/T/pip-pip-egg-info-751lg_ad/lume_distgen_impact_cu_inj.egg-info/SOURCES.txt'\n",
      "  Running command python setup.py bdist_wheel\n",
      "  running bdist_wheel\n",
      "  running build\n",
      "  running build_py\n",
      "  creating build\n",
      "  creating build/lib\n",
      "  creating build/lib/lume_distgen_impact_cu_inj\n",
      "  copying lume_distgen_impact_cu_inj/_version.py -> build/lib/lume_distgen_impact_cu_inj\n",
      "  copying lume_distgen_impact_cu_inj/__init__.py -> build/lib/lume_distgen_impact_cu_inj\n",
      "  copying lume_distgen_impact_cu_inj/flow.py -> build/lib/lume_distgen_impact_cu_inj\n",
      "  copying lume_distgen_impact_cu_inj/_image.py -> build/lib/lume_distgen_impact_cu_inj\n",
      "  copying lume_distgen_impact_cu_inj/model.py -> build/lib/lume_distgen_impact_cu_inj\n",
      "  copying lume_distgen_impact_cu_inj/dashboard.py -> build/lib/lume_distgen_impact_cu_inj\n",
      "  copying lume_distgen_impact_cu_inj/utils.py -> build/lib/lume_distgen_impact_cu_inj\n",
      "  creating build/lib/lume_distgen_impact_cu_inj/tests\n",
      "  copying lume_distgen_impact_cu_inj/tests/test_flow.py -> build/lib/lume_distgen_impact_cu_inj/tests\n",
      "  copying lume_distgen_impact_cu_inj/tests/__init__.py -> build/lib/lume_distgen_impact_cu_inj/tests\n",
      "  creating build/lib/lume_distgen_impact_cu_inj/files\n",
      "  copying lume_distgen_impact_cu_inj/files/__init__.py -> build/lib/lume_distgen_impact_cu_inj/files\n",
      "  running egg_info\n",
      "  writing lume_distgen_impact_cu_inj.egg-info/PKG-INFO\n",
      "  writing dependency_links to lume_distgen_impact_cu_inj.egg-info/dependency_links.txt\n",
      "  writing entry points to lume_distgen_impact_cu_inj.egg-info/entry_points.txt\n",
      "  writing requirements to lume_distgen_impact_cu_inj.egg-info/requires.txt\n",
      "  writing top-level names to lume_distgen_impact_cu_inj.egg-info/top_level.txt\n",
      "  reading manifest file 'lume_distgen_impact_cu_inj.egg-info/SOURCES.txt'\n",
      "  reading manifest template 'MANIFEST.in'\n",
      "  warning: no files found matching 'LICENSE'\n",
      "  writing manifest file 'lume_distgen_impact_cu_inj.egg-info/SOURCES.txt'\n",
      "  copying lume_distgen_impact_cu_inj/files/archive.h5 -> build/lib/lume_distgen_impact_cu_inj/files\n",
      "  copying lume_distgen_impact_cu_inj/files/cu_inj_impact.csv -> build/lib/lume_distgen_impact_cu_inj/files\n",
      "  copying lume_distgen_impact_cu_inj/files/default_vcc_array.npy -> build/lib/lume_distgen_impact_cu_inj/files\n",
      "  copying lume_distgen_impact_cu_inj/files/distgen.yml -> build/lib/lume_distgen_impact_cu_inj/files\n",
      "  copying lume_distgen_impact_cu_inj/files/distgen_variables.yml -> build/lib/lume_distgen_impact_cu_inj/files\n",
      "  copying lume_distgen_impact_cu_inj/files/variables.yml -> build/lib/lume_distgen_impact_cu_inj/files\n",
      "  UPDATING build/lib/lume_distgen_impact_cu_inj/_version.py\n",
      "  set build/lib/lume_distgen_impact_cu_inj/_version.py to '0.1'\n",
      "  /Users/jacquelinegarrahan/miniconda3/envs/lume-distgen-impact-cu-inj-dev/lib/python3.10/site-packages/setuptools/command/install.py:34: SetuptoolsDeprecationWarning: setup.py install is deprecated. Use build and pip and other standards-based tools.\n",
      "    warnings.warn(\n",
      "  installing to build/bdist.macosx-10.9-x86_64/wheel\n",
      "  running install\n",
      "  running install_lib\n",
      "  creating build/bdist.macosx-10.9-x86_64\n",
      "  creating build/bdist.macosx-10.9-x86_64/wheel\n",
      "  creating build/bdist.macosx-10.9-x86_64/wheel/lume_distgen_impact_cu_inj\n",
      "  copying build/lib/lume_distgen_impact_cu_inj/_version.py -> build/bdist.macosx-10.9-x86_64/wheel/lume_distgen_impact_cu_inj\n",
      "  creating build/bdist.macosx-10.9-x86_64/wheel/lume_distgen_impact_cu_inj/tests\n",
      "  copying build/lib/lume_distgen_impact_cu_inj/tests/test_flow.py -> build/bdist.macosx-10.9-x86_64/wheel/lume_distgen_impact_cu_inj/tests\n",
      "  copying build/lib/lume_distgen_impact_cu_inj/tests/__init__.py -> build/bdist.macosx-10.9-x86_64/wheel/lume_distgen_impact_cu_inj/tests\n",
      "  copying build/lib/lume_distgen_impact_cu_inj/__init__.py -> build/bdist.macosx-10.9-x86_64/wheel/lume_distgen_impact_cu_inj\n",
      "  copying build/lib/lume_distgen_impact_cu_inj/flow.py -> build/bdist.macosx-10.9-x86_64/wheel/lume_distgen_impact_cu_inj\n",
      "  copying build/lib/lume_distgen_impact_cu_inj/_image.py -> build/bdist.macosx-10.9-x86_64/wheel/lume_distgen_impact_cu_inj\n",
      "  copying build/lib/lume_distgen_impact_cu_inj/model.py -> build/bdist.macosx-10.9-x86_64/wheel/lume_distgen_impact_cu_inj\n",
      "  copying build/lib/lume_distgen_impact_cu_inj/dashboard.py -> build/bdist.macosx-10.9-x86_64/wheel/lume_distgen_impact_cu_inj\n",
      "  copying build/lib/lume_distgen_impact_cu_inj/utils.py -> build/bdist.macosx-10.9-x86_64/wheel/lume_distgen_impact_cu_inj\n",
      "  creating build/bdist.macosx-10.9-x86_64/wheel/lume_distgen_impact_cu_inj/files\n",
      "  copying build/lib/lume_distgen_impact_cu_inj/files/cu_inj_impact.csv -> build/bdist.macosx-10.9-x86_64/wheel/lume_distgen_impact_cu_inj/files\n",
      "  copying build/lib/lume_distgen_impact_cu_inj/files/distgen.yml -> build/bdist.macosx-10.9-x86_64/wheel/lume_distgen_impact_cu_inj/files\n",
      "  copying build/lib/lume_distgen_impact_cu_inj/files/distgen_variables.yml -> build/bdist.macosx-10.9-x86_64/wheel/lume_distgen_impact_cu_inj/files\n",
      "  copying build/lib/lume_distgen_impact_cu_inj/files/__init__.py -> build/bdist.macosx-10.9-x86_64/wheel/lume_distgen_impact_cu_inj/files\n",
      "  copying build/lib/lume_distgen_impact_cu_inj/files/archive.h5 -> build/bdist.macosx-10.9-x86_64/wheel/lume_distgen_impact_cu_inj/files\n",
      "  copying build/lib/lume_distgen_impact_cu_inj/files/variables.yml -> build/bdist.macosx-10.9-x86_64/wheel/lume_distgen_impact_cu_inj/files\n",
      "  copying build/lib/lume_distgen_impact_cu_inj/files/default_vcc_array.npy -> build/bdist.macosx-10.9-x86_64/wheel/lume_distgen_impact_cu_inj/files\n",
      "  running install_egg_info\n",
      "  Copying lume_distgen_impact_cu_inj.egg-info to build/bdist.macosx-10.9-x86_64/wheel/lume_distgen_impact_cu_inj-0.1-py3.10.egg-info\n",
      "  running install_scripts\n",
      "  creating build/bdist.macosx-10.9-x86_64/wheel/lume_distgen_impact_cu_inj-0.1.dist-info/WHEEL\n",
      "  creating '/private/var/folders/nh/g2v_nmtj7t1g94gmjtgjrk3r0000gn/T/pip-wheel-swtjd3k8/lume_distgen_impact_cu_inj-0.1-py3-none-any.whl' and adding 'build/bdist.macosx-10.9-x86_64/wheel' to it\n",
      "  adding 'lume_distgen_impact_cu_inj/__init__.py'\n",
      "  adding 'lume_distgen_impact_cu_inj/_image.py'\n",
      "  adding 'lume_distgen_impact_cu_inj/_version.py'\n",
      "  adding 'lume_distgen_impact_cu_inj/dashboard.py'\n",
      "  adding 'lume_distgen_impact_cu_inj/flow.py'\n",
      "  adding 'lume_distgen_impact_cu_inj/model.py'\n",
      "  adding 'lume_distgen_impact_cu_inj/utils.py'\n",
      "  adding 'lume_distgen_impact_cu_inj/files/__init__.py'\n",
      "  adding 'lume_distgen_impact_cu_inj/files/archive.h5'\n",
      "  adding 'lume_distgen_impact_cu_inj/files/cu_inj_impact.csv'\n",
      "  adding 'lume_distgen_impact_cu_inj/files/default_vcc_array.npy'\n",
      "  adding 'lume_distgen_impact_cu_inj/files/distgen.yml'\n",
      "  adding 'lume_distgen_impact_cu_inj/files/distgen_variables.yml'\n",
      "  adding 'lume_distgen_impact_cu_inj/files/variables.yml'\n",
      "  adding 'lume_distgen_impact_cu_inj/tests/__init__.py'\n",
      "  adding 'lume_distgen_impact_cu_inj/tests/test_flow.py'\n",
      "  adding 'lume_distgen_impact_cu_inj-0.1.dist-info/METADATA'\n",
      "  adding 'lume_distgen_impact_cu_inj-0.1.dist-info/WHEEL'\n",
      "  adding 'lume_distgen_impact_cu_inj-0.1.dist-info/entry_points.txt'\n",
      "  adding 'lume_distgen_impact_cu_inj-0.1.dist-info/top_level.txt'\n",
      "  adding 'lume_distgen_impact_cu_inj-0.1.dist-info/RECORD'\n",
      "  removing build/bdist.macosx-10.9-x86_64/wheel\n"
     ]
    },
    {
     "name": "stderr",
     "output_type": "stream",
     "text": [
      "INFO:lume_services.environment.solver:Dependency installation complete\n",
      "INFO:lume_services.services.models.db.db:ModelDB selecting: SELECT deployment.sha256, deployment.deployment_id, deployment.version, deployment.deploy_date, deployment.package_import_name, deployment.asset_dir, deployment.source, deployment.image, deployment.is_live, deployment.model_id \n",
      "FROM deployment \n",
      "WHERE deployment.model_id = :model_id_1 AND deployment.version = :version_1\n",
      "INFO:lume_services.services.models.db.db:ModelDB inserting: INSERT INTO deployment (version, package_import_name, asset_dir, source, sha256, image, is_live, model_id) VALUES (:version, :package_import_name, :asset_dir, :source, :sha256, :image, :is_live, :model_id)\n",
      "INFO:lume_services.services.models.db.db:Sucessfully executed: INSERT INTO deployment (version, package_import_name, asset_dir, source, sha256, image, is_live, model_id) VALUES (:version, :package_import_name, :asset_dir, :source, :sha256, :image, :is_live, :model_id)\n",
      "INFO:lume_services.services.models.db.db:ModelDB selecting: SELECT flow.flow_id, flow.flow_name, flow.project_name, flow.deployment_id \n",
      "FROM flow \n",
      "WHERE flow.deployment_id = :deployment_id_1\n",
      "INFO:lume_services.services.scheduling.backends.server:Flow run config is not empty. Clearing existing labels and assigning                     new.\n",
      "/Users/jacquelinegarrahan/miniconda3/envs/lume-distgen-impact-cu-inj-dev/lib/python3.10/site-packages/prefect/core/flow.py:1726: UserWarning: No result handler was specified on your Flow. Cloud features such as input caching and resuming task runs from failure may not work properly.\n",
      "  registered_flow = client.register(\n",
      "INFO:lume_services.services.models.db.db:ModelDB inserting: INSERT INTO flow (flow_id, flow_name, project_name, deployment_id) VALUES (:flow_id, :flow_name, :project_name, :deployment_id)\n",
      "INFO:lume_services.services.models.db.db:Sucessfully executed: INSERT INTO flow (flow_id, flow_name, project_name, deployment_id) VALUES (:flow_id, :flow_name, :project_name, :deployment_id)\n",
      "INFO:lume_services.models.model:Loading deployment 1\n",
      "INFO:lume_services.models.model:Loading deployment 1\n",
      "INFO:lume_services.services.models.db.db:ModelDB selecting: SELECT deployment.sha256, deployment.deployment_id, deployment.version, deployment.deploy_date, deployment.package_import_name, deployment.asset_dir, deployment.source, deployment.image, deployment.is_live, deployment.model_id \n",
      "FROM deployment \n",
      "WHERE deployment.model_id = :model_id_1 AND deployment.deployment_id = :deployment_id_1\n",
      "INFO:lume_services.models.model:Deployment loaded.\n",
      "INFO:lume_services.services.models.db.db:ModelDB selecting: SELECT flow.flow_id, flow.flow_name, flow.project_name, flow.deployment_id \n",
      "FROM flow \n",
      "WHERE flow.deployment_id = :deployment_id_1\n",
      "INFO:lume_services.services.models.db.db:ModelDB selecting: SELECT project.project_name, project.description \n",
      "FROM project \n",
      "WHERE project.project_name = :project_name_1\n",
      "INFO:lume_services.services.models.db.db:ModelDB selecting: SELECT flow_of_flows._id, flow_of_flows.parent_flow_id, flow_of_flows.flow_id, flow_of_flows.position \n",
      "FROM flow_of_flows \n",
      "WHERE flow_of_flows.parent_flow_id = :parent_flow_id_1\n"
     ]
    },
    {
     "name": "stdout",
     "output_type": "stream",
     "text": [
      "Flow URL: http://localhost:8080/default/flow/4b026886-d91e-43da-86c1-1a431cb924c3\n",
      " └── ID: 2f97c230-c8fe-4ada-93fd-fca51a2ce2c0\n",
      " └── Project: test\n",
      " └── Labels: ['lume-services']\n"
     ]
    }
   ],
   "source": [
    "source_path = \"https://github.com/slaclab/lume-distgen-impact-cu-inj/releases/download/v0.1/lume_distgen_impact_cu_inj-0.1.tar.gz\"\n",
    "\n",
    "# populates local channel\n",
    "model.store_deployment(source_path, project_name=\"test\")"
   ]
  },
  {
   "cell_type": "markdown",
   "id": "690f0c1c",
   "metadata": {},
   "source": [
    "## Run the Prefect workflow directly"
   ]
  },
  {
   "cell_type": "code",
   "execution_count": 9,
   "id": "66aaa313",
   "metadata": {},
   "outputs": [],
   "source": [
    "# set up the parameters\n",
    "import os\n",
    "from lume_distgen_impact_cu_inj import DEFAULT_VCC_ARRAY\n",
    "from datetime import datetime\n",
    "\n",
    "# working directory\n",
    "dir_path = os.getcwd()\n",
    "\n",
    "# lets make directories for the archive file and the dashboard images\n",
    "try:\n",
    "    os.mkdir(f\"{dir_path}/archive\")\n",
    "except FileExistsError:\n",
    "    pass # already exists\n",
    "\n",
    "try:\n",
    "    os.mkdir(f\"{dir_path}/dashboard\")\n",
    "except FileExistsError:\n",
    "    pass # already exists\n",
    "\n",
    "archive_dir = f\"{dir_path}/archive\"\n",
    "dashboard_dir = f\"{dir_path}/dashboard\"\n",
    "\n",
    "distgen_inputs = {\n",
    "    \"vcc_resolution\" : 9,\n",
    "    \"vcc_resolution_units\" : \"um\",\n",
    "    \"vcc_size_y\" : 480,\n",
    "    \"vcc_size_x\": 640,\n",
    "    \"vcc_array\": DEFAULT_VCC_ARRAY.tolist(), # neet to convert to json serializable input for passed data\n",
    "    \"total_charge\": 1.51614e+09\n",
    "}\n",
    "\n",
    "distgen_configuration = {}\n",
    "distgen_settings = {\n",
    "    'n_particle': 10000,\n",
    "    \"t_dist:length:value\":  4 * 1.65   #  Inferred pulse stacker FWHM: 4 ps, converted to tukey length\n",
    "}\n",
    "\n",
    "\n",
    "pv_collection_isotime = datetime.now()\n",
    "\n",
    "# in this case, will be using conda installation of impact\n",
    "command=\"ImpactTexe\"\n",
    "command_mpi=\"\"\n",
    "use_mpi=False\n",
    "mpi_run=\"mpirun -n {nproc} --use-hwthread-cpus {command_mpi}\"\n",
    "\n",
    "impact_configuration = {\n",
    "    \"command\": command,\n",
    "    \"command_mpi\": command_mpi,\n",
    "    \"use_mpi\": use_mpi,\n",
    "    \"workdir\": str(dir_path),\n",
    "    \"mpi_run\": mpi_run\n",
    "}\n",
    "\n",
    "impact_settings = {\n",
    "    \"header:Nx\": 32,\n",
    "    \"header:Ny\": 32,\n",
    "    \"header:Nz\": 32,\n",
    "    \"stop\": 16.5,\n",
    "    #  \"stop\": 8,\n",
    "    \"numprocs\": 1,\n",
    "    \"timeout\": 1000,\n",
    "    \"total_charge\": 0, # for debugging\n",
    "}\n",
    "\n",
    "\n",
    "impact_inputs = {\"SOL1:solenoid_field_scale\": 0.47235,\n",
    "                \"CQ01:b1_gradient\":  -0.00133705,\n",
    "                \"SQ01:b1_gradient\": 0.000769202,\n",
    "                \"L0A_phase:dtheta0_deg\": 0,\n",
    "                \"L0B_phase:dtheta0_deg\": -2.5,\n",
    "                \"L0A_scale:voltage\": 58,\n",
    "                \"L0B_scale:voltage\": 69.9586,\n",
    "                \"QA01:b1_gradient\": -3.25386,\n",
    "                \"QA02:b1_gradient\": 2.5843,\n",
    "                \"QE01:b1_gradient\": -1.54514,\n",
    "                \"QE02:b1_gradient\": -0.671809,\n",
    "                \"QE03:b1_gradient\": 3.22537,\n",
    "                \"QE04:b1_gradient\": -3.20496,\n",
    "}\n",
    "\n",
    "parameters = {\n",
    "    \"impact_configuration\": impact_configuration, \n",
    "    \"impact_settings\": impact_settings, \n",
    "    \"distgen_configuration\": distgen_configuration, \n",
    "    \"distgen_settings\": distgen_settings,\n",
    "    \"archive_filesystem_identifier\": \"local\",\n",
    "    \"dashboard_image_filesystem_identifier\": \"local\",\n",
    "    \"archive_dir\": archive_dir,\n",
    "    \"dashboard_dir\": dashboard_dir, \n",
    "    \"pv_collection_isotime\": pv_collection_isotime.isoformat()\n",
    "}\n",
    "parameters.update(distgen_inputs)\n",
    "parameters.update(impact_inputs)"
   ]
  },
  {
   "cell_type": "code",
   "execution_count": 10,
   "id": "514e0aeb",
   "metadata": {},
   "outputs": [
    {
     "name": "stdout",
     "output_type": "stream",
     "text": [
      "[2022-10-20 21:25:57-0700] INFO - prefect.FlowRunner | Beginning Flow run for 'lume-distgen-impact-cu-inj'\n"
     ]
    },
    {
     "name": "stderr",
     "output_type": "stream",
     "text": [
      "INFO:prefect.FlowRunner:Beginning Flow run for 'lume-distgen-impact-cu-inj'\n"
     ]
    },
    {
     "name": "stdout",
     "output_type": "stream",
     "text": [
      "[2022-10-20 21:25:57-0700] INFO - prefect.TaskRunner | Task 'L0B_phase:dtheta0_deg': Starting task run...\n"
     ]
    },
    {
     "name": "stderr",
     "output_type": "stream",
     "text": [
      "INFO:prefect.TaskRunner:Task 'L0B_phase:dtheta0_deg': Starting task run...\n"
     ]
    },
    {
     "name": "stdout",
     "output_type": "stream",
     "text": [
      "[2022-10-20 21:25:57-0700] INFO - prefect.TaskRunner | Task 'L0B_phase:dtheta0_deg': Finished task run for task with final state: 'Success'\n"
     ]
    },
    {
     "name": "stderr",
     "output_type": "stream",
     "text": [
      "INFO:prefect.TaskRunner:Task 'L0B_phase:dtheta0_deg': Finished task run for task with final state: 'Success'\n"
     ]
    },
    {
     "name": "stdout",
     "output_type": "stream",
     "text": [
      "[2022-10-20 21:25:57-0700] INFO - prefect.TaskRunner | Task 'QA02:b1_gradient': Starting task run...\n"
     ]
    },
    {
     "name": "stderr",
     "output_type": "stream",
     "text": [
      "INFO:prefect.TaskRunner:Task 'QA02:b1_gradient': Starting task run...\n"
     ]
    },
    {
     "name": "stdout",
     "output_type": "stream",
     "text": [
      "[2022-10-20 21:25:57-0700] INFO - prefect.TaskRunner | Task 'QA02:b1_gradient': Finished task run for task with final state: 'Success'\n"
     ]
    },
    {
     "name": "stderr",
     "output_type": "stream",
     "text": [
      "INFO:prefect.TaskRunner:Task 'QA02:b1_gradient': Finished task run for task with final state: 'Success'\n"
     ]
    },
    {
     "name": "stdout",
     "output_type": "stream",
     "text": [
      "[2022-10-20 21:25:57-0700] INFO - prefect.TaskRunner | Task 'QE04:b1_gradient': Starting task run...\n"
     ]
    },
    {
     "name": "stderr",
     "output_type": "stream",
     "text": [
      "INFO:prefect.TaskRunner:Task 'QE04:b1_gradient': Starting task run...\n"
     ]
    },
    {
     "name": "stdout",
     "output_type": "stream",
     "text": [
      "[2022-10-20 21:25:57-0700] INFO - prefect.TaskRunner | Task 'QE04:b1_gradient': Finished task run for task with final state: 'Success'\n"
     ]
    },
    {
     "name": "stderr",
     "output_type": "stream",
     "text": [
      "INFO:prefect.TaskRunner:Task 'QE04:b1_gradient': Finished task run for task with final state: 'Success'\n"
     ]
    },
    {
     "name": "stdout",
     "output_type": "stream",
     "text": [
      "[2022-10-20 21:25:58-0700] INFO - prefect.TaskRunner | Task 'impact_settings': Starting task run...\n"
     ]
    },
    {
     "name": "stderr",
     "output_type": "stream",
     "text": [
      "INFO:prefect.TaskRunner:Task 'impact_settings': Starting task run...\n"
     ]
    },
    {
     "name": "stdout",
     "output_type": "stream",
     "text": [
      "[2022-10-20 21:25:58-0700] INFO - prefect.TaskRunner | Task 'impact_settings': Finished task run for task with final state: 'Success'\n"
     ]
    },
    {
     "name": "stderr",
     "output_type": "stream",
     "text": [
      "INFO:prefect.TaskRunner:Task 'impact_settings': Finished task run for task with final state: 'Success'\n"
     ]
    },
    {
     "name": "stdout",
     "output_type": "stream",
     "text": [
      "[2022-10-20 21:25:58-0700] INFO - prefect.TaskRunner | Task 'dashboard_image_filesystem_identifier': Starting task run...\n"
     ]
    },
    {
     "name": "stderr",
     "output_type": "stream",
     "text": [
      "INFO:prefect.TaskRunner:Task 'dashboard_image_filesystem_identifier': Starting task run...\n"
     ]
    },
    {
     "name": "stdout",
     "output_type": "stream",
     "text": [
      "[2022-10-20 21:25:58-0700] INFO - prefect.TaskRunner | Task 'dashboard_image_filesystem_identifier': Finished task run for task with final state: 'Success'\n"
     ]
    },
    {
     "name": "stderr",
     "output_type": "stream",
     "text": [
      "INFO:prefect.TaskRunner:Task 'dashboard_image_filesystem_identifier': Finished task run for task with final state: 'Success'\n"
     ]
    },
    {
     "name": "stdout",
     "output_type": "stream",
     "text": [
      "[2022-10-20 21:25:58-0700] INFO - prefect.TaskRunner | Task 'archive_dir': Starting task run...\n"
     ]
    },
    {
     "name": "stderr",
     "output_type": "stream",
     "text": [
      "INFO:prefect.TaskRunner:Task 'archive_dir': Starting task run...\n"
     ]
    },
    {
     "name": "stdout",
     "output_type": "stream",
     "text": [
      "[2022-10-20 21:25:58-0700] INFO - prefect.TaskRunner | Task 'archive_dir': Finished task run for task with final state: 'Success'\n"
     ]
    },
    {
     "name": "stderr",
     "output_type": "stream",
     "text": [
      "INFO:prefect.TaskRunner:Task 'archive_dir': Finished task run for task with final state: 'Success'\n"
     ]
    },
    {
     "name": "stdout",
     "output_type": "stream",
     "text": [
      "[2022-10-20 21:25:58-0700] INFO - prefect.TaskRunner | Task 'vcc_size_x': Starting task run...\n"
     ]
    },
    {
     "name": "stderr",
     "output_type": "stream",
     "text": [
      "INFO:prefect.TaskRunner:Task 'vcc_size_x': Starting task run...\n"
     ]
    },
    {
     "name": "stdout",
     "output_type": "stream",
     "text": [
      "[2022-10-20 21:25:58-0700] INFO - prefect.TaskRunner | Task 'vcc_size_x': Finished task run for task with final state: 'Success'\n"
     ]
    },
    {
     "name": "stderr",
     "output_type": "stream",
     "text": [
      "INFO:prefect.TaskRunner:Task 'vcc_size_x': Finished task run for task with final state: 'Success'\n"
     ]
    },
    {
     "name": "stdout",
     "output_type": "stream",
     "text": [
      "[2022-10-20 21:25:58-0700] INFO - prefect.TaskRunner | Task 'total_charge': Starting task run...\n"
     ]
    },
    {
     "name": "stderr",
     "output_type": "stream",
     "text": [
      "INFO:prefect.TaskRunner:Task 'total_charge': Starting task run...\n"
     ]
    },
    {
     "name": "stdout",
     "output_type": "stream",
     "text": [
      "[2022-10-20 21:25:58-0700] INFO - prefect.TaskRunner | Task 'total_charge': Finished task run for task with final state: 'Success'\n"
     ]
    },
    {
     "name": "stderr",
     "output_type": "stream",
     "text": [
      "INFO:prefect.TaskRunner:Task 'total_charge': Finished task run for task with final state: 'Success'\n"
     ]
    },
    {
     "name": "stdout",
     "output_type": "stream",
     "text": [
      "[2022-10-20 21:25:59-0700] INFO - prefect.TaskRunner | Task 'archive_filesystem_identifier': Starting task run...\n"
     ]
    },
    {
     "name": "stderr",
     "output_type": "stream",
     "text": [
      "INFO:prefect.TaskRunner:Task 'archive_filesystem_identifier': Starting task run...\n"
     ]
    },
    {
     "name": "stdout",
     "output_type": "stream",
     "text": [
      "[2022-10-20 21:25:59-0700] INFO - prefect.TaskRunner | Task 'archive_filesystem_identifier': Finished task run for task with final state: 'Success'\n"
     ]
    },
    {
     "name": "stderr",
     "output_type": "stream",
     "text": [
      "INFO:prefect.TaskRunner:Task 'archive_filesystem_identifier': Finished task run for task with final state: 'Success'\n"
     ]
    },
    {
     "name": "stdout",
     "output_type": "stream",
     "text": [
      "[2022-10-20 21:25:59-0700] INFO - prefect.TaskRunner | Task 'vcc_array': Starting task run...\n"
     ]
    },
    {
     "name": "stderr",
     "output_type": "stream",
     "text": [
      "INFO:prefect.TaskRunner:Task 'vcc_array': Starting task run...\n"
     ]
    },
    {
     "name": "stdout",
     "output_type": "stream",
     "text": [
      "[2022-10-20 21:25:59-0700] INFO - prefect.TaskRunner | Task 'vcc_array': Finished task run for task with final state: 'Success'\n"
     ]
    },
    {
     "name": "stderr",
     "output_type": "stream",
     "text": [
      "INFO:prefect.TaskRunner:Task 'vcc_array': Finished task run for task with final state: 'Success'\n"
     ]
    },
    {
     "name": "stdout",
     "output_type": "stream",
     "text": [
      "[2022-10-20 21:25:59-0700] INFO - prefect.TaskRunner | Task 'L0A_scale:voltage': Starting task run...\n"
     ]
    },
    {
     "name": "stderr",
     "output_type": "stream",
     "text": [
      "INFO:prefect.TaskRunner:Task 'L0A_scale:voltage': Starting task run...\n"
     ]
    },
    {
     "name": "stdout",
     "output_type": "stream",
     "text": [
      "[2022-10-20 21:25:59-0700] INFO - prefect.TaskRunner | Task 'L0A_scale:voltage': Finished task run for task with final state: 'Success'\n"
     ]
    },
    {
     "name": "stderr",
     "output_type": "stream",
     "text": [
      "INFO:prefect.TaskRunner:Task 'L0A_scale:voltage': Finished task run for task with final state: 'Success'\n"
     ]
    },
    {
     "name": "stdout",
     "output_type": "stream",
     "text": [
      "[2022-10-20 21:25:59-0700] INFO - prefect.TaskRunner | Task 'QE01:b1_gradient': Starting task run...\n"
     ]
    },
    {
     "name": "stderr",
     "output_type": "stream",
     "text": [
      "INFO:prefect.TaskRunner:Task 'QE01:b1_gradient': Starting task run...\n"
     ]
    },
    {
     "name": "stdout",
     "output_type": "stream",
     "text": [
      "[2022-10-20 21:25:59-0700] INFO - prefect.TaskRunner | Task 'QE01:b1_gradient': Finished task run for task with final state: 'Success'\n"
     ]
    },
    {
     "name": "stderr",
     "output_type": "stream",
     "text": [
      "INFO:prefect.TaskRunner:Task 'QE01:b1_gradient': Finished task run for task with final state: 'Success'\n"
     ]
    },
    {
     "name": "stdout",
     "output_type": "stream",
     "text": [
      "[2022-10-20 21:25:59-0700] INFO - prefect.TaskRunner | Task 'distgen_input_filename': Starting task run...\n"
     ]
    },
    {
     "name": "stderr",
     "output_type": "stream",
     "text": [
      "INFO:prefect.TaskRunner:Task 'distgen_input_filename': Starting task run...\n"
     ]
    },
    {
     "name": "stdout",
     "output_type": "stream",
     "text": [
      "[2022-10-20 21:25:59-0700] INFO - prefect.TaskRunner | Task 'distgen_input_filename': Finished task run for task with final state: 'Success'\n"
     ]
    },
    {
     "name": "stderr",
     "output_type": "stream",
     "text": [
      "INFO:prefect.TaskRunner:Task 'distgen_input_filename': Finished task run for task with final state: 'Success'\n"
     ]
    },
    {
     "name": "stdout",
     "output_type": "stream",
     "text": [
      "[2022-10-20 21:26:00-0700] INFO - prefect.TaskRunner | Task 'distgen_settings': Starting task run...\n"
     ]
    },
    {
     "name": "stderr",
     "output_type": "stream",
     "text": [
      "INFO:prefect.TaskRunner:Task 'distgen_settings': Starting task run...\n"
     ]
    },
    {
     "name": "stdout",
     "output_type": "stream",
     "text": [
      "[2022-10-20 21:26:00-0700] INFO - prefect.TaskRunner | Task 'distgen_settings': Finished task run for task with final state: 'Success'\n"
     ]
    },
    {
     "name": "stderr",
     "output_type": "stream",
     "text": [
      "INFO:prefect.TaskRunner:Task 'distgen_settings': Finished task run for task with final state: 'Success'\n"
     ]
    },
    {
     "name": "stdout",
     "output_type": "stream",
     "text": [
      "[2022-10-20 21:26:00-0700] INFO - prefect.TaskRunner | Task 'pv_collection_isotime': Starting task run...\n"
     ]
    },
    {
     "name": "stderr",
     "output_type": "stream",
     "text": [
      "INFO:prefect.TaskRunner:Task 'pv_collection_isotime': Starting task run...\n"
     ]
    },
    {
     "name": "stdout",
     "output_type": "stream",
     "text": [
      "[2022-10-20 21:26:00-0700] INFO - prefect.TaskRunner | Task 'pv_collection_isotime': Finished task run for task with final state: 'Success'\n"
     ]
    },
    {
     "name": "stderr",
     "output_type": "stream",
     "text": [
      "INFO:prefect.TaskRunner:Task 'pv_collection_isotime': Finished task run for task with final state: 'Success'\n"
     ]
    },
    {
     "name": "stdout",
     "output_type": "stream",
     "text": [
      "[2022-10-20 21:26:00-0700] INFO - prefect.TaskRunner | Task 'SOL1:solenoid_field_scale': Starting task run...\n"
     ]
    },
    {
     "name": "stderr",
     "output_type": "stream",
     "text": [
      "INFO:prefect.TaskRunner:Task 'SOL1:solenoid_field_scale': Starting task run...\n"
     ]
    },
    {
     "name": "stdout",
     "output_type": "stream",
     "text": [
      "[2022-10-20 21:26:00-0700] INFO - prefect.TaskRunner | Task 'SOL1:solenoid_field_scale': Finished task run for task with final state: 'Success'\n"
     ]
    },
    {
     "name": "stderr",
     "output_type": "stream",
     "text": [
      "INFO:prefect.TaskRunner:Task 'SOL1:solenoid_field_scale': Finished task run for task with final state: 'Success'\n"
     ]
    },
    {
     "name": "stdout",
     "output_type": "stream",
     "text": [
      "[2022-10-20 21:26:00-0700] INFO - prefect.TaskRunner | Task 'configure_lume_services': Starting task run...\n"
     ]
    },
    {
     "name": "stderr",
     "output_type": "stream",
     "text": [
      "INFO:prefect.TaskRunner:Task 'configure_lume_services': Starting task run...\n",
      "INFO:lume_services.config:Configuring LUME-services environment...\n",
      "INFO:lume_services.config:Environment configured.\n"
     ]
    },
    {
     "name": "stdout",
     "output_type": "stream",
     "text": [
      "[2022-10-20 21:26:00-0700] INFO - prefect.TaskRunner | Task 'configure_lume_services': Finished task run for task with final state: 'Success'\n"
     ]
    },
    {
     "name": "stderr",
     "output_type": "stream",
     "text": [
      "INFO:prefect.TaskRunner:Task 'configure_lume_services': Finished task run for task with final state: 'Success'\n"
     ]
    },
    {
     "name": "stdout",
     "output_type": "stream",
     "text": [
      "[2022-10-20 21:26:00-0700] INFO - prefect.TaskRunner | Task 'vcc_size_y': Starting task run...\n"
     ]
    },
    {
     "name": "stderr",
     "output_type": "stream",
     "text": [
      "INFO:prefect.TaskRunner:Task 'vcc_size_y': Starting task run...\n"
     ]
    },
    {
     "name": "stdout",
     "output_type": "stream",
     "text": [
      "[2022-10-20 21:26:00-0700] INFO - prefect.TaskRunner | Task 'vcc_size_y': Finished task run for task with final state: 'Success'\n"
     ]
    },
    {
     "name": "stderr",
     "output_type": "stream",
     "text": [
      "INFO:prefect.TaskRunner:Task 'vcc_size_y': Finished task run for task with final state: 'Success'\n"
     ]
    },
    {
     "name": "stdout",
     "output_type": "stream",
     "text": [
      "[2022-10-20 21:26:01-0700] INFO - prefect.TaskRunner | Task 'SQ01:b1_gradient': Starting task run...\n"
     ]
    },
    {
     "name": "stderr",
     "output_type": "stream",
     "text": [
      "INFO:prefect.TaskRunner:Task 'SQ01:b1_gradient': Starting task run...\n"
     ]
    },
    {
     "name": "stdout",
     "output_type": "stream",
     "text": [
      "[2022-10-20 21:26:01-0700] INFO - prefect.TaskRunner | Task 'SQ01:b1_gradient': Finished task run for task with final state: 'Success'\n"
     ]
    },
    {
     "name": "stderr",
     "output_type": "stream",
     "text": [
      "INFO:prefect.TaskRunner:Task 'SQ01:b1_gradient': Finished task run for task with final state: 'Success'\n"
     ]
    },
    {
     "name": "stdout",
     "output_type": "stream",
     "text": [
      "[2022-10-20 21:26:01-0700] INFO - prefect.TaskRunner | Task 'L0B_scale:voltage': Starting task run...\n"
     ]
    },
    {
     "name": "stderr",
     "output_type": "stream",
     "text": [
      "INFO:prefect.TaskRunner:Task 'L0B_scale:voltage': Starting task run...\n"
     ]
    },
    {
     "name": "stdout",
     "output_type": "stream",
     "text": [
      "[2022-10-20 21:26:01-0700] INFO - prefect.TaskRunner | Task 'L0B_scale:voltage': Finished task run for task with final state: 'Success'\n"
     ]
    },
    {
     "name": "stderr",
     "output_type": "stream",
     "text": [
      "INFO:prefect.TaskRunner:Task 'L0B_scale:voltage': Finished task run for task with final state: 'Success'\n"
     ]
    },
    {
     "name": "stdout",
     "output_type": "stream",
     "text": [
      "[2022-10-20 21:26:01-0700] INFO - prefect.TaskRunner | Task 'QE02:b1_gradient': Starting task run...\n"
     ]
    },
    {
     "name": "stderr",
     "output_type": "stream",
     "text": [
      "INFO:prefect.TaskRunner:Task 'QE02:b1_gradient': Starting task run...\n"
     ]
    },
    {
     "name": "stdout",
     "output_type": "stream",
     "text": [
      "[2022-10-20 21:26:01-0700] INFO - prefect.TaskRunner | Task 'QE02:b1_gradient': Finished task run for task with final state: 'Success'\n"
     ]
    },
    {
     "name": "stderr",
     "output_type": "stream",
     "text": [
      "INFO:prefect.TaskRunner:Task 'QE02:b1_gradient': Finished task run for task with final state: 'Success'\n"
     ]
    },
    {
     "name": "stdout",
     "output_type": "stream",
     "text": [
      "[2022-10-20 21:26:01-0700] INFO - prefect.TaskRunner | Task 'distgen_configuration': Starting task run...\n"
     ]
    },
    {
     "name": "stderr",
     "output_type": "stream",
     "text": [
      "INFO:prefect.TaskRunner:Task 'distgen_configuration': Starting task run...\n"
     ]
    },
    {
     "name": "stdout",
     "output_type": "stream",
     "text": [
      "[2022-10-20 21:26:01-0700] INFO - prefect.TaskRunner | Task 'distgen_configuration': Finished task run for task with final state: 'Success'\n"
     ]
    },
    {
     "name": "stderr",
     "output_type": "stream",
     "text": [
      "INFO:prefect.TaskRunner:Task 'distgen_configuration': Finished task run for task with final state: 'Success'\n"
     ]
    },
    {
     "name": "stdout",
     "output_type": "stream",
     "text": [
      "[2022-10-20 21:26:01-0700] INFO - prefect.TaskRunner | Task 'distgen_output_filename': Starting task run...\n"
     ]
    },
    {
     "name": "stderr",
     "output_type": "stream",
     "text": [
      "INFO:prefect.TaskRunner:Task 'distgen_output_filename': Starting task run...\n"
     ]
    },
    {
     "name": "stdout",
     "output_type": "stream",
     "text": [
      "[2022-10-20 21:26:01-0700] INFO - prefect.TaskRunner | Task 'distgen_output_filename': Finished task run for task with final state: 'Success'\n"
     ]
    },
    {
     "name": "stderr",
     "output_type": "stream",
     "text": [
      "INFO:prefect.TaskRunner:Task 'distgen_output_filename': Finished task run for task with final state: 'Success'\n"
     ]
    },
    {
     "name": "stdout",
     "output_type": "stream",
     "text": [
      "[2022-10-20 21:26:02-0700] INFO - prefect.TaskRunner | Task 'vcc_resolution': Starting task run...\n"
     ]
    },
    {
     "name": "stderr",
     "output_type": "stream",
     "text": [
      "INFO:prefect.TaskRunner:Task 'vcc_resolution': Starting task run...\n"
     ]
    },
    {
     "name": "stdout",
     "output_type": "stream",
     "text": [
      "[2022-10-20 21:26:02-0700] INFO - prefect.TaskRunner | Task 'vcc_resolution': Finished task run for task with final state: 'Success'\n"
     ]
    },
    {
     "name": "stderr",
     "output_type": "stream",
     "text": [
      "INFO:prefect.TaskRunner:Task 'vcc_resolution': Finished task run for task with final state: 'Success'\n"
     ]
    },
    {
     "name": "stdout",
     "output_type": "stream",
     "text": [
      "[2022-10-20 21:26:02-0700] INFO - prefect.TaskRunner | Task 'CQ01:b1_gradient': Starting task run...\n"
     ]
    },
    {
     "name": "stderr",
     "output_type": "stream",
     "text": [
      "INFO:prefect.TaskRunner:Task 'CQ01:b1_gradient': Starting task run...\n"
     ]
    },
    {
     "name": "stdout",
     "output_type": "stream",
     "text": [
      "[2022-10-20 21:26:02-0700] INFO - prefect.TaskRunner | Task 'CQ01:b1_gradient': Finished task run for task with final state: 'Success'\n"
     ]
    },
    {
     "name": "stderr",
     "output_type": "stream",
     "text": [
      "INFO:prefect.TaskRunner:Task 'CQ01:b1_gradient': Finished task run for task with final state: 'Success'\n"
     ]
    },
    {
     "name": "stdout",
     "output_type": "stream",
     "text": [
      "[2022-10-20 21:26:02-0700] INFO - prefect.TaskRunner | Task 'L0A_phase:dtheta0_deg': Starting task run...\n"
     ]
    },
    {
     "name": "stderr",
     "output_type": "stream",
     "text": [
      "INFO:prefect.TaskRunner:Task 'L0A_phase:dtheta0_deg': Starting task run...\n"
     ]
    },
    {
     "name": "stdout",
     "output_type": "stream",
     "text": [
      "[2022-10-20 21:26:02-0700] INFO - prefect.TaskRunner | Task 'L0A_phase:dtheta0_deg': Finished task run for task with final state: 'Success'\n"
     ]
    },
    {
     "name": "stderr",
     "output_type": "stream",
     "text": [
      "INFO:prefect.TaskRunner:Task 'L0A_phase:dtheta0_deg': Finished task run for task with final state: 'Success'\n"
     ]
    },
    {
     "name": "stdout",
     "output_type": "stream",
     "text": [
      "[2022-10-20 21:26:02-0700] INFO - prefect.TaskRunner | Task 'QA01:b1_gradient': Starting task run...\n"
     ]
    },
    {
     "name": "stderr",
     "output_type": "stream",
     "text": [
      "INFO:prefect.TaskRunner:Task 'QA01:b1_gradient': Starting task run...\n"
     ]
    },
    {
     "name": "stdout",
     "output_type": "stream",
     "text": [
      "[2022-10-20 21:26:02-0700] INFO - prefect.TaskRunner | Task 'QA01:b1_gradient': Finished task run for task with final state: 'Success'\n"
     ]
    },
    {
     "name": "stderr",
     "output_type": "stream",
     "text": [
      "INFO:prefect.TaskRunner:Task 'QA01:b1_gradient': Finished task run for task with final state: 'Success'\n"
     ]
    },
    {
     "name": "stdout",
     "output_type": "stream",
     "text": [
      "[2022-10-20 21:26:02-0700] INFO - prefect.TaskRunner | Task 'QE03:b1_gradient': Starting task run...\n"
     ]
    },
    {
     "name": "stderr",
     "output_type": "stream",
     "text": [
      "INFO:prefect.TaskRunner:Task 'QE03:b1_gradient': Starting task run...\n"
     ]
    },
    {
     "name": "stdout",
     "output_type": "stream",
     "text": [
      "[2022-10-20 21:26:02-0700] INFO - prefect.TaskRunner | Task 'QE03:b1_gradient': Finished task run for task with final state: 'Success'\n"
     ]
    },
    {
     "name": "stderr",
     "output_type": "stream",
     "text": [
      "INFO:prefect.TaskRunner:Task 'QE03:b1_gradient': Finished task run for task with final state: 'Success'\n"
     ]
    },
    {
     "name": "stdout",
     "output_type": "stream",
     "text": [
      "[2022-10-20 21:26:02-0700] INFO - prefect.TaskRunner | Task 'impact_configuration': Starting task run...\n"
     ]
    },
    {
     "name": "stderr",
     "output_type": "stream",
     "text": [
      "INFO:prefect.TaskRunner:Task 'impact_configuration': Starting task run...\n"
     ]
    },
    {
     "name": "stdout",
     "output_type": "stream",
     "text": [
      "[2022-10-20 21:26:03-0700] INFO - prefect.TaskRunner | Task 'impact_configuration': Finished task run for task with final state: 'Success'\n"
     ]
    },
    {
     "name": "stderr",
     "output_type": "stream",
     "text": [
      "INFO:prefect.TaskRunner:Task 'impact_configuration': Finished task run for task with final state: 'Success'\n"
     ]
    },
    {
     "name": "stdout",
     "output_type": "stream",
     "text": [
      "[2022-10-20 21:26:03-0700] INFO - prefect.TaskRunner | Task 'dashboard_dir': Starting task run...\n"
     ]
    },
    {
     "name": "stderr",
     "output_type": "stream",
     "text": [
      "INFO:prefect.TaskRunner:Task 'dashboard_dir': Starting task run...\n"
     ]
    },
    {
     "name": "stdout",
     "output_type": "stream",
     "text": [
      "[2022-10-20 21:26:03-0700] INFO - prefect.TaskRunner | Task 'dashboard_dir': Finished task run for task with final state: 'Success'\n"
     ]
    },
    {
     "name": "stderr",
     "output_type": "stream",
     "text": [
      "INFO:prefect.TaskRunner:Task 'dashboard_dir': Finished task run for task with final state: 'Success'\n"
     ]
    },
    {
     "name": "stdout",
     "output_type": "stream",
     "text": [
      "[2022-10-20 21:26:03-0700] INFO - prefect.TaskRunner | Task 'check_local_execution': Starting task run...\n"
     ]
    },
    {
     "name": "stderr",
     "output_type": "stream",
     "text": [
      "INFO:prefect.TaskRunner:Task 'check_local_execution': Starting task run...\n"
     ]
    },
    {
     "name": "stdout",
     "output_type": "stream",
     "text": [
      "[2022-10-20 21:26:03-0700] INFO - prefect.TaskRunner | Task 'check_local_execution': Finished task run for task with final state: 'Success'\n"
     ]
    },
    {
     "name": "stderr",
     "output_type": "stream",
     "text": [
      "INFO:prefect.TaskRunner:Task 'check_local_execution': Finished task run for task with final state: 'Success'\n"
     ]
    },
    {
     "name": "stdout",
     "output_type": "stream",
     "text": [
      "[2022-10-20 21:26:03-0700] INFO - prefect.TaskRunner | Task 'vcc_resolution_units': Starting task run...\n"
     ]
    },
    {
     "name": "stderr",
     "output_type": "stream",
     "text": [
      "INFO:prefect.TaskRunner:Task 'vcc_resolution_units': Starting task run...\n"
     ]
    },
    {
     "name": "stdout",
     "output_type": "stream",
     "text": [
      "[2022-10-20 21:26:03-0700] INFO - prefect.TaskRunner | Task 'vcc_resolution_units': Finished task run for task with final state: 'Success'\n"
     ]
    },
    {
     "name": "stderr",
     "output_type": "stream",
     "text": [
      "INFO:prefect.TaskRunner:Task 'vcc_resolution_units': Finished task run for task with final state: 'Success'\n"
     ]
    },
    {
     "name": "stdout",
     "output_type": "stream",
     "text": [
      "[2022-10-20 21:26:03-0700] INFO - prefect.TaskRunner | Task 'List': Starting task run...\n"
     ]
    },
    {
     "name": "stderr",
     "output_type": "stream",
     "text": [
      "INFO:prefect.TaskRunner:Task 'List': Starting task run...\n"
     ]
    },
    {
     "name": "stdout",
     "output_type": "stream",
     "text": [
      "[2022-10-20 21:26:03-0700] INFO - prefect.TaskRunner | Task 'List': Finished task run for task with final state: 'Success'\n"
     ]
    },
    {
     "name": "stderr",
     "output_type": "stream",
     "text": [
      "INFO:prefect.TaskRunner:Task 'List': Finished task run for task with final state: 'Success'\n"
     ]
    },
    {
     "name": "stdout",
     "output_type": "stream",
     "text": [
      "[2022-10-20 21:26:04-0700] INFO - prefect.TaskRunner | Task 'case(False)': Starting task run...\n"
     ]
    },
    {
     "name": "stderr",
     "output_type": "stream",
     "text": [
      "INFO:prefect.TaskRunner:Task 'case(False)': Starting task run...\n"
     ]
    },
    {
     "name": "stdout",
     "output_type": "stream",
     "text": [
      "[2022-10-20 21:26:04-0700] INFO - prefect.TaskRunner | Task 'case(False)': Finished task run for task with final state: 'Success'\n"
     ]
    },
    {
     "name": "stderr",
     "output_type": "stream",
     "text": [
      "INFO:prefect.TaskRunner:Task 'case(False)': Finished task run for task with final state: 'Success'\n"
     ]
    },
    {
     "name": "stdout",
     "output_type": "stream",
     "text": [
      "[2022-10-20 21:26:04-0700] INFO - prefect.TaskRunner | Task 'format_archive_filename': Starting task run...\n"
     ]
    },
    {
     "name": "stderr",
     "output_type": "stream",
     "text": [
      "INFO:prefect.TaskRunner:Task 'format_archive_filename': Starting task run...\n"
     ]
    },
    {
     "name": "stdout",
     "output_type": "stream",
     "text": [
      "[2022-10-20 21:26:04-0700] INFO - prefect.TaskRunner | Task 'format_archive_filename': Finished task run for task with final state: 'Success'\n"
     ]
    },
    {
     "name": "stderr",
     "output_type": "stream",
     "text": [
      "INFO:prefect.TaskRunner:Task 'format_archive_filename': Finished task run for task with final state: 'Success'\n"
     ]
    },
    {
     "name": "stdout",
     "output_type": "stream",
     "text": [
      "[2022-10-20 21:26:04-0700] INFO - prefect.TaskRunner | Task 'format_dashboard_filename': Starting task run...\n"
     ]
    },
    {
     "name": "stderr",
     "output_type": "stream",
     "text": [
      "INFO:prefect.TaskRunner:Task 'format_dashboard_filename': Starting task run...\n"
     ]
    },
    {
     "name": "stdout",
     "output_type": "stream",
     "text": [
      "[2022-10-20 21:26:04-0700] INFO - prefect.TaskRunner | Task 'format_dashboard_filename': Finished task run for task with final state: 'Success'\n"
     ]
    },
    {
     "name": "stderr",
     "output_type": "stream",
     "text": [
      "INFO:prefect.TaskRunner:Task 'format_dashboard_filename': Finished task run for task with final state: 'Success'\n"
     ]
    },
    {
     "name": "stdout",
     "output_type": "stream",
     "text": [
      "[2022-10-20 21:26:04-0700] INFO - prefect.TaskRunner | Task 'Dict': Starting task run...\n"
     ]
    },
    {
     "name": "stderr",
     "output_type": "stream",
     "text": [
      "INFO:prefect.TaskRunner:Task 'Dict': Starting task run...\n"
     ]
    },
    {
     "name": "stdout",
     "output_type": "stream",
     "text": [
      "[2022-10-20 21:26:04-0700] INFO - prefect.TaskRunner | Task 'Dict': Finished task run for task with final state: 'Success'\n"
     ]
    },
    {
     "name": "stderr",
     "output_type": "stream",
     "text": [
      "INFO:prefect.TaskRunner:Task 'Dict': Finished task run for task with final state: 'Success'\n"
     ]
    },
    {
     "name": "stdout",
     "output_type": "stream",
     "text": [
      "[2022-10-20 21:26:04-0700] INFO - prefect.TaskRunner | Task 'prepare_lume_model_variables': Starting task run...\n"
     ]
    },
    {
     "name": "stderr",
     "output_type": "stream",
     "text": [
      "INFO:prefect.TaskRunner:Task 'prepare_lume_model_variables': Starting task run...\n"
     ]
    },
    {
     "name": "stdout",
     "output_type": "stream",
     "text": [
      "[2022-10-20 21:26:04-0700] INFO - prefect.TaskRunner | Task 'prepare_lume_model_variables': Finished task run for task with final state: 'Success'\n"
     ]
    },
    {
     "name": "stderr",
     "output_type": "stream",
     "text": [
      "INFO:prefect.TaskRunner:Task 'prepare_lume_model_variables': Finished task run for task with final state: 'Success'\n"
     ]
    },
    {
     "name": "stdout",
     "output_type": "stream",
     "text": [
      "[2022-10-20 21:26:05-0700] INFO - prefect.TaskRunner | Task 'List': Starting task run...\n"
     ]
    },
    {
     "name": "stderr",
     "output_type": "stream",
     "text": [
      "INFO:prefect.TaskRunner:Task 'List': Starting task run...\n"
     ]
    },
    {
     "name": "stdout",
     "output_type": "stream",
     "text": [
      "[2022-10-20 21:26:05-0700] INFO - prefect.TaskRunner | Task 'List': Finished task run for task with final state: 'Success'\n"
     ]
    },
    {
     "name": "stderr",
     "output_type": "stream",
     "text": [
      "INFO:prefect.TaskRunner:Task 'List': Finished task run for task with final state: 'Success'\n"
     ]
    },
    {
     "name": "stdout",
     "output_type": "stream",
     "text": [
      "[2022-10-20 21:26:05-0700] INFO - prefect.TaskRunner | Task 'Dict': Starting task run...\n"
     ]
    },
    {
     "name": "stderr",
     "output_type": "stream",
     "text": [
      "INFO:prefect.TaskRunner:Task 'Dict': Starting task run...\n"
     ]
    },
    {
     "name": "stdout",
     "output_type": "stream",
     "text": [
      "[2022-10-20 21:26:05-0700] INFO - prefect.TaskRunner | Task 'Dict': Finished task run for task with final state: 'Success'\n"
     ]
    },
    {
     "name": "stderr",
     "output_type": "stream",
     "text": [
      "INFO:prefect.TaskRunner:Task 'Dict': Finished task run for task with final state: 'Success'\n"
     ]
    },
    {
     "name": "stdout",
     "output_type": "stream",
     "text": [
      "[2022-10-20 21:26:05-0700] INFO - prefect.TaskRunner | Task 'prepare_lume_model_variables': Starting task run...\n"
     ]
    },
    {
     "name": "stderr",
     "output_type": "stream",
     "text": [
      "INFO:prefect.TaskRunner:Task 'prepare_lume_model_variables': Starting task run...\n"
     ]
    },
    {
     "name": "stdout",
     "output_type": "stream",
     "text": [
      "[2022-10-20 21:26:05-0700] INFO - prefect.TaskRunner | Task 'prepare_lume_model_variables': Finished task run for task with final state: 'Success'\n"
     ]
    },
    {
     "name": "stderr",
     "output_type": "stream",
     "text": [
      "INFO:prefect.TaskRunner:Task 'prepare_lume_model_variables': Finished task run for task with final state: 'Success'\n"
     ]
    },
    {
     "name": "stdout",
     "output_type": "stream",
     "text": [
      "[2022-10-20 21:26:05-0700] INFO - prefect.TaskRunner | Task 'impact_preprocessing_task': Starting task run...\n"
     ]
    },
    {
     "name": "stderr",
     "output_type": "stream",
     "text": [
      "INFO:prefect.TaskRunner:Task 'impact_preprocessing_task': Starting task run...\n"
     ]
    },
    {
     "name": "stdout",
     "output_type": "stream",
     "text": [
      "[2022-10-20 21:26:05-0700] INFO - prefect.TaskRunner | Task 'impact_preprocessing_task': Finished task run for task with final state: 'Success'\n"
     ]
    },
    {
     "name": "stderr",
     "output_type": "stream",
     "text": [
      "INFO:prefect.TaskRunner:Task 'impact_preprocessing_task': Finished task run for task with final state: 'Success'\n"
     ]
    },
    {
     "name": "stdout",
     "output_type": "stream",
     "text": [
      "[2022-10-20 21:26:05-0700] INFO - prefect.TaskRunner | Task 'distgen_preprocessing_task': Starting task run...\n"
     ]
    },
    {
     "name": "stderr",
     "output_type": "stream",
     "text": [
      "INFO:prefect.TaskRunner:Task 'distgen_preprocessing_task': Starting task run...\n"
     ]
    },
    {
     "name": "stdout",
     "output_type": "stream",
     "text": [
      "[2022-10-20 21:26:05-0700] INFO - prefect.TaskRunner | Task 'distgen_preprocessing_task': Finished task run for task with final state: 'Success'\n"
     ]
    },
    {
     "name": "stderr",
     "output_type": "stream",
     "text": [
      "INFO:prefect.TaskRunner:Task 'distgen_preprocessing_task': Finished task run for task with final state: 'Success'\n"
     ]
    },
    {
     "name": "stdout",
     "output_type": "stream",
     "text": [
      "[2022-10-20 21:26:06-0700] INFO - prefect.TaskRunner | Task 'evaluate_distgen': Starting task run...\n"
     ]
    },
    {
     "name": "stderr",
     "output_type": "stream",
     "text": [
      "INFO:prefect.TaskRunner:Task 'evaluate_distgen': Starting task run...\n"
     ]
    },
    {
     "name": "stdout",
     "output_type": "stream",
     "text": [
      "[2022-10-20 21:26:06-0700] INFO - prefect.TaskRunner | Distribution format: None\n"
     ]
    },
    {
     "name": "stderr",
     "output_type": "stream",
     "text": [
      "INFO:prefect.TaskRunner:Distribution format: None\n"
     ]
    },
    {
     "name": "stdout",
     "output_type": "stream",
     "text": [
      "[2022-10-20 21:26:06-0700] INFO - prefect.TaskRunner |    Warning: no output file specified, defaulting to \"None\".\n"
     ]
    },
    {
     "name": "stderr",
     "output_type": "stream",
     "text": [
      "INFO:prefect.TaskRunner:   Warning: no output file specified, defaulting to \"None\".\n"
     ]
    },
    {
     "name": "stdout",
     "output_type": "stream",
     "text": [
      "[2022-10-20 21:26:06-0700] INFO - prefect.TaskRunner | Output file: None\n"
     ]
    },
    {
     "name": "stderr",
     "output_type": "stream",
     "text": [
      "INFO:prefect.TaskRunner:Output file: None\n"
     ]
    },
    {
     "name": "stdout",
     "output_type": "stream",
     "text": [
      "[2022-10-20 21:26:06-0700] INFO - prefect.TaskRunner | \n",
      "Creating beam distribution....\n"
     ]
    },
    {
     "name": "stderr",
     "output_type": "stream",
     "text": [
      "INFO:prefect.TaskRunner:\n",
      "Creating beam distribution....\n"
     ]
    },
    {
     "name": "stdout",
     "output_type": "stream",
     "text": [
      "[2022-10-20 21:26:06-0700] INFO - prefect.TaskRunner |    Beam starting from: cathode\n"
     ]
    },
    {
     "name": "stderr",
     "output_type": "stream",
     "text": [
      "INFO:prefect.TaskRunner:   Beam starting from: cathode\n"
     ]
    },
    {
     "name": "stdout",
     "output_type": "stream",
     "text": [
      "[2022-10-20 21:26:06-0700] INFO - prefect.TaskRunner |    Total charge: 242.912 pC.\n"
     ]
    },
    {
     "name": "stderr",
     "output_type": "stream",
     "text": [
      "INFO:prefect.TaskRunner:   Total charge: 242.912 pC.\n"
     ]
    },
    {
     "name": "stdout",
     "output_type": "stream",
     "text": [
      "[2022-10-20 21:26:06-0700] INFO - prefect.TaskRunner |    Number of macroparticles: 10000.\n"
     ]
    },
    {
     "name": "stderr",
     "output_type": "stream",
     "text": [
      "INFO:prefect.TaskRunner:   Number of macroparticles: 10000.\n"
     ]
    },
    {
     "name": "stdout",
     "output_type": "stream",
     "text": [
      "[2022-10-20 21:26:06-0700] INFO - prefect.TaskRunner |    xy distribution: \n"
     ]
    },
    {
     "name": "stderr",
     "output_type": "stream",
     "text": [
      "INFO:prefect.TaskRunner:   xy distribution: \n"
     ]
    },
    {
     "name": "stdout",
     "output_type": "stream",
     "text": [
      "[2022-10-20 21:26:06-0700] INFO - prefect.TaskRunner |    t distribution: \n"
     ]
    },
    {
     "name": "stderr",
     "output_type": "stream",
     "text": [
      "INFO:prefect.TaskRunner:   t distribution: \n"
     ]
    },
    {
     "name": "stdout",
     "output_type": "stream",
     "text": [
      "[2022-10-20 21:26:06-0700] INFO - prefect.TaskRunner | Tukey\n"
     ]
    },
    {
     "name": "stderr",
     "output_type": "stream",
     "text": [
      "INFO:prefect.TaskRunner:Tukey\n"
     ]
    },
    {
     "name": "stdout",
     "output_type": "stream",
     "text": [
      "[2022-10-20 21:26:06-0700] INFO - prefect.TaskRunner |       length = 6.6 ps, ratio = 0.8\n"
     ]
    },
    {
     "name": "stderr",
     "output_type": "stream",
     "text": [
      "INFO:prefect.TaskRunner:      length = 6.6 ps, ratio = 0.8\n"
     ]
    },
    {
     "name": "stdout",
     "output_type": "stream",
     "text": [
      "[2022-10-20 21:26:06-0700] INFO - prefect.TaskRunner |    px distribution: \n"
     ]
    },
    {
     "name": "stderr",
     "output_type": "stream",
     "text": [
      "INFO:prefect.TaskRunner:   px distribution: \n"
     ]
    },
    {
     "name": "stdout",
     "output_type": "stream",
     "text": [
      "[2022-10-20 21:26:06-0700] INFO - prefect.TaskRunner | Gaussian\n"
     ]
    },
    {
     "name": "stderr",
     "output_type": "stream",
     "text": [
      "INFO:prefect.TaskRunner:Gaussian\n"
     ]
    },
    {
     "name": "stdout",
     "output_type": "stream",
     "text": [
      "[2022-10-20 21:26:06-0700] INFO - prefect.TaskRunner |       avg_px = 0 eV/c, sigma_px = 459.950 eV/c\n"
     ]
    },
    {
     "name": "stderr",
     "output_type": "stream",
     "text": [
      "INFO:prefect.TaskRunner:      avg_px = 0 eV/c, sigma_px = 459.950 eV/c\n"
     ]
    },
    {
     "name": "stdout",
     "output_type": "stream",
     "text": [
      "[2022-10-20 21:26:06-0700] INFO - prefect.TaskRunner |    py distribution: \n"
     ]
    },
    {
     "name": "stderr",
     "output_type": "stream",
     "text": [
      "INFO:prefect.TaskRunner:   py distribution: \n"
     ]
    },
    {
     "name": "stdout",
     "output_type": "stream",
     "text": [
      "[2022-10-20 21:26:06-0700] INFO - prefect.TaskRunner | Gaussian\n"
     ]
    },
    {
     "name": "stderr",
     "output_type": "stream",
     "text": [
      "INFO:prefect.TaskRunner:Gaussian\n"
     ]
    },
    {
     "name": "stdout",
     "output_type": "stream",
     "text": [
      "[2022-10-20 21:26:06-0700] INFO - prefect.TaskRunner |       avg_py = 0 eV/c, sigma_py = 459.950 eV/c\n"
     ]
    },
    {
     "name": "stderr",
     "output_type": "stream",
     "text": [
      "INFO:prefect.TaskRunner:      avg_py = 0 eV/c, sigma_py = 459.950 eV/c\n"
     ]
    },
    {
     "name": "stdout",
     "output_type": "stream",
     "text": [
      "[2022-10-20 21:26:06-0700] INFO - prefect.TaskRunner |    pz distribution: \n"
     ]
    },
    {
     "name": "stderr",
     "output_type": "stream",
     "text": [
      "INFO:prefect.TaskRunner:   pz distribution: \n"
     ]
    },
    {
     "name": "stdout",
     "output_type": "stream",
     "text": [
      "[2022-10-20 21:26:06-0700] INFO - prefect.TaskRunner | Gaussian\n"
     ]
    },
    {
     "name": "stderr",
     "output_type": "stream",
     "text": [
      "INFO:prefect.TaskRunner:Gaussian\n"
     ]
    },
    {
     "name": "stdout",
     "output_type": "stream",
     "text": [
      "[2022-10-20 21:26:06-0700] INFO - prefect.TaskRunner |       avg_pz = 0 eV/c, sigma_pz = 459.950 eV/c\n"
     ]
    },
    {
     "name": "stderr",
     "output_type": "stream",
     "text": [
      "INFO:prefect.TaskRunner:      avg_pz = 0 eV/c, sigma_pz = 459.950 eV/c\n"
     ]
    },
    {
     "name": "stdout",
     "output_type": "stream",
     "text": [
      "[2022-10-20 21:26:06-0700] INFO - prefect.TaskRunner |    Shifting avg_y = 16.8787 µm -> 16.8787 µm\n"
     ]
    },
    {
     "name": "stderr",
     "output_type": "stream",
     "text": [
      "INFO:prefect.TaskRunner:   Shifting avg_y = 16.8787 µm -> 16.8787 µm\n"
     ]
    },
    {
     "name": "stdout",
     "output_type": "stream",
     "text": [
      "[2022-10-20 21:26:06-0700] INFO - prefect.TaskRunner |    Shifting avg_px = -0.565681 eV/c -> 0 eV/c\n"
     ]
    },
    {
     "name": "stderr",
     "output_type": "stream",
     "text": [
      "INFO:prefect.TaskRunner:   Shifting avg_px = -0.565681 eV/c -> 0 eV/c\n"
     ]
    },
    {
     "name": "stdout",
     "output_type": "stream",
     "text": [
      "[2022-10-20 21:26:06-0700] INFO - prefect.TaskRunner |    Scaling sigma_px = 459.629 eV/c -> 459.95 eV/c\n"
     ]
    },
    {
     "name": "stderr",
     "output_type": "stream",
     "text": [
      "INFO:prefect.TaskRunner:   Scaling sigma_px = 459.629 eV/c -> 459.95 eV/c\n"
     ]
    },
    {
     "name": "stdout",
     "output_type": "stream",
     "text": [
      "[2022-10-20 21:26:06-0700] INFO - prefect.TaskRunner |    Shifting avg_py = -0.425358 eV/c -> 0 eV/c\n"
     ]
    },
    {
     "name": "stderr",
     "output_type": "stream",
     "text": [
      "INFO:prefect.TaskRunner:   Shifting avg_py = -0.425358 eV/c -> 0 eV/c\n"
     ]
    },
    {
     "name": "stdout",
     "output_type": "stream",
     "text": [
      "[2022-10-20 21:26:06-0700] INFO - prefect.TaskRunner |    Scaling sigma_py = 459.827 eV/c -> 459.95 eV/c\n"
     ]
    },
    {
     "name": "stderr",
     "output_type": "stream",
     "text": [
      "INFO:prefect.TaskRunner:   Scaling sigma_py = 459.827 eV/c -> 459.95 eV/c\n"
     ]
    },
    {
     "name": "stdout",
     "output_type": "stream",
     "text": [
      "[2022-10-20 21:26:06-0700] INFO - prefect.TaskRunner |    Shifting avg_pz = -0.663741 eV/c -> 0 eV/c\n"
     ]
    },
    {
     "name": "stderr",
     "output_type": "stream",
     "text": [
      "INFO:prefect.TaskRunner:   Shifting avg_pz = -0.663741 eV/c -> 0 eV/c\n"
     ]
    },
    {
     "name": "stdout",
     "output_type": "stream",
     "text": [
      "[2022-10-20 21:26:06-0700] INFO - prefect.TaskRunner |    Scaling sigma_pz = 459.86 eV/c -> 459.95 eV/c\n"
     ]
    },
    {
     "name": "stderr",
     "output_type": "stream",
     "text": [
      "INFO:prefect.TaskRunner:   Scaling sigma_pz = 459.86 eV/c -> 459.95 eV/c\n"
     ]
    },
    {
     "name": "stdout",
     "output_type": "stream",
     "text": [
      "[2022-10-20 21:26:06-0700] INFO - prefect.TaskRunner |    Shifting avg_t = -0.000784974 ps -> -5.55112E-17 ps\n"
     ]
    },
    {
     "name": "stderr",
     "output_type": "stream",
     "text": [
      "INFO:prefect.TaskRunner:   Shifting avg_t = -0.000784974 ps -> -5.55112E-17 ps\n"
     ]
    },
    {
     "name": "stdout",
     "output_type": "stream",
     "text": [
      "[2022-10-20 21:26:06-0700] INFO - prefect.TaskRunner |    Scaling sigma_t = 1.27922 ps -> 1.2794 ps\n"
     ]
    },
    {
     "name": "stderr",
     "output_type": "stream",
     "text": [
      "INFO:prefect.TaskRunner:   Scaling sigma_t = 1.27922 ps -> 1.2794 ps\n"
     ]
    },
    {
     "name": "stdout",
     "output_type": "stream",
     "text": [
      "[2022-10-20 21:26:06-0700] INFO - prefect.TaskRunner |    Cathode start: fixing pz momenta to forward hemisphere\n"
     ]
    },
    {
     "name": "stderr",
     "output_type": "stream",
     "text": [
      "INFO:prefect.TaskRunner:   Cathode start: fixing pz momenta to forward hemisphere\n"
     ]
    },
    {
     "name": "stdout",
     "output_type": "stream",
     "text": [
      "[2022-10-20 21:26:06-0700] INFO - prefect.TaskRunner |       avg_pz -> 367.079 eV/c, sigma_pz -> 277.139 eV/c\n"
     ]
    },
    {
     "name": "stderr",
     "output_type": "stream",
     "text": [
      "INFO:prefect.TaskRunner:      avg_pz -> 367.079 eV/c, sigma_pz -> 277.139 eV/c\n"
     ]
    },
    {
     "name": "stdout",
     "output_type": "stream",
     "text": [
      "[2022-10-20 21:26:06-0700] INFO - prefect.TaskRunner |    Applying user supplied transform: \"tx\" = set_avg x...\n"
     ]
    },
    {
     "name": "stderr",
     "output_type": "stream",
     "text": [
      "INFO:prefect.TaskRunner:   Applying user supplied transform: \"tx\" = set_avg x...\n"
     ]
    },
    {
     "name": "stdout",
     "output_type": "stream",
     "text": [
      "[2022-10-20 21:26:06-0700] INFO - prefect.TaskRunner |       Setting avg_x -> 0 mm.\n"
     ]
    },
    {
     "name": "stderr",
     "output_type": "stream",
     "text": [
      "INFO:prefect.TaskRunner:      Setting avg_x -> 0 mm.\n"
     ]
    },
    {
     "name": "stdout",
     "output_type": "stream",
     "text": [
      "[2022-10-20 21:26:06-0700] INFO - prefect.TaskRunner |    Applying user supplied transform: \"ty\" = set_avg y...\n"
     ]
    },
    {
     "name": "stderr",
     "output_type": "stream",
     "text": [
      "INFO:prefect.TaskRunner:   Applying user supplied transform: \"ty\" = set_avg y...\n"
     ]
    },
    {
     "name": "stdout",
     "output_type": "stream",
     "text": [
      "[2022-10-20 21:26:06-0700] INFO - prefect.TaskRunner |       Setting avg_y -> 0 mm.\n"
     ]
    },
    {
     "name": "stderr",
     "output_type": "stream",
     "text": [
      "INFO:prefect.TaskRunner:      Setting avg_y -> 0 mm.\n"
     ]
    },
    {
     "name": "stdout",
     "output_type": "stream",
     "text": [
      "[2022-10-20 21:26:06-0700] INFO - prefect.TaskRunner | ...done. Time Ellapsed: 403.215 ms.\n",
      "\n"
     ]
    },
    {
     "name": "stderr",
     "output_type": "stream",
     "text": [
      "INFO:prefect.TaskRunner:...done. Time Ellapsed: 403.215 ms.\n",
      "\n"
     ]
    },
    {
     "name": "stdout",
     "output_type": "stream",
     "text": [
      "[2022-10-20 21:26:06-0700] INFO - prefect.TaskRunner |    Created particles in .particles: \n",
      "   ParticleGroup with 10000 particles with total charge 2.4291240818727595e-10 C\n"
     ]
    },
    {
     "name": "stderr",
     "output_type": "stream",
     "text": [
      "INFO:prefect.TaskRunner:   Created particles in .particles: \n",
      "   ParticleGroup with 10000 particles with total charge 2.4291240818727595e-10 C\n"
     ]
    },
    {
     "name": "stdout",
     "output_type": "stream",
     "text": [
      "[2022-10-20 21:26:06-0700] INFO - prefect.TaskRunner | Task 'evaluate_distgen': Finished task run for task with final state: 'Success'\n"
     ]
    },
    {
     "name": "stderr",
     "output_type": "stream",
     "text": [
      "INFO:prefect.TaskRunner:Task 'evaluate_distgen': Finished task run for task with final state: 'Success'\n"
     ]
    },
    {
     "name": "stdout",
     "output_type": "stream",
     "text": [
      "[2022-10-20 21:26:06-0700] INFO - prefect.TaskRunner | Task 'evaluate_distgen[1]': Starting task run...\n"
     ]
    },
    {
     "name": "stderr",
     "output_type": "stream",
     "text": [
      "INFO:prefect.TaskRunner:Task 'evaluate_distgen[1]': Starting task run...\n"
     ]
    },
    {
     "name": "stdout",
     "output_type": "stream",
     "text": [
      "[2022-10-20 21:26:06-0700] INFO - prefect.TaskRunner | Task 'evaluate_distgen[1]': Finished task run for task with final state: 'Success'\n"
     ]
    },
    {
     "name": "stderr",
     "output_type": "stream",
     "text": [
      "INFO:prefect.TaskRunner:Task 'evaluate_distgen[1]': Finished task run for task with final state: 'Success'\n"
     ]
    },
    {
     "name": "stdout",
     "output_type": "stream",
     "text": [
      "[2022-10-20 21:26:07-0700] INFO - prefect.TaskRunner | Task 'evaluate_distgen[0]': Starting task run...\n"
     ]
    },
    {
     "name": "stderr",
     "output_type": "stream",
     "text": [
      "INFO:prefect.TaskRunner:Task 'evaluate_distgen[0]': Starting task run...\n"
     ]
    },
    {
     "name": "stdout",
     "output_type": "stream",
     "text": [
      "[2022-10-20 21:26:07-0700] INFO - prefect.TaskRunner | Task 'evaluate_distgen[0]': Finished task run for task with final state: 'Success'\n"
     ]
    },
    {
     "name": "stderr",
     "output_type": "stream",
     "text": [
      "INFO:prefect.TaskRunner:Task 'evaluate_distgen[0]': Finished task run for task with final state: 'Success'\n"
     ]
    },
    {
     "name": "stdout",
     "output_type": "stream",
     "text": [
      "[2022-10-20 21:26:07-0700] INFO - prefect.TaskRunner | Task 'evaluate_impact': Starting task run...\n"
     ]
    },
    {
     "name": "stderr",
     "output_type": "stream",
     "text": [
      "INFO:prefect.TaskRunner:Task 'evaluate_impact': Starting task run...\n"
     ]
    },
    {
     "name": "stdout",
     "output_type": "stream",
     "text": [
      "[2022-10-20 21:26:07-0700] INFO - prefect.TaskRunner | Using default input: 1 m drift lattice\n"
     ]
    },
    {
     "name": "stderr",
     "output_type": "stream",
     "text": [
      "INFO:prefect.TaskRunner:Using default input: 1 m drift lattice\n"
     ]
    },
    {
     "name": "stdout",
     "output_type": "stream",
     "text": [
      "[2022-10-20 21:26:07-0700] INFO - prefect.TaskRunner | Configured to run in:\n"
     ]
    },
    {
     "name": "stderr",
     "output_type": "stream",
     "text": [
      "INFO:prefect.TaskRunner:Configured to run in:\n"
     ]
    },
    {
     "name": "stdout",
     "output_type": "stream",
     "text": [
      "[2022-10-20 21:26:07-0700] INFO - prefect.TaskRunner | /Users/jacquelinegarrahan/sandbox/lume-distgen-impact-cu-inj/examples/tmpdejvax5l\n"
     ]
    },
    {
     "name": "stderr",
     "output_type": "stream",
     "text": [
      "INFO:prefect.TaskRunner:/Users/jacquelinegarrahan/sandbox/lume-distgen-impact-cu-inj/examples/tmpdejvax5l\n"
     ]
    },
    {
     "name": "stdout",
     "output_type": "stream",
     "text": [
      "[2022-10-20 21:26:07-0700] INFO - prefect.TaskRunner | Reading group ./ from archive file /Users/jacquelinegarrahan/miniconda3/envs/lume-distgen-impact-cu-inj-dev/lib/python3.10/site-packages/lume_distgen_impact_cu_inj/files/archive.h5\n"
     ]
    },
    {
     "name": "stderr",
     "output_type": "stream",
     "text": [
      "INFO:prefect.TaskRunner:Reading group ./ from archive file /Users/jacquelinegarrahan/miniconda3/envs/lume-distgen-impact-cu-inj-dev/lib/python3.10/site-packages/lume_distgen_impact_cu_inj/files/archive.h5\n"
     ]
    },
    {
     "name": "stdout",
     "output_type": "stream",
     "text": [
      "[2022-10-20 21:26:07-0700] INFO - prefect.TaskRunner | h5 read:\n"
     ]
    },
    {
     "name": "stderr",
     "output_type": "stream",
     "text": [
      "INFO:prefect.TaskRunner:h5 read:\n"
     ]
    },
    {
     "name": "stdout",
     "output_type": "stream",
     "text": [
      "[2022-10-20 21:26:07-0700] INFO - prefect.TaskRunner | input_particle_file\n"
     ]
    },
    {
     "name": "stderr",
     "output_type": "stream",
     "text": [
      "INFO:prefect.TaskRunner:input_particle_file\n"
     ]
    },
    {
     "name": "stdout",
     "output_type": "stream",
     "text": [
      "[2022-10-20 21:26:07-0700] INFO - prefect.TaskRunner | h5 read fieldmaps:\n"
     ]
    },
    {
     "name": "stderr",
     "output_type": "stream",
     "text": [
      "INFO:prefect.TaskRunner:h5 read fieldmaps:\n"
     ]
    },
    {
     "name": "stdout",
     "output_type": "stream",
     "text": [
      "[2022-10-20 21:26:07-0700] INFO - prefect.TaskRunner | ['rfdata102', 'rfdata201', 'rfdata4', 'rfdata5', 'rfdata6', 'rfdata7']\n"
     ]
    },
    {
     "name": "stderr",
     "output_type": "stream",
     "text": [
      "INFO:prefect.TaskRunner:['rfdata102', 'rfdata201', 'rfdata4', 'rfdata5', 'rfdata6', 'rfdata7']\n"
     ]
    },
    {
     "name": "stdout",
     "output_type": "stream",
     "text": [
      "[2022-10-20 21:26:07-0700] INFO - prefect.TaskRunner | h5 read control_groups:\n"
     ]
    },
    {
     "name": "stderr",
     "output_type": "stream",
     "text": [
      "INFO:prefect.TaskRunner:h5 read control_groups:\n"
     ]
    },
    {
     "name": "stdout",
     "output_type": "stream",
     "text": [
      "[2022-10-20 21:26:07-0700] INFO - prefect.TaskRunner | GUN_phase\n"
     ]
    },
    {
     "name": "stderr",
     "output_type": "stream",
     "text": [
      "INFO:prefect.TaskRunner:GUN_phase\n"
     ]
    },
    {
     "name": "stdout",
     "output_type": "stream",
     "text": [
      "[2022-10-20 21:26:07-0700] INFO - prefect.TaskRunner | =\n"
     ]
    },
    {
     "name": "stderr",
     "output_type": "stream",
     "text": [
      "INFO:prefect.TaskRunner:=\n"
     ]
    },
    {
     "name": "stdout",
     "output_type": "stream",
     "text": [
      "[2022-10-20 21:26:07-0700] INFO - prefect.TaskRunner | ControlGroup of eles ['GUN'] with variable dtheta0_deg controlling changes in ['theta0_deg'] with factors [1.0]\n"
     ]
    },
    {
     "name": "stderr",
     "output_type": "stream",
     "text": [
      "INFO:prefect.TaskRunner:ControlGroup of eles ['GUN'] with variable dtheta0_deg controlling changes in ['theta0_deg'] with factors [1.0]\n"
     ]
    },
    {
     "name": "stdout",
     "output_type": "stream",
     "text": [
      "[2022-10-20 21:26:07-0700] INFO - prefect.TaskRunner | h5 read control_groups:\n"
     ]
    },
    {
     "name": "stderr",
     "output_type": "stream",
     "text": [
      "INFO:prefect.TaskRunner:h5 read control_groups:\n"
     ]
    },
    {
     "name": "stdout",
     "output_type": "stream",
     "text": [
      "[2022-10-20 21:26:07-0700] INFO - prefect.TaskRunner | GUN_scale\n"
     ]
    },
    {
     "name": "stderr",
     "output_type": "stream",
     "text": [
      "INFO:prefect.TaskRunner:GUN_scale\n"
     ]
    },
    {
     "name": "stdout",
     "output_type": "stream",
     "text": [
      "[2022-10-20 21:26:07-0700] INFO - prefect.TaskRunner | =\n"
     ]
    },
    {
     "name": "stderr",
     "output_type": "stream",
     "text": [
      "INFO:prefect.TaskRunner:=\n"
     ]
    },
    {
     "name": "stdout",
     "output_type": "stream",
     "text": [
      "[2022-10-20 21:26:07-0700] INFO - prefect.TaskRunner | ControlGroup of eles ['GUN'] with variable voltage controlling absolute ['rf_field_scale'] with factors [8.66053289471487]\n"
     ]
    },
    {
     "name": "stderr",
     "output_type": "stream",
     "text": [
      "INFO:prefect.TaskRunner:ControlGroup of eles ['GUN'] with variable voltage controlling absolute ['rf_field_scale'] with factors [8.66053289471487]\n"
     ]
    },
    {
     "name": "stdout",
     "output_type": "stream",
     "text": [
      "[2022-10-20 21:26:07-0700] INFO - prefect.TaskRunner | h5 read control_groups:\n"
     ]
    },
    {
     "name": "stderr",
     "output_type": "stream",
     "text": [
      "INFO:prefect.TaskRunner:h5 read control_groups:\n"
     ]
    },
    {
     "name": "stdout",
     "output_type": "stream",
     "text": [
      "[2022-10-20 21:26:07-0700] INFO - prefect.TaskRunner | L0A_phase\n"
     ]
    },
    {
     "name": "stderr",
     "output_type": "stream",
     "text": [
      "INFO:prefect.TaskRunner:L0A_phase\n"
     ]
    },
    {
     "name": "stdout",
     "output_type": "stream",
     "text": [
      "[2022-10-20 21:26:07-0700] INFO - prefect.TaskRunner | =\n"
     ]
    },
    {
     "name": "stderr",
     "output_type": "stream",
     "text": [
      "INFO:prefect.TaskRunner:=\n"
     ]
    },
    {
     "name": "stdout",
     "output_type": "stream",
     "text": [
      "[2022-10-20 21:26:07-0700] INFO - prefect.TaskRunner | ControlGroup of eles ['L0A_entrance', 'L0A_body_1', 'L0A_body_2', 'L0A_exit'] with variable dtheta0_deg controlling changes in ['theta0_deg', 'theta0_deg', 'theta0_deg', 'theta0_deg'] with factors [1.0, 1.0, 1.0, 1.0]\n"
     ]
    },
    {
     "name": "stderr",
     "output_type": "stream",
     "text": [
      "INFO:prefect.TaskRunner:ControlGroup of eles ['L0A_entrance', 'L0A_body_1', 'L0A_body_2', 'L0A_exit'] with variable dtheta0_deg controlling changes in ['theta0_deg', 'theta0_deg', 'theta0_deg', 'theta0_deg'] with factors [1.0, 1.0, 1.0, 1.0]\n"
     ]
    },
    {
     "name": "stdout",
     "output_type": "stream",
     "text": [
      "[2022-10-20 21:26:07-0700] INFO - prefect.TaskRunner | h5 read control_groups:\n"
     ]
    },
    {
     "name": "stderr",
     "output_type": "stream",
     "text": [
      "INFO:prefect.TaskRunner:h5 read control_groups:\n"
     ]
    },
    {
     "name": "stdout",
     "output_type": "stream",
     "text": [
      "[2022-10-20 21:26:07-0700] INFO - prefect.TaskRunner | L0A_scale\n"
     ]
    },
    {
     "name": "stderr",
     "output_type": "stream",
     "text": [
      "INFO:prefect.TaskRunner:L0A_scale\n"
     ]
    },
    {
     "name": "stdout",
     "output_type": "stream",
     "text": [
      "[2022-10-20 21:26:07-0700] INFO - prefect.TaskRunner | =\n"
     ]
    },
    {
     "name": "stderr",
     "output_type": "stream",
     "text": [
      "INFO:prefect.TaskRunner:=\n"
     ]
    },
    {
     "name": "stdout",
     "output_type": "stream",
     "text": [
      "[2022-10-20 21:26:07-0700] INFO - prefect.TaskRunner | ControlGroup of eles ['L0A_entrance', 'L0A_body_1', 'L0A_body_2', 'L0A_exit'] with variable voltage controlling absolute ['rf_field_scale', 'rf_field_scale', 'rf_field_scale', 'rf_field_scale'] with factors [0.44850757, 0.51807495, 0.51807495, 0.44850757]\n"
     ]
    },
    {
     "name": "stderr",
     "output_type": "stream",
     "text": [
      "INFO:prefect.TaskRunner:ControlGroup of eles ['L0A_entrance', 'L0A_body_1', 'L0A_body_2', 'L0A_exit'] with variable voltage controlling absolute ['rf_field_scale', 'rf_field_scale', 'rf_field_scale', 'rf_field_scale'] with factors [0.44850757, 0.51807495, 0.51807495, 0.44850757]\n"
     ]
    },
    {
     "name": "stdout",
     "output_type": "stream",
     "text": [
      "[2022-10-20 21:26:07-0700] INFO - prefect.TaskRunner | h5 read control_groups:\n"
     ]
    },
    {
     "name": "stderr",
     "output_type": "stream",
     "text": [
      "INFO:prefect.TaskRunner:h5 read control_groups:\n"
     ]
    },
    {
     "name": "stdout",
     "output_type": "stream",
     "text": [
      "[2022-10-20 21:26:07-0700] INFO - prefect.TaskRunner | L0B_phase\n"
     ]
    },
    {
     "name": "stderr",
     "output_type": "stream",
     "text": [
      "INFO:prefect.TaskRunner:L0B_phase\n"
     ]
    },
    {
     "name": "stdout",
     "output_type": "stream",
     "text": [
      "[2022-10-20 21:26:07-0700] INFO - prefect.TaskRunner | =\n"
     ]
    },
    {
     "name": "stderr",
     "output_type": "stream",
     "text": [
      "INFO:prefect.TaskRunner:=\n"
     ]
    },
    {
     "name": "stdout",
     "output_type": "stream",
     "text": [
      "[2022-10-20 21:26:07-0700] INFO - prefect.TaskRunner | ControlGroup of eles ['L0B_entrance', 'L0B_body_1', 'L0B_body_2', 'L0B_exit'] with variable dtheta0_deg controlling changes in ['theta0_deg', 'theta0_deg', 'theta0_deg', 'theta0_deg'] with factors [1.0, 1.0, 1.0, 1.0]\n"
     ]
    },
    {
     "name": "stderr",
     "output_type": "stream",
     "text": [
      "INFO:prefect.TaskRunner:ControlGroup of eles ['L0B_entrance', 'L0B_body_1', 'L0B_body_2', 'L0B_exit'] with variable dtheta0_deg controlling changes in ['theta0_deg', 'theta0_deg', 'theta0_deg', 'theta0_deg'] with factors [1.0, 1.0, 1.0, 1.0]\n"
     ]
    },
    {
     "name": "stdout",
     "output_type": "stream",
     "text": [
      "[2022-10-20 21:26:07-0700] INFO - prefect.TaskRunner | h5 read control_groups:\n"
     ]
    },
    {
     "name": "stderr",
     "output_type": "stream",
     "text": [
      "INFO:prefect.TaskRunner:h5 read control_groups:\n"
     ]
    },
    {
     "name": "stdout",
     "output_type": "stream",
     "text": [
      "[2022-10-20 21:26:07-0700] INFO - prefect.TaskRunner | L0B_scale\n"
     ]
    },
    {
     "name": "stderr",
     "output_type": "stream",
     "text": [
      "INFO:prefect.TaskRunner:L0B_scale\n"
     ]
    },
    {
     "name": "stdout",
     "output_type": "stream",
     "text": [
      "[2022-10-20 21:26:07-0700] INFO - prefect.TaskRunner | =\n"
     ]
    },
    {
     "name": "stderr",
     "output_type": "stream",
     "text": [
      "INFO:prefect.TaskRunner:=\n"
     ]
    },
    {
     "name": "stdout",
     "output_type": "stream",
     "text": [
      "[2022-10-20 21:26:07-0700] INFO - prefect.TaskRunner | ControlGroup of eles ['L0B_entrance', 'L0B_body_1', 'L0B_body_2', 'L0B_exit'] with variable voltage controlling absolute ['rf_field_scale', 'rf_field_scale', 'rf_field_scale', 'rf_field_scale'] with factors [0.44850757, 0.51807495, 0.51807495, 0.44850757]\n"
     ]
    },
    {
     "name": "stderr",
     "output_type": "stream",
     "text": [
      "INFO:prefect.TaskRunner:ControlGroup of eles ['L0B_entrance', 'L0B_body_1', 'L0B_body_2', 'L0B_exit'] with variable voltage controlling absolute ['rf_field_scale', 'rf_field_scale', 'rf_field_scale', 'rf_field_scale'] with factors [0.44850757, 0.51807495, 0.51807495, 0.44850757]\n"
     ]
    },
    {
     "name": "stdout",
     "output_type": "stream",
     "text": [
      "[2022-10-20 21:26:07-0700] INFO - prefect.TaskRunner | Loaded from archive. Note: Must reconfigure to run again.\n"
     ]
    },
    {
     "name": "stderr",
     "output_type": "stream",
     "text": [
      "INFO:prefect.TaskRunner:Loaded from archive. Note: Must reconfigure to run again.\n"
     ]
    },
    {
     "name": "stdout",
     "output_type": "stream",
     "text": [
      "[2022-10-20 21:26:07-0700] INFO - prefect.TaskRunner | Configured to run in:\n"
     ]
    },
    {
     "name": "stderr",
     "output_type": "stream",
     "text": [
      "INFO:prefect.TaskRunner:Configured to run in:\n"
     ]
    },
    {
     "name": "stdout",
     "output_type": "stream",
     "text": [
      "[2022-10-20 21:26:07-0700] INFO - prefect.TaskRunner | /Users/jacquelinegarrahan/sandbox/lume-distgen-impact-cu-inj/examples/tmpq0pcwi2s\n"
     ]
    },
    {
     "name": "stderr",
     "output_type": "stream",
     "text": [
      "INFO:prefect.TaskRunner:/Users/jacquelinegarrahan/sandbox/lume-distgen-impact-cu-inj/examples/tmpq0pcwi2s\n"
     ]
    },
    {
     "name": "stdout",
     "output_type": "stream",
     "text": [
      "[2022-10-20 21:26:07-0700] INFO - prefect.TaskRunner | Removed element: stop_1\n"
     ]
    },
    {
     "name": "stderr",
     "output_type": "stream",
     "text": [
      "INFO:prefect.TaskRunner:Removed element: stop_1\n"
     ]
    },
    {
     "name": "stdout",
     "output_type": "stream",
     "text": [
      "[2022-10-20 21:26:07-0700] INFO - prefect.TaskRunner | Set stop to s = 16.5\n"
     ]
    },
    {
     "name": "stderr",
     "output_type": "stream",
     "text": [
      "INFO:prefect.TaskRunner:Set stop to s = 16.5\n"
     ]
    },
    {
     "name": "stdout",
     "output_type": "stream",
     "text": [
      "[2022-10-20 21:26:07-0700] INFO - prefect.TaskRunner | Setting Npcol, Nprow = 1, 1\n"
     ]
    },
    {
     "name": "stderr",
     "output_type": "stream",
     "text": [
      "INFO:prefect.TaskRunner:Setting Npcol, Nprow = 1, 1\n"
     ]
    },
    {
     "name": "stdout",
     "output_type": "stream",
     "text": [
      "[2022-10-20 21:26:07-0700] INFO - prefect.TaskRunner | Disabling MPI\n"
     ]
    },
    {
     "name": "stderr",
     "output_type": "stream",
     "text": [
      "INFO:prefect.TaskRunner:Disabling MPI\n",
      "INFO:lume_distgen_impact_cu_inj.model:Running evaluate_impact_with_distgen...\n"
     ]
    },
    {
     "name": "stdout",
     "output_type": "stream",
     "text": [
      "[2022-10-20 21:26:07-0700] INFO - prefect.TaskRunner | Running Impact-T in /Users/jacquelinegarrahan/sandbox/lume-distgen-impact-cu-inj/examples/tmpq0pcwi2s\n"
     ]
    },
    {
     "name": "stderr",
     "output_type": "stream",
     "text": [
      "INFO:prefect.TaskRunner:Running Impact-T in /Users/jacquelinegarrahan/sandbox/lume-distgen-impact-cu-inj/examples/tmpq0pcwi2s\n"
     ]
    },
    {
     "name": "stdout",
     "output_type": "stream",
     "text": [
      "[2022-10-20 21:26:07-0700] INFO - prefect.TaskRunner | /Users/jacquelinegarrahan/miniconda3/envs/lume-distgen-impact-cu-inj-dev/bin/ImpactTexe\n"
     ]
    },
    {
     "name": "stderr",
     "output_type": "stream",
     "text": [
      "INFO:prefect.TaskRunner:/Users/jacquelinegarrahan/miniconda3/envs/lume-distgen-impact-cu-inj-dev/bin/ImpactTexe\n"
     ]
    },
    {
     "name": "stdout",
     "output_type": "stream",
     "text": [
      "[2022-10-20 21:26:07-0700] INFO - prefect.TaskRunner | writing 10000 particles to /Users/jacquelinegarrahan/sandbox/lume-distgen-impact-cu-inj/examples/tmpq0pcwi2s/partcl.data\n"
     ]
    },
    {
     "name": "stderr",
     "output_type": "stream",
     "text": [
      "INFO:prefect.TaskRunner:writing 10000 particles to /Users/jacquelinegarrahan/sandbox/lume-distgen-impact-cu-inj/examples/tmpq0pcwi2s/partcl.data\n"
     ]
    },
    {
     "name": "stdout",
     "output_type": "stream",
     "text": [
      "[2022-10-20 21:26:07-0700] INFO - prefect.TaskRunner | Cathode start with cathode_kinetic_energy_ref = 1.0 eV\n"
     ]
    },
    {
     "name": "stderr",
     "output_type": "stream",
     "text": [
      "INFO:prefect.TaskRunner:Cathode start with cathode_kinetic_energy_ref = 1.0 eV\n"
     ]
    },
    {
     "name": "stdout",
     "output_type": "stream",
     "text": [
      "[2022-10-20 21:26:07-0700] INFO - prefect.TaskRunner | Cathode start: Replaced Np with 10000 according to initial particles\n"
     ]
    },
    {
     "name": "stderr",
     "output_type": "stream",
     "text": [
      "INFO:prefect.TaskRunner:Cathode start: Replaced Np with 10000 according to initial particles\n"
     ]
    },
    {
     "name": "stdout",
     "output_type": "stream",
     "text": [
      "[2022-10-20 21:26:07-0700] INFO - prefect.TaskRunner | Cathode start: Replaced Bkenergy with 1.0 according to initial particles\n"
     ]
    },
    {
     "name": "stderr",
     "output_type": "stream",
     "text": [
      "INFO:prefect.TaskRunner:Cathode start: Replaced Bkenergy with 1.0 according to initial particles\n"
     ]
    },
    {
     "name": "stdout",
     "output_type": "stream",
     "text": [
      "[2022-10-20 21:26:07-0700] INFO - prefect.TaskRunner | Cathode start: Replaced Temission with 6.313743887344591e-12 according to initial particles\n"
     ]
    },
    {
     "name": "stderr",
     "output_type": "stream",
     "text": [
      "INFO:prefect.TaskRunner:Cathode start: Replaced Temission with 6.313743887344591e-12 according to initial particles\n"
     ]
    },
    {
     "name": "stdout",
     "output_type": "stream",
     "text": [
      "[2022-10-20 21:26:07-0700] INFO - prefect.TaskRunner | Cathode start: Replaced Tini with -3.172618383732298e-12 according to initial particles\n"
     ]
    },
    {
     "name": "stderr",
     "output_type": "stream",
     "text": [
      "INFO:prefect.TaskRunner:Cathode start: Replaced Tini with -3.172618383732298e-12 according to initial particles\n"
     ]
    },
    {
     "name": "stdout",
     "output_type": "stream",
     "text": [
      "[2022-10-20 21:27:54-0700] INFO - prefect.TaskRunner | Loaded fort\n"
     ]
    },
    {
     "name": "stderr",
     "output_type": "stream",
     "text": [
      "INFO:prefect.TaskRunner:Loaded fort\n"
     ]
    },
    {
     "name": "stdout",
     "output_type": "stream",
     "text": [
      "[2022-10-20 21:27:54-0700] INFO - prefect.TaskRunner | 30\n"
     ]
    },
    {
     "name": "stderr",
     "output_type": "stream",
     "text": [
      "INFO:prefect.TaskRunner:30\n"
     ]
    },
    {
     "name": "stdout",
     "output_type": "stream",
     "text": [
      "[2022-10-20 21:27:54-0700] INFO - prefect.TaskRunner | :\n"
     ]
    },
    {
     "name": "stderr",
     "output_type": "stream",
     "text": [
      "INFO:prefect.TaskRunner::\n"
     ]
    },
    {
     "name": "stdout",
     "output_type": "stream",
     "text": [
      "[2022-10-20 21:27:54-0700] INFO - prefect.TaskRunner | Fourth root of the fourth moments of the beam distribution\n"
     ]
    },
    {
     "name": "stderr",
     "output_type": "stream",
     "text": [
      "INFO:prefect.TaskRunner:Fourth root of the fourth moments of the beam distribution\n"
     ]
    },
    {
     "name": "stdout",
     "output_type": "stream",
     "text": [
      "[2022-10-20 21:27:54-0700] INFO - prefect.TaskRunner | Loaded fort\n"
     ]
    },
    {
     "name": "stderr",
     "output_type": "stream",
     "text": [
      "INFO:prefect.TaskRunner:Loaded fort\n"
     ]
    },
    {
     "name": "stdout",
     "output_type": "stream",
     "text": [
      "[2022-10-20 21:27:54-0700] INFO - prefect.TaskRunner | 25\n"
     ]
    },
    {
     "name": "stderr",
     "output_type": "stream",
     "text": [
      "INFO:prefect.TaskRunner:25\n"
     ]
    },
    {
     "name": "stdout",
     "output_type": "stream",
     "text": [
      "[2022-10-20 21:27:54-0700] INFO - prefect.TaskRunner | :\n"
     ]
    },
    {
     "name": "stderr",
     "output_type": "stream",
     "text": [
      "INFO:prefect.TaskRunner::\n"
     ]
    },
    {
     "name": "stdout",
     "output_type": "stream",
     "text": [
      "[2022-10-20 21:27:54-0700] INFO - prefect.TaskRunner | RMS Y information\n"
     ]
    },
    {
     "name": "stderr",
     "output_type": "stream",
     "text": [
      "INFO:prefect.TaskRunner:RMS Y information\n"
     ]
    },
    {
     "name": "stdout",
     "output_type": "stream",
     "text": [
      "[2022-10-20 21:27:54-0700] INFO - prefect.TaskRunner | Loaded fort\n"
     ]
    },
    {
     "name": "stderr",
     "output_type": "stream",
     "text": [
      "INFO:prefect.TaskRunner:Loaded fort\n"
     ]
    },
    {
     "name": "stdout",
     "output_type": "stream",
     "text": [
      "[2022-10-20 21:27:54-0700] INFO - prefect.TaskRunner | 24\n"
     ]
    },
    {
     "name": "stderr",
     "output_type": "stream",
     "text": [
      "INFO:prefect.TaskRunner:24\n"
     ]
    },
    {
     "name": "stdout",
     "output_type": "stream",
     "text": [
      "[2022-10-20 21:27:54-0700] INFO - prefect.TaskRunner | :\n"
     ]
    },
    {
     "name": "stderr",
     "output_type": "stream",
     "text": [
      "INFO:prefect.TaskRunner::\n"
     ]
    },
    {
     "name": "stdout",
     "output_type": "stream",
     "text": [
      "[2022-10-20 21:27:54-0700] INFO - prefect.TaskRunner | RMS X information\n"
     ]
    },
    {
     "name": "stderr",
     "output_type": "stream",
     "text": [
      "INFO:prefect.TaskRunner:RMS X information\n"
     ]
    },
    {
     "name": "stdout",
     "output_type": "stream",
     "text": [
      "[2022-10-20 21:27:54-0700] INFO - prefect.TaskRunner | Loaded fort\n"
     ]
    },
    {
     "name": "stderr",
     "output_type": "stream",
     "text": [
      "INFO:prefect.TaskRunner:Loaded fort\n"
     ]
    },
    {
     "name": "stdout",
     "output_type": "stream",
     "text": [
      "[2022-10-20 21:27:54-0700] INFO - prefect.TaskRunner | 26\n"
     ]
    },
    {
     "name": "stderr",
     "output_type": "stream",
     "text": [
      "INFO:prefect.TaskRunner:26\n"
     ]
    },
    {
     "name": "stdout",
     "output_type": "stream",
     "text": [
      "[2022-10-20 21:27:54-0700] INFO - prefect.TaskRunner | :\n"
     ]
    },
    {
     "name": "stderr",
     "output_type": "stream",
     "text": [
      "INFO:prefect.TaskRunner::\n"
     ]
    },
    {
     "name": "stdout",
     "output_type": "stream",
     "text": [
      "[2022-10-20 21:27:54-0700] INFO - prefect.TaskRunner | RMS Z information\n"
     ]
    },
    {
     "name": "stderr",
     "output_type": "stream",
     "text": [
      "INFO:prefect.TaskRunner:RMS Z information\n"
     ]
    },
    {
     "name": "stdout",
     "output_type": "stream",
     "text": [
      "[2022-10-20 21:27:54-0700] INFO - prefect.TaskRunner | Loaded fort\n"
     ]
    },
    {
     "name": "stderr",
     "output_type": "stream",
     "text": [
      "INFO:prefect.TaskRunner:Loaded fort\n"
     ]
    },
    {
     "name": "stdout",
     "output_type": "stream",
     "text": [
      "[2022-10-20 21:27:54-0700] INFO - prefect.TaskRunner | 28\n"
     ]
    },
    {
     "name": "stderr",
     "output_type": "stream",
     "text": [
      "INFO:prefect.TaskRunner:28\n"
     ]
    },
    {
     "name": "stdout",
     "output_type": "stream",
     "text": [
      "[2022-10-20 21:27:54-0700] INFO - prefect.TaskRunner | :\n"
     ]
    },
    {
     "name": "stderr",
     "output_type": "stream",
     "text": [
      "INFO:prefect.TaskRunner::\n"
     ]
    },
    {
     "name": "stdout",
     "output_type": "stream",
     "text": [
      "[2022-10-20 21:27:54-0700] INFO - prefect.TaskRunner | Load balance and loss diagnostics\n"
     ]
    },
    {
     "name": "stderr",
     "output_type": "stream",
     "text": [
      "INFO:prefect.TaskRunner:Load balance and loss diagnostics\n"
     ]
    },
    {
     "name": "stdout",
     "output_type": "stream",
     "text": [
      "[2022-10-20 21:27:54-0700] INFO - prefect.TaskRunner | Loaded fort\n"
     ]
    },
    {
     "name": "stderr",
     "output_type": "stream",
     "text": [
      "INFO:prefect.TaskRunner:Loaded fort\n"
     ]
    },
    {
     "name": "stdout",
     "output_type": "stream",
     "text": [
      "[2022-10-20 21:27:54-0700] INFO - prefect.TaskRunner | 29\n"
     ]
    },
    {
     "name": "stderr",
     "output_type": "stream",
     "text": [
      "INFO:prefect.TaskRunner:29\n"
     ]
    },
    {
     "name": "stdout",
     "output_type": "stream",
     "text": [
      "[2022-10-20 21:27:54-0700] INFO - prefect.TaskRunner | :\n"
     ]
    },
    {
     "name": "stderr",
     "output_type": "stream",
     "text": [
      "INFO:prefect.TaskRunner::\n"
     ]
    },
    {
     "name": "stdout",
     "output_type": "stream",
     "text": [
      "[2022-10-20 21:27:54-0700] INFO - prefect.TaskRunner | Cube root of third moments of the beam distribution\n"
     ]
    },
    {
     "name": "stderr",
     "output_type": "stream",
     "text": [
      "INFO:prefect.TaskRunner:Cube root of third moments of the beam distribution\n"
     ]
    },
    {
     "name": "stdout",
     "output_type": "stream",
     "text": [
      "[2022-10-20 21:27:54-0700] INFO - prefect.TaskRunner | Loaded fort\n"
     ]
    },
    {
     "name": "stderr",
     "output_type": "stream",
     "text": [
      "INFO:prefect.TaskRunner:Loaded fort\n"
     ]
    },
    {
     "name": "stdout",
     "output_type": "stream",
     "text": [
      "[2022-10-20 21:27:54-0700] INFO - prefect.TaskRunner | 18\n"
     ]
    },
    {
     "name": "stderr",
     "output_type": "stream",
     "text": [
      "INFO:prefect.TaskRunner:18\n"
     ]
    },
    {
     "name": "stdout",
     "output_type": "stream",
     "text": [
      "[2022-10-20 21:27:54-0700] INFO - prefect.TaskRunner | :\n"
     ]
    },
    {
     "name": "stderr",
     "output_type": "stream",
     "text": [
      "INFO:prefect.TaskRunner::\n"
     ]
    },
    {
     "name": "stdout",
     "output_type": "stream",
     "text": [
      "[2022-10-20 21:27:54-0700] INFO - prefect.TaskRunner | Time and energy\n"
     ]
    },
    {
     "name": "stderr",
     "output_type": "stream",
     "text": [
      "INFO:prefect.TaskRunner:Time and energy\n"
     ]
    },
    {
     "name": "stdout",
     "output_type": "stream",
     "text": [
      "[2022-10-20 21:27:54-0700] INFO - prefect.TaskRunner | Loaded fort\n"
     ]
    },
    {
     "name": "stderr",
     "output_type": "stream",
     "text": [
      "INFO:prefect.TaskRunner:Loaded fort\n"
     ]
    },
    {
     "name": "stdout",
     "output_type": "stream",
     "text": [
      "[2022-10-20 21:27:54-0700] INFO - prefect.TaskRunner | 27\n"
     ]
    },
    {
     "name": "stderr",
     "output_type": "stream",
     "text": [
      "INFO:prefect.TaskRunner:27\n"
     ]
    },
    {
     "name": "stdout",
     "output_type": "stream",
     "text": [
      "[2022-10-20 21:27:54-0700] INFO - prefect.TaskRunner | :\n"
     ]
    },
    {
     "name": "stderr",
     "output_type": "stream",
     "text": [
      "INFO:prefect.TaskRunner::\n"
     ]
    },
    {
     "name": "stdout",
     "output_type": "stream",
     "text": [
      "[2022-10-20 21:27:54-0700] INFO - prefect.TaskRunner | Max amplitude information\n"
     ]
    },
    {
     "name": "stderr",
     "output_type": "stream",
     "text": [
      "INFO:prefect.TaskRunner:Max amplitude information\n"
     ]
    },
    {
     "name": "stdout",
     "output_type": "stream",
     "text": [
      "[2022-10-20 21:27:54-0700] INFO - prefect.TaskRunner | Loaded fort\n"
     ]
    },
    {
     "name": "stderr",
     "output_type": "stream",
     "text": [
      "INFO:prefect.TaskRunner:Loaded fort\n"
     ]
    },
    {
     "name": "stdout",
     "output_type": "stream",
     "text": [
      "[2022-10-20 21:27:54-0700] INFO - prefect.TaskRunner | 70\n"
     ]
    },
    {
     "name": "stderr",
     "output_type": "stream",
     "text": [
      "INFO:prefect.TaskRunner:70\n"
     ]
    },
    {
     "name": "stdout",
     "output_type": "stream",
     "text": [
      "[2022-10-20 21:27:54-0700] INFO - prefect.TaskRunner | :\n"
     ]
    },
    {
     "name": "stderr",
     "output_type": "stream",
     "text": [
      "INFO:prefect.TaskRunner::\n"
     ]
    },
    {
     "name": "stdout",
     "output_type": "stream",
     "text": [
      "[2022-10-20 21:27:54-0700] INFO - prefect.TaskRunner | Slice information of the final distribution\n"
     ]
    },
    {
     "name": "stderr",
     "output_type": "stream",
     "text": [
      "INFO:prefect.TaskRunner:Slice information of the final distribution\n"
     ]
    },
    {
     "name": "stdout",
     "output_type": "stream",
     "text": [
      "[2022-10-20 21:27:54-0700] INFO - prefect.TaskRunner | Loaded fort\n"
     ]
    },
    {
     "name": "stderr",
     "output_type": "stream",
     "text": [
      "INFO:prefect.TaskRunner:Loaded fort\n"
     ]
    },
    {
     "name": "stdout",
     "output_type": "stream",
     "text": [
      "[2022-10-20 21:27:54-0700] INFO - prefect.TaskRunner | 60\n"
     ]
    },
    {
     "name": "stderr",
     "output_type": "stream",
     "text": [
      "INFO:prefect.TaskRunner:60\n"
     ]
    },
    {
     "name": "stdout",
     "output_type": "stream",
     "text": [
      "[2022-10-20 21:27:54-0700] INFO - prefect.TaskRunner | :\n"
     ]
    },
    {
     "name": "stderr",
     "output_type": "stream",
     "text": [
      "INFO:prefect.TaskRunner::\n"
     ]
    },
    {
     "name": "stdout",
     "output_type": "stream",
     "text": [
      "[2022-10-20 21:27:54-0700] INFO - prefect.TaskRunner | Slice information of the initial distribution\n"
     ]
    },
    {
     "name": "stderr",
     "output_type": "stream",
     "text": [
      "INFO:prefect.TaskRunner:Slice information of the initial distribution\n"
     ]
    },
    {
     "name": "stdout",
     "output_type": "stream",
     "text": [
      "[2022-10-20 21:27:54-0700] INFO - prefect.TaskRunner | Loading particles\n"
     ]
    },
    {
     "name": "stderr",
     "output_type": "stream",
     "text": [
      "INFO:prefect.TaskRunner:Loading particles\n"
     ]
    },
    {
     "name": "stdout",
     "output_type": "stream",
     "text": [
      "[2022-10-20 21:27:54-0700] INFO - prefect.TaskRunner | Loaded fort\n"
     ]
    },
    {
     "name": "stderr",
     "output_type": "stream",
     "text": [
      "INFO:prefect.TaskRunner:Loaded fort\n"
     ]
    },
    {
     "name": "stdout",
     "output_type": "stream",
     "text": [
      "[2022-10-20 21:27:54-0700] INFO - prefect.TaskRunner | 40\n"
     ]
    },
    {
     "name": "stderr",
     "output_type": "stream",
     "text": [
      "INFO:prefect.TaskRunner:40\n"
     ]
    },
    {
     "name": "stdout",
     "output_type": "stream",
     "text": [
      "[2022-10-20 21:27:54-0700] INFO - prefect.TaskRunner | :\n"
     ]
    },
    {
     "name": "stderr",
     "output_type": "stream",
     "text": [
      "INFO:prefect.TaskRunner::\n"
     ]
    },
    {
     "name": "stdout",
     "output_type": "stream",
     "text": [
      "[2022-10-20 21:27:54-0700] INFO - prefect.TaskRunner | initial particle distribution at t = 0\n"
     ]
    },
    {
     "name": "stderr",
     "output_type": "stream",
     "text": [
      "INFO:prefect.TaskRunner:initial particle distribution at t = 0\n"
     ]
    },
    {
     "name": "stdout",
     "output_type": "stream",
     "text": [
      "[2022-10-20 21:27:54-0700] INFO - prefect.TaskRunner | Loaded fort\n"
     ]
    },
    {
     "name": "stderr",
     "output_type": "stream",
     "text": [
      "INFO:prefect.TaskRunner:Loaded fort\n"
     ]
    },
    {
     "name": "stdout",
     "output_type": "stream",
     "text": [
      "[2022-10-20 21:27:54-0700] INFO - prefect.TaskRunner | 50\n"
     ]
    },
    {
     "name": "stderr",
     "output_type": "stream",
     "text": [
      "INFO:prefect.TaskRunner:50\n"
     ]
    },
    {
     "name": "stdout",
     "output_type": "stream",
     "text": [
      "[2022-10-20 21:27:54-0700] INFO - prefect.TaskRunner | :\n"
     ]
    },
    {
     "name": "stderr",
     "output_type": "stream",
     "text": [
      "INFO:prefect.TaskRunner::\n"
     ]
    },
    {
     "name": "stdout",
     "output_type": "stream",
     "text": [
      "[2022-10-20 21:27:54-0700] INFO - prefect.TaskRunner | final particle distribution projected to the centroid location of the bunch\n"
     ]
    },
    {
     "name": "stderr",
     "output_type": "stream",
     "text": [
      "INFO:prefect.TaskRunner:final particle distribution projected to the centroid location of the bunch\n"
     ]
    },
    {
     "name": "stdout",
     "output_type": "stream",
     "text": [
      "[2022-10-20 21:27:54-0700] INFO - prefect.TaskRunner | Loaded write beam particles YAG02 fort.102\n"
     ]
    },
    {
     "name": "stderr",
     "output_type": "stream",
     "text": [
      "INFO:prefect.TaskRunner:Loaded write beam particles YAG02 fort.102\n"
     ]
    },
    {
     "name": "stdout",
     "output_type": "stream",
     "text": [
      "[2022-10-20 21:27:54-0700] INFO - prefect.TaskRunner | Loaded write beam particles YAG03 fort.103\n"
     ]
    },
    {
     "name": "stderr",
     "output_type": "stream",
     "text": [
      "INFO:prefect.TaskRunner:Loaded write beam particles YAG03 fort.103\n"
     ]
    },
    {
     "name": "stdout",
     "output_type": "stream",
     "text": [
      "[2022-10-20 21:27:54-0700] INFO - prefect.TaskRunner | Loaded write beam particles OTR1 fort.105\n"
     ]
    },
    {
     "name": "stderr",
     "output_type": "stream",
     "text": [
      "INFO:prefect.TaskRunner:Loaded write beam particles OTR1 fort.105\n"
     ]
    },
    {
     "name": "stdout",
     "output_type": "stream",
     "text": [
      "[2022-10-20 21:27:54-0700] INFO - prefect.TaskRunner | Loaded write beam particles OTR2 fort.107\n"
     ]
    },
    {
     "name": "stderr",
     "output_type": "stream",
     "text": [
      "INFO:prefect.TaskRunner:Loaded write beam particles OTR2 fort.107\n"
     ]
    },
    {
     "name": "stdout",
     "output_type": "stream",
     "text": [
      "[2022-10-20 21:27:54-0700] INFO - prefect.TaskRunner | Converting z to t according to cathode_kinetic_energy_ref = 1.0 eV\n"
     ]
    },
    {
     "name": "stderr",
     "output_type": "stream",
     "text": [
      "INFO:prefect.TaskRunner:Converting z to t according to cathode_kinetic_energy_ref = 1.0 eV\n"
     ]
    },
    {
     "name": "stdout",
     "output_type": "stream",
     "text": [
      "[2022-10-20 21:27:54-0700] INFO - prefect.TaskRunner | Converted initial_particles to ParticleGroup\n"
     ]
    },
    {
     "name": "stderr",
     "output_type": "stream",
     "text": [
      "INFO:prefect.TaskRunner:Converted initial_particles to ParticleGroup\n"
     ]
    },
    {
     "name": "stdout",
     "output_type": "stream",
     "text": [
      "[2022-10-20 21:27:54-0700] INFO - prefect.TaskRunner | Converted final_particles to ParticleGroup\n"
     ]
    },
    {
     "name": "stderr",
     "output_type": "stream",
     "text": [
      "INFO:prefect.TaskRunner:Converted final_particles to ParticleGroup\n"
     ]
    },
    {
     "name": "stdout",
     "output_type": "stream",
     "text": [
      "[2022-10-20 21:27:54-0700] INFO - prefect.TaskRunner | Converted YAG02 to ParticleGroup\n"
     ]
    },
    {
     "name": "stderr",
     "output_type": "stream",
     "text": [
      "INFO:prefect.TaskRunner:Converted YAG02 to ParticleGroup\n"
     ]
    },
    {
     "name": "stdout",
     "output_type": "stream",
     "text": [
      "[2022-10-20 21:27:54-0700] INFO - prefect.TaskRunner | Converted YAG03 to ParticleGroup\n"
     ]
    },
    {
     "name": "stderr",
     "output_type": "stream",
     "text": [
      "INFO:prefect.TaskRunner:Converted YAG03 to ParticleGroup\n"
     ]
    },
    {
     "name": "stdout",
     "output_type": "stream",
     "text": [
      "[2022-10-20 21:27:54-0700] INFO - prefect.TaskRunner | Converted OTR1 to ParticleGroup\n"
     ]
    },
    {
     "name": "stderr",
     "output_type": "stream",
     "text": [
      "INFO:prefect.TaskRunner:Converted OTR1 to ParticleGroup\n"
     ]
    },
    {
     "name": "stdout",
     "output_type": "stream",
     "text": [
      "[2022-10-20 21:27:54-0700] INFO - prefect.TaskRunner | Converted OTR2 to ParticleGroup\n"
     ]
    },
    {
     "name": "stderr",
     "output_type": "stream",
     "text": [
      "INFO:prefect.TaskRunner:Converted OTR2 to ParticleGroup\n",
      "INFO:lume_distgen_impact_cu_inj.model:Completed execution in 1.8 min...\n"
     ]
    },
    {
     "name": "stdout",
     "output_type": "stream",
     "text": [
      "[2022-10-20 21:27:54-0700] INFO - prefect.TaskRunner | Task 'evaluate_impact': Finished task run for task with final state: 'Success'\n"
     ]
    },
    {
     "name": "stderr",
     "output_type": "stream",
     "text": [
      "INFO:prefect.TaskRunner:Task 'evaluate_impact': Finished task run for task with final state: 'Success'\n"
     ]
    },
    {
     "name": "stdout",
     "output_type": "stream",
     "text": [
      "[2022-10-20 21:27:54-0700] INFO - prefect.TaskRunner | Task 'evaluate_impact[1]': Starting task run...\n"
     ]
    },
    {
     "name": "stderr",
     "output_type": "stream",
     "text": [
      "INFO:prefect.TaskRunner:Task 'evaluate_impact[1]': Starting task run...\n"
     ]
    },
    {
     "name": "stdout",
     "output_type": "stream",
     "text": [
      "[2022-10-20 21:27:54-0700] INFO - prefect.TaskRunner | Task 'evaluate_impact[1]': Finished task run for task with final state: 'Success'\n"
     ]
    },
    {
     "name": "stderr",
     "output_type": "stream",
     "text": [
      "INFO:prefect.TaskRunner:Task 'evaluate_impact[1]': Finished task run for task with final state: 'Success'\n"
     ]
    },
    {
     "name": "stdout",
     "output_type": "stream",
     "text": [
      "[2022-10-20 21:27:54-0700] INFO - prefect.TaskRunner | Task 'evaluate_impact[0]': Starting task run...\n"
     ]
    },
    {
     "name": "stderr",
     "output_type": "stream",
     "text": [
      "INFO:prefect.TaskRunner:Task 'evaluate_impact[0]': Starting task run...\n"
     ]
    },
    {
     "name": "stdout",
     "output_type": "stream",
     "text": [
      "[2022-10-20 21:27:54-0700] INFO - prefect.TaskRunner | Task 'evaluate_impact[0]': Finished task run for task with final state: 'Success'\n"
     ]
    },
    {
     "name": "stderr",
     "output_type": "stream",
     "text": [
      "INFO:prefect.TaskRunner:Task 'evaluate_impact[0]': Finished task run for task with final state: 'Success'\n"
     ]
    },
    {
     "name": "stdout",
     "output_type": "stream",
     "text": [
      "[2022-10-20 21:27:55-0700] INFO - prefect.TaskRunner | Task 'save_file': Starting task run...\n"
     ]
    },
    {
     "name": "stderr",
     "output_type": "stream",
     "text": [
      "INFO:prefect.TaskRunner:Task 'save_file': Starting task run...\n"
     ]
    },
    {
     "name": "stdout",
     "output_type": "stream",
     "text": [
      "[2022-10-20 21:27:55-0700] INFO - prefect.TaskRunner | Task 'save_file': Finished task run for task with final state: 'Success'\n"
     ]
    },
    {
     "name": "stderr",
     "output_type": "stream",
     "text": [
      "INFO:prefect.TaskRunner:Task 'save_file': Finished task run for task with final state: 'Success'\n"
     ]
    },
    {
     "name": "stdout",
     "output_type": "stream",
     "text": [
      "[2022-10-20 21:27:55-0700] INFO - prefect.TaskRunner | Task 'create_dashboard': Starting task run...\n"
     ]
    },
    {
     "name": "stderr",
     "output_type": "stream",
     "text": [
      "INFO:prefect.TaskRunner:Task 'create_dashboard': Starting task run...\n"
     ]
    },
    {
     "name": "stdout",
     "output_type": "stream",
     "text": [
      "[2022-10-20 21:27:58-0700] INFO - prefect.TaskRunner | Task 'create_dashboard': Finished task run for task with final state: 'Success'\n"
     ]
    },
    {
     "name": "stderr",
     "output_type": "stream",
     "text": [
      "INFO:prefect.TaskRunner:Task 'create_dashboard': Finished task run for task with final state: 'Success'\n"
     ]
    },
    {
     "name": "stdout",
     "output_type": "stream",
     "text": [
      "[2022-10-20 21:27:58-0700] INFO - prefect.TaskRunner | Task 'save_file': Starting task run...\n"
     ]
    },
    {
     "name": "stderr",
     "output_type": "stream",
     "text": [
      "INFO:prefect.TaskRunner:Task 'save_file': Starting task run...\n"
     ]
    },
    {
     "name": "stdout",
     "output_type": "stream",
     "text": [
      "[2022-10-20 21:27:58-0700] INFO - prefect.TaskRunner | Task 'save_file': Finished task run for task with final state: 'Success'\n"
     ]
    },
    {
     "name": "stderr",
     "output_type": "stream",
     "text": [
      "INFO:prefect.TaskRunner:Task 'save_file': Finished task run for task with final state: 'Success'\n"
     ]
    },
    {
     "name": "stdout",
     "output_type": "stream",
     "text": [
      "[2022-10-20 21:27:58-0700] INFO - prefect.TaskRunner | Task 'format_result': Starting task run...\n"
     ]
    },
    {
     "name": "stderr",
     "output_type": "stream",
     "text": [
      "INFO:prefect.TaskRunner:Task 'format_result': Starting task run...\n",
      "WARNING:lume_services.results.generic:No project_name passed to result\n"
     ]
    },
    {
     "name": "stdout",
     "output_type": "stream",
     "text": [
      "[2022-10-20 21:27:58-0700] INFO - prefect.TaskRunner | Task 'format_result': Finished task run for task with final state: 'Success'\n"
     ]
    },
    {
     "name": "stderr",
     "output_type": "stream",
     "text": [
      "INFO:prefect.TaskRunner:Task 'format_result': Finished task run for task with final state: 'Success'\n"
     ]
    },
    {
     "name": "stdout",
     "output_type": "stream",
     "text": [
      "[2022-10-20 21:27:59-0700] INFO - prefect.TaskRunner | Task 'save_db_result': Starting task run...\n"
     ]
    },
    {
     "name": "stderr",
     "output_type": "stream",
     "text": [
      "INFO:prefect.TaskRunner:Task 'save_db_result': Starting task run...\n"
     ]
    },
    {
     "name": "stdout",
     "output_type": "stream",
     "text": [
      "[2022-10-20 21:27:59-0700] INFO - prefect.TaskRunner | Task 'save_db_result': Finished task run for task with final state: 'Success'\n"
     ]
    },
    {
     "name": "stderr",
     "output_type": "stream",
     "text": [
      "INFO:prefect.TaskRunner:Task 'save_db_result': Finished task run for task with final state: 'Success'\n"
     ]
    },
    {
     "name": "stdout",
     "output_type": "stream",
     "text": [
      "[2022-10-20 21:27:59-0700] INFO - prefect.FlowRunner | Flow run SUCCESS: all reference tasks succeeded\n"
     ]
    },
    {
     "name": "stderr",
     "output_type": "stream",
     "text": [
      "INFO:prefect.FlowRunner:Flow run SUCCESS: all reference tasks succeeded\n"
     ]
    }
   ],
   "source": [
    "flow_run = model.deployment.flow.prefect_flow.run(\n",
    "    **parameters\n",
    ")"
   ]
  },
  {
   "cell_type": "markdown",
   "id": "0fc08d87",
   "metadata": {},
   "source": [
    "## Run the workflow inside the service cluster\n",
    "We can use the model interface to directly deploy workflows. When sourcing our environment (`docs/examples/demo.env`), we defined a mount point for the file system using the alias `/lume-services/data`. Let's kick off this workflow and save the file output to that directory. \n",
    "After running the next cell, you'll be able to see the running container in your docker desktop and examine the flow using the Prefect UI at http://localhost:8080/default?flows."
   ]
  },
  {
   "cell_type": "code",
   "execution_count": 12,
   "id": "90a5769f",
   "metadata": {},
   "outputs": [],
   "source": [
    "# use mounted filesystem\n",
    "parameters.update(\n",
    "    {\n",
    "        \"archive_filesystem_identifier\": \"mounted\",\n",
    "        \"dashboard_image_filesystem_identifier\": \"mounted\",\n",
    "    }\n",
    ")\n",
    "# use mounted filesystem path\n",
    "parameters[\"impact_configuration\"][\"workdir\"] = \"/lume-services/data\"\n",
    "\n",
    "model.run(\n",
    "    parameters = parameters\n",
    ")"
   ]
  },
  {
   "cell_type": "markdown",
   "id": "409851f9",
   "metadata": {},
   "source": [
    "# Get results:"
   ]
  },
  {
   "cell_type": "code",
   "execution_count": 10,
   "id": "b8ffa8be",
   "metadata": {},
   "outputs": [
    {
     "data": {
      "text/plain": [
       "[Result(project_name='test', id='634dc396801c25354c37e308', flow_id='c53eb190-bbb0-4d9f-ace6-756f7a44a832', inputs={'distgen:r_dist:sigma_xy:value': 0.1376666529, 'distgen:t_dist:length:value': 12.374624528658504, 'distgen:total_charge:value': 4.005441585e-05, 'SOL1:solenoid_field_scale': 0.0874263114, 'CQ01:b1_gradient': 0.0035238095224, 'SQ01:b1_gradient': 0.0035238095224, 'L0A_phase:dtheta0_deg': -8.8997, 'L0A_scale:voltage': 70000000000000.0, 'end_mean_z': 4.6147002}, outputs={'end_n_particle': 5183.83740234375, 'end_mean_gamma': 148.83367919921875, 'end_sigma_gamma': 0.48476168513298035, 'end_mean_x': 1.3811709322908428e-06, 'end_mean_y': 4.753492248710245e-07, 'end_norm_emit_x': 1.7238378859474324e-05, 'end_norm_emit_y': 1.3315763681021053e-05, 'end_norm_emit_z': 0.00019549435819499195, 'end_sigma_x': 0.002542009809985757, 'end_sigma_y': 0.0027486709877848625, 'end_sigma_z': 0.0009321933030150831, 'end_mean_px': -78.1666259765625, 'end_mean_py': -12.492935180664062, 'end_mean_pz': 76038152.0, 'end_sigma_px': 34257.1484375, 'end_sigma_py': 26001.109375, 'end_sigma_pz': 250141.40625, 'end_higher_order_energy_spread': 12340.572265625, 'end_cov_x__px': -12.867927551269531, 'end_cov_y__py': 1197.3001708984375, 'end_cov_z__pz': -13.803169250488281, 'x:y': [[1.5396431061364324e-15, 4.492893568714936e-15, 1.009289053971029e-14, 1.9131437665358738e-15, 2.260892719514653e-15, 6.74143398029e-17, -1.5074014058041283e-16, 5.0024791776949636e-15, -7.842674882254015e-16, 3.0550002953674263e-15, -2.351965066728725e-15, -2.2916690263784277e-15, -6.761532828048703e-15, -4.0553286301410994e-15, 5.955492040276775e-15, -6.427392306400511e-15, -3.0302957324278073e-15, -5.737253662603525e-14, 1.2463906859730423e-14, 3.316094686171833e-14, 6.49020096410972e-16, 6.920019468743561e-15, -3.538038663582731e-14, 5.5566585302490885e-15, -1.0762427732867452e-14, -2.3412874964505795e-14, -1.7091754715096302e-13, 1.3285021954051457e-13, -1.31993089960529e-13, -6.37308402665765e-14, 1.411660502034784e-13, 5.0681138973052153e-14, 2.7160233426453545e-14, 1.687054325177819e-14, 1.616688058348381e-15, 1.2571519007547292e-14, 7.772120214121284e-15, 2.9385953102833463e-15, 2.2280231824799764e-15, -3.6416305389220475e-15, 7.539100920936034e-16, -3.5423934293711545e-16, -1.9596218407802565e-16, 1.0840728940819297e-15, 4.585012636893577e-16, 6.625448091226354e-15, 6.934046757866566e-15, 4.251709407313746e-15, 8.161951034469078e-15, 5.932880919266295e-15], [5.899382883784755e-15, 6.795449297806186e-15, 6.4619368510883835e-15, 4.5808253295188256e-15, 5.987314644588645e-15, -6.856164195948901e-15, -1.4605045002371079e-15, -1.1439501825189283e-14, 6.699562097682566e-16, -1.1236840722229219e-14, 6.188720232962641e-16, -7.873659982739287e-15, 8.936797292859525e-15, -1.2175197373724689e-14, -6.197429722187842e-14, -2.319597693176828e-14, 8.691634617705082e-15, 2.056346798840359e-14, -1.3569166948911027e-13, 1.1141371638744187e-14, -1.9825218127312444e-13, -1.7134087388921e-13, -2.8452203040021636e-15, 2.7348449229531134e-14, 1.651316480473855e-14, 1.4426041741386064e-13, -3.4435748387995e-14, 1.0939861484152852e-13, 4.4996141822283356e-14, 8.771966714202911e-14, -1.7701917947969548e-14, -6.235114556824364e-14, -5.58634593390752e-14, 8.467366890106687e-14, 4.711613654025289e-14, -1.3127791802030556e-14, 1.86440438960803e-14, 1.9028849269952033e-14, 4.610973349693974e-15, 1.2927014500345186e-14, 1.5460914409089373e-14, -2.1564214757453207e-16, -8.892831200699343e-15, -4.0197372586095394e-16, 1.6158506604009018e-15, -2.93022090729208e-15, 8.76616758783283e-15, 3.6617292543318527e-16, 1.0182496461134428e-14, 2.9044694116296546e-15], [1.449638613358964e-14, 1.1457088770273124e-14, 1.6350071998876524e-14, 5.477729459125091e-15, -2.0291298938275365e-15, -4.059097079723434e-15, 2.3264229999625085e-15, 4.007175495303962e-16, 5.47270475380286e-16, -1.7766400872178123e-14, -1.4823200243760555e-14, -5.748559180757118e-14, -5.763507618210262e-14, 1.401862397595443e-14, -6.675862391104098e-14, -3.5252257655962044e-15, -2.136599138715875e-13, 8.84237480328412e-14, -1.2773217542266097e-13, -8.83207420501915e-14, 2.308819910430693e-13, 1.1626043552349918e-13, -1.6600090713917576e-13, 8.870847985212663e-14, 4.040338349260361e-14, -1.4365745192815998e-13, 2.0955267143914214e-13, -1.6941852922728456e-13, -1.2434721492499828e-13, 4.189361599055315e-14, 8.031874725858076e-14, -3.687690073011368e-14, 2.7075860474577544e-14, 8.263407455045071e-14, 1.0132250466703303e-14, 1.35082225895429e-13, 1.0295615000734809e-13, 4.7977237010695187e-14, 4.0299330577231104e-14, 4.096112080705268e-14, 6.276024130594379e-15, -1.223926186365732e-15, 1.1186175446489203e-15, 1.550948560762554e-15, 4.371254978808008e-15, 6.783515874128794e-15, 1.1602804483463991e-15, 3.969490470085026e-16, 9.415815600355513e-15, 3.273992193550553e-15], [5.633913017236364e-15, 1.0186264910716763e-14, 6.385101221893525e-15, 6.571432800179947e-15, 5.769997754058714e-15, 6.320617874168476e-15, -2.2987873324484753e-16, -4.93422738038758e-15, -5.7607858472408496e-15, 8.681585418818857e-15, -7.679372753374898e-16, 9.658926084085348e-14, 3.43582855309027e-14, -2.7031896076483257e-14, 5.414544274095004e-14, 1.3066846595629483e-13, 3.89466460655203e-14, 2.873973845365918e-13, -1.7424304593572845e-14, -9.685389426236646e-14, 1.3644077187513481e-13, 1.7015589512479196e-13, -4.115390211771597e-13, 2.1664729743259975e-13, -7.218862009897298e-14, 1.4324416761253567e-13, 1.9414074772165606e-14, 1.7152259972584571e-13, -5.0083831667439155e-14, 3.4836045994472015e-14, 4.3275612585623457e-13, 2.8883486805775108e-15, -1.0840644788095988e-13, 1.7957191994228544e-13, 4.3401019540409425e-14, -2.296400510070143e-14, -4.262680093343289e-14, 1.4791878659436986e-13, 7.412960626200157e-14, 4.095232860506018e-14, 2.3654479254248822e-14, 1.6141337669684647e-14, 1.3012224320773074e-14, -5.082455181541767e-15, 5.7448743333266775e-15, -2.9478072171012105e-15, 4.3978437665387945e-15, 5.972240846259308e-15, 4.0616093397403207e-17, 1.0418656023092505e-14], [1.826049297800345e-15, 6.264718358330902e-15, 1.329025610944572e-14, 1.8587098294552866e-15, 5.6942090575866616e-15, 2.137160264162113e-15, -1.2257686524325996e-14, -1.2277784922098446e-14, 5.937319456613202e-14, 2.6875711671339036e-14, 5.835737251644541e-15, 1.284976001335791e-14, 1.4236987375690693e-14, 2.2518358705481134e-13, -2.7240000213162377e-14, -1.90435050575219e-15, 2.198069742713471e-13, -3.2247923271609344e-14, 2.5270538496512986e-14, -2.1642892556253401e-13, -1.2012398996515128e-13, 3.5681280521372705e-13, 8.450471632127574e-14, 1.9849964703086247e-14, 6.55091554461508e-15, 8.942575412812515e-14, -1.2026969996086975e-14, -4.320798920205964e-15, 2.535725535796063e-13, -1.6327125198709047e-13, -1.2743069945607421e-13, 1.661200338528776e-13, -5.608831609338512e-14, 3.606164845904036e-14, 1.0414154890010796e-13, 1.2780251642673275e-14, -1.0639574751824046e-13, 4.8471748397829403e-14, -1.1498123281402858e-14, 2.3361792101522783e-14, 2.643856474352467e-14, 3.7579097819651075e-14, 8.519330328541665e-15, 1.2006243099867663e-14, 2.732500166348524e-14, 1.1741819742525604e-14, 8.080508816590577e-15, 1.3166733294747626e-15, -5.0091787847912714e-15, 1.2226491147911567e-14], [5.501387089341904e-15, -2.7715250494592504e-15, 1.4471053919236105e-15, 1.1469231834604961e-14, 1.2108411366932529e-14, -5.010016076859632e-15, -8.631129360216813e-15, -8.454009688748255e-15, -1.449785150058839e-14, 6.751064771370061e-15, 1.7614447227198848e-13, -7.301852942816559e-14, 1.0162062977128045e-13, 4.6078331444486184e-14, 8.605922506739472e-14, -1.4985663534736182e-13, -4.702087582687288e-14, 1.8366346854828408e-13, 8.645073047187923e-14, 2.1796292255880229e-13, 4.6884791513567003e-14, 1.1717177521210903e-13, 1.7270424456858335e-13, -2.334445570878474e-13, -2.4981829010507252e-14, 2.357205413933833e-13, -1.4891451786958054e-13, 1.1594261520916221e-13, 2.5127168683421186e-13, -1.1837372174052646e-13, 2.1756660600717737e-13, 3.924934108192474e-13, -2.162455327650581e-13, 4.01678507350265e-14, 2.9344040218537426e-13, 5.829707647609511e-14, -2.665085830516091e-14, 1.360207926110954e-13, -2.46527126647857e-14, -1.4386723149600877e-13, 2.0627783877714967e-13, 3.545073102803088e-14, 5.636718305654376e-14, 3.326206904309334e-14, 2.4997321243112533e-14, -2.328097795857467e-15, 8.710477712649701e-15, -3.222070556191522e-15, 2.256915052794347e-15, -6.0840398779344555e-15], [1.0170772466353245e-15, 8.571252389417169e-16, 1.2942716373604913e-15, -2.869087363115185e-15, -9.06660085686151e-15, 1.0778339246781624e-14, 2.060240948112066e-14, 4.304699026164323e-14, -1.4309427327405776e-14, 1.8487190673720927e-13, 7.961131211729755e-14, -5.5319958954403586e-14, 2.4075126657877033e-13, 1.228419086287194e-13, 2.673242486747607e-13, 1.2605267849484514e-13, -7.494632220600775e-14, 2.2590127468288812e-13, 1.8270899116573647e-13, 3.813976925622943e-14, 1.8640484663635937e-13, -2.4772049103845284e-13, 1.7281792316636846e-13, -1.669614560538893e-13, 1.6557674014424512e-13, 2.55703851105224e-13, 1.542804512616458e-13, -2.2915390830539895e-13, 2.781132529133812e-13, -2.0502627644681387e-13, 1.8716063719453543e-14, 2.9949198503131935e-13, -9.029167252197143e-14, 2.301665802395547e-13, -7.646126434909459e-14, 5.944730656088498e-14, -7.708683545009157e-14, 3.5969111803618725e-13, -6.234779978810199e-15, -8.70909586309955e-14, 1.4849453860554113e-13, 3.3564805394705605e-14, 8.499064218245658e-14, 3.484881925131661e-14, 2.886296955021024e-14, 1.971848655494754e-14, 1.0290108608951298e-14, -4.455208543496e-16, 3.345803223302299e-15, -1.2189015869226195e-15], [-4.7830684217194195e-15, -8.855983573427886e-15, 2.4926557569600067e-15, -5.548074804240732e-16, -2.241422142562708e-14, -7.131642010878986e-14, 6.02332514919833e-14, 3.343919040862779e-14, -1.1282899832802066e-14, 2.440704973197261e-13, 1.7808691533168636e-14, 9.154616219817294e-14, 1.9307886994952839e-13, 3.883798867904652e-14, -1.1503985596430805e-14, 1.1760578134175498e-13, -1.1515960440019318e-13, -3.5108218009215555e-14, 8.847902201484723e-14, 7.212434723893532e-14, 3.452577308250826e-13, -2.4180603266227285e-13, 9.780941857763688e-15, 2.131057374836487e-13, 1.4520609920628397e-13, 7.157079426724569e-14, 2.669888507327023e-13, -9.383950729099574e-14, 8.247077337448366e-14, 1.1229617225255034e-13, -2.222395444756442e-13, 1.6764355474565423e-13, 8.861636332504683e-14, 2.0975930682069072e-13, 3.8016998945601677e-13, -2.2351413932588174e-14, -1.1002732335256213e-13, 3.3496637538363294e-13, -3.2838742304846374e-14, -1.2780210646278628e-13, 7.901421487585547e-14, -7.758092670888395e-14, 3.6675496624047343e-14, 1.1121796029706782e-13, -1.063890407113641e-14, 5.0173020848653244e-14, 1.803228959651893e-14, 2.029548539861717e-15, -2.209180511051831e-15, 2.6212035946176875e-15], [-1.990188612868704e-15, -7.160156909180181e-16, -2.5780752180423402e-15, -1.4841204776087392e-14, -3.4247322944262965e-15, -4.416225821450223e-14, 1.0617298462937616e-13, 4.841019620761833e-14, 1.013308733525519e-14, 1.2574994214323287e-13, 2.1950131057386912e-13, 2.8231220529709167e-13, 1.371484035280618e-13, 2.8184388416868655e-13, 1.826895161842132e-13, 3.642233541677198e-13, 4.313069270223818e-13, 2.904831594447571e-13, -3.0098621213664814e-14, -1.2749266330429766e-14, 1.2880409900554307e-13, -8.539764490174406e-14, 3.941917525360737e-14, 2.89753545592783e-13, -1.1431797891127415e-13, -3.37715722357676e-13, 1.5467320349862868e-13, -2.110362074004898e-16, 2.2634574336349855e-13, 1.158827401441867e-13, 1.1971657389378554e-13, 1.9700648718704722e-13, -4.2046871355765764e-14, -2.763506654415715e-13, 5.760262465582741e-14, 2.7870177479326526e-14, -1.1869028166983792e-13, 4.1571891870768873e-13, 5.215902173063072e-14, -7.282507387927628e-14, 8.780403839983922e-14, 5.503418020239535e-14, 7.515945602432766e-14, 1.4390240030397877e-13, 8.198672453831393e-14, 6.597791703168848e-14, 3.5791363633703305e-14, -5.4082215119569295e-15, 4.356390397616643e-15, -4.241660208427521e-15], [-6.482244889515279e-15, 6.954564013431433e-15, -9.148252291877983e-15, -3.541723595716466e-14, 3.5191542334302855e-15, -7.065651368024298e-14, 1.3486511441038879e-13, 3.848060853794098e-14, 1.711579012200759e-13, 2.6066320868260717e-14, 1.5188242644906952e-13, 2.799625494539354e-13, -4.190994678577621e-14, 1.1779421567933296e-13, -8.731622873738368e-14, 3.710621491060523e-13, -2.32895625527918e-13, 2.1397563354421528e-13, 1.679496504299353e-15, 1.5337391594391278e-14, 2.614933280759707e-13, 7.39367876818886e-14, 9.230698752018748e-14, 5.856191996177901e-14, 1.2705845219267847e-13, 1.3537009512475107e-13, 5.641031058608616e-15, 2.539100386108467e-13, -1.20305715801787e-13, 1.3566990413049762e-13, 4.308467306340068e-14, 1.1742322880096273e-13, -1.0176215711830538e-14, 1.9790716103678524e-13, 8.058735834681405e-14, 1.7331118094474074e-13, -7.579717018965648e-14, 2.6293225409423915e-13, 9.051129122453552e-14, 1.7821882207849638e-13, 2.652501157086873e-13, 1.469574109754998e-13, -8.020715574997769e-14, 6.478392583671166e-14, 1.1409521602240985e-13, 2.642139707974972e-14, 1.8853405029653145e-14, 1.7318367876925644e-14, 6.304706783770778e-15, -8.392875932813123e-15], [1.0445035381927083e-15, -4.373557637875119e-15, 8.40815979531338e-15, -2.4487317623373035e-14, 1.1642854107034306e-13, -8.507481015235935e-14, 2.5407041921721163e-13, -5.833643301495633e-14, -4.612313609926415e-14, 1.3293396907614139e-14, 6.5350040307009076e-15, 3.5266410560071126e-13, -1.0579696976343103e-13, 5.47378928208303e-13, 2.4727789260658994e-13, 3.453146785441924e-13, -1.4542363081966603e-13, 2.986725450293548e-13, -2.5888782762516216e-14, 1.3565566381258838e-14, 3.3275886268045425e-15, -3.839267635362062e-14, 7.98709243274992e-14, -6.93697757656736e-14, 6.542624786127355e-14, 1.91076118143986e-13, 1.7797281660555941e-13, 1.6000877922986434e-13, -2.3132499605074686e-13, -6.146429529620481e-14, -1.1892643445553241e-13, -1.7070315972388117e-13, 7.266470682543852e-14, 5.6456788977967895e-14, -6.998655805280987e-14, -1.1222980552706707e-13, -4.8792909410110344e-14, 3.6825189707496986e-13, 7.365854074684736e-14, -1.5572085450537426e-13, 6.9101794869953076e-15, 3.420566035820284e-14, -1.3927635357947193e-13, 9.605036492728314e-14, -7.40171812729784e-14, 4.05817584669e-14, 5.64264313171383e-14, 3.952322816897988e-14, 6.450212644548963e-15, 7.73422565412702e-15], [8.862264322731777e-16, -1.9401931707833768e-14, -3.996456282768547e-14, -8.272032960953551e-14, 8.6581790185742e-14, 2.915251590476786e-14, 1.7768180318993715e-13, 2.165771631045671e-13, 2.1276803561197377e-13, 2.0224155737689348e-13, 1.7555992467069292e-13, 2.7966317412905783e-13, 3.266266787203473e-14, 1.8954400494899243e-13, 2.2104262593480167e-13, 3.2005252397979134e-13, 7.718649395853372e-14, 4.2492599066148995e-13, 2.4898692049107884e-13, 4.059390153123184e-14, -2.609529617132039e-13, 1.1669234101143594e-13, -1.4599308090570973e-13, -2.6559996064469404e-13, 6.268110217064887e-14, -2.2392029162409018e-14, -8.475280888339473e-14, 2.8772147967100203e-13, 1.8311075583327813e-13, 9.608302651772926e-14, 6.631791605671636e-14, 1.0145523472986778e-13, 2.28445842971603e-13, 2.1706287212531344e-13, 4.4314671290152097e-13, 1.7637224959590053e-13, -5.037986968250453e-14, 1.8759946124758536e-13, 2.190174718018703e-13, 3.197575464499759e-14, 1.6237498270867817e-13, 7.550071543438105e-14, -1.5319385367998546e-14, 1.396996803177189e-13, -8.223377355584191e-14, 1.3612232814454867e-13, 1.210633833849742e-13, 2.3864887320544474e-14, 1.7667582620419647e-14, 1.4169573717484618e-15], [2.120830077743981e-16, -4.2135640408638014e-14, 7.275640322417648e-14, -5.5619344443676513e-14, 2.2684821686033696e-13, -6.715892490564979e-14, -1.4620119012458653e-14, 6.36759864129123e-14, 1.0267916345733236e-14, 1.0443989423292166e-13, 2.6314205060274688e-14, 1.416312542506376e-13, 1.7466009107763858e-13, 1.6041431149995539e-13, 2.8068736571129627e-13, 2.1519579466913047e-13, -1.8241232295815833e-14, 7.358924667549838e-14, 1.422128609535403e-13, 2.501846657360779e-13, -5.815471395458419e-14, -1.3877054616095313e-13, -4.560936318290937e-14, 7.4662430643406e-14, 2.6068749481127085e-13, 1.1074648142983534e-13, 9.313773032980019e-14, 1.4099981490538205e-13, 9.767500800143478e-14, 1.5539425215344016e-13, 2.7064513282402947e-13, 1.7302455515978525e-14, 7.454833191727905e-14, -1.9944386853848473e-13, 4.0107345477538234e-14, 1.3524657739225066e-13, 7.50685931060098e-14, -9.530126508235743e-16, 1.6933018030275415e-13, 1.6807106921479242e-13, 3.0688347913213065e-13, 6.48412936841633e-14, 1.2087307879864867e-13, 8.441238973002502e-14, 8.53251998678313e-14, -1.2668620492928273e-13, 1.267779013280207e-13, 3.80512102675281e-14, 2.5660370163893727e-14, -4.250034664358347e-16], [1.965484049929085e-15, -4.395289538686349e-14, 4.3859938603100015e-14, -7.644493355387152e-14, 3.0155608912729726e-13, -4.649370284929254e-14, 2.0000307291399844e-13, 3.270135898181259e-13, 6.92609100090948e-15, 6.40515811505156e-14, 5.0299472703282944e-14, 1.6375341024572193e-13, 3.6467015388300106e-13, 1.5208926511852544e-13, 2.2004586466752712e-13, 3.222453770837519e-13, 1.604712592190652e-13, 1.9571933592039958e-13, 5.011356252388778e-14, 5.828786753389256e-14, -1.8982120833944266e-13, -2.1252266710781315e-14, -1.3694407207612974e-13, 3.5483267257600815e-13, -6.250398419324621e-14, 1.9345110366039697e-13, -1.8111553923283452e-13, -1.5527114099675443e-13, -3.0048373186354616e-13, 2.2234129684953197e-13, 2.0332333025888626e-14, -8.642853820866117e-14, 1.7195263496503493e-13, 9.917654669516426e-14, 2.800224245189109e-13, 2.128371263954154e-13, 2.338804605712952e-13, 1.513410199298435e-14, 1.063057180803427e-13, -9.735049951494629e-14, 1.018900811161974e-13, -1.438144715077902e-13, 5.046968566809959e-14, 1.3448742750140578e-14, 2.0871228939458968e-14, -6.027930721442436e-15, 6.173939804494585e-14, 7.80258222940998e-14, 2.080465214980478e-14, -5.782559464424732e-16], [-5.496153272760819e-15, -1.4076198499445199e-14, -4.694550683522619e-14, 5.969728292427867e-14, 1.2504145668109506e-13, -2.2161732762511835e-14, -2.6392924914260714e-14, 2.7403364408380704e-13, 1.7136810091626653e-13, 2.9600047456515566e-13, 2.1698247853422364e-13, 2.1671827201731608e-13, 7.180862756630754e-14, -2.937464860111941e-14, 7.747520344453945e-14, 1.093414570582478e-13, 1.545136767014746e-13, 5.292821573816414e-14, -2.929718574402711e-14, 1.2902854240777473e-13, 2.118924915357149e-14, -6.888657396245113e-14, -5.241255563240288e-13, 4.528066611849671e-15, 1.0190682526349873e-13, 2.0382286624546359e-13, 8.094222449413213e-14, 6.237074658826947e-13, -8.802219342947046e-14, 1.9065968964206148e-13, -1.630757161252827e-13, 4.2638001419501026e-13, 1.5913888316929775e-13, -1.2118461074038522e-13, 2.8710052998176527e-13, -3.050184955413933e-14, 3.440712883877317e-13, 3.0076846114173274e-15, 1.5645780027453982e-13, 3.1473391601255507e-13, 2.4343445011523746e-13, -1.3822871273712171e-14, 1.3539626505468944e-13, 6.134077078744082e-14, -1.0486991591958372e-13, -3.5481718881373234e-14, 1.2641068205219985e-13, 9.26817420011071e-14, 5.99340726787495e-14, 2.2914385910651272e-14], [1.3968587198661276e-14, 4.244633209369089e-14, 5.997322592970339e-14, 1.635028036898155e-14, 1.4459309129796066e-13, 1.2951969954443782e-13, 1.0292955994906788e-13, 1.58198635940264e-13, 9.436458640313047e-14, -8.167184851050162e-15, 4.3492719327279175e-14, 2.5207269539924415e-13, 1.7104965718568038e-13, 2.3026017399209453e-13, 2.5299012017254707e-13, 1.5407484587216108e-13, 2.466259618402744e-13, 3.7989658077317023e-14, 4.129086666766063e-13, 2.5318104817512177e-13, -2.674544613556762e-13, 1.7418274396614752e-13, 5.95524064089803e-14, -9.307450101435355e-14, 5.116790509091668e-15, 2.8106987223774915e-13, -5.822254435300031e-14, 5.982817865256285e-13, -2.462779871530152e-13, 2.065311626147509e-13, -7.863946039493586e-14, 2.594824040965532e-13, -2.7204409582784646e-14, 1.5342646586796044e-13, 4.483560332897707e-13, 1.048177861238779e-13, 3.1451658768708035e-13, 2.4468811308728244e-13, -8.924737576569697e-14, -1.3840876653071956e-14, 3.4236644823413404e-14, -4.344247333284805e-14, -3.178188574403003e-14, 1.8680891523351756e-13, 5.995919906409686e-14, 3.563455073011222e-14, 1.2655242793372518e-13, -3.5283242121172606e-14, 1.1789260702648602e-13, 3.7449715231023875e-14], [-2.9503195168227667e-15, 1.1293786747273125e-14, 4.157496897205966e-14, 8.146541980499217e-14, 5.897456730862699e-14, -9.185686065948939e-14, 2.588166429762749e-14, 2.5503557599115823e-13, 1.5859538617275792e-13, 2.4340514955152603e-13, 4.916054881427302e-14, 1.7190656992523146e-13, 1.624760981137896e-13, 3.750498582489811e-14, 4.7767877571188236e-14, -8.810761331406926e-15, 2.5861983995317805e-13, -3.454796670097904e-14, 3.235086623500777e-13, -2.550703246707864e-13, 1.5727640001982068e-14, -1.730312670488593e-13, -2.680670626881848e-13, -3.5572998539901146e-14, 8.180709256712382e-14, 1.749088206085339e-13, 1.6177139380672834e-13, -1.052375553237464e-13, 4.297454861586225e-14, -4.448174210154761e-14, -3.340661352147639e-13, 3.1379575587270336e-13, 1.7262175033578436e-13, 3.4360714143769067e-13, -9.110525105594097e-14, 4.2497414956673904e-14, 2.8682709419386443e-13, 5.097968759377319e-14, 1.4135029681016514e-13, 2.343548532318662e-13, 6.141488278219379e-14, 1.169312178550888e-13, 1.8206939319913296e-13, 9.42795866468735e-15, 1.9350177655943351e-13, 1.809928566748201e-15, 1.4355445272177386e-13, -2.129204507205027e-14, 1.2781884383382403e-13, 1.1250449153559806e-14], [3.218553421284638e-14, 4.271305599251769e-14, -4.380676187467139e-14, 1.0971851546878394e-13, 7.975053722877185e-14, 5.434601082549744e-15, 2.188575248763744e-13, 2.4523075627461144e-13, 2.782637943850308e-13, 2.557268904013893e-13, 9.141384887554824e-14, 1.288803184182688e-13, 1.6461995883208097e-13, 2.6195663476932807e-13, 3.6457927063589246e-13, 5.167405674362524e-13, -1.6281107592750615e-13, 2.1278961123520623e-13, -9.691879731491687e-14, -3.116837300407016e-13, 2.649760463401419e-14, 2.610735537939045e-15, -1.1687009595761494e-13, -9.024477400174785e-14, 1.1420282308802904e-13, 5.098617925428095e-14, 2.1875535237414478e-13, 9.357446051740451e-14, 1.9835561416037956e-13, 3.147956613262781e-14, 3.543117676422375e-13, -1.9399838181201334e-13, 1.7470405547573287e-13, 3.242378764025007e-14, 2.3528588474243384e-13, 2.0169136543193855e-13, 2.324084392817116e-13, -2.0586917248515378e-14, 1.6237183852237796e-13, 1.2768611038285749e-13, 6.75169284630045e-14, 1.5609644924297755e-13, 1.996209865158874e-13, -1.5406983143711334e-13, 1.337638767112681e-13, 1.9609178647170267e-13, 5.828158593755572e-14, 2.1654659876769837e-14, 1.905700938850327e-13, 2.3380633502401507e-14], [-2.3413713527123577e-14, 4.037532976139055e-14, 8.059007562850884e-14, -1.3675480764626345e-14, 1.4785975178607802e-13, 6.404237220831305e-14, 6.644249088633494e-14, 1.5052911174484596e-13, 1.2017548956834434e-13, 2.4216403621962757e-13, 1.2337452294595291e-13, 2.917805699744619e-13, 3.141795092316546e-13, 1.0998964055080468e-13, -1.434125035523412e-15, 9.928311021619243e-14, -1.2752616345736156e-13, 8.585321310209532e-14, 9.779643864475315e-14, -2.66600697884623e-15, -7.23820688715987e-14, -2.1361636960183505e-13, -2.7860756778887164e-13, -1.0060648230573056e-14, -1.2857590155328918e-13, 4.069184225685696e-13, 1.7552182851685721e-13, 4.0331426349668464e-13, -4.662769668528459e-14, -8.599097454063676e-14, -8.044498904903954e-15, 1.3916079118041214e-13, 3.2344564309880197e-13, -1.0479789779027637e-13, -2.520710229326898e-16, -2.1931058585920177e-13, -3.3633476049805405e-14, 3.461412336229139e-14, 9.705362463132902e-14, 2.9687894937541204e-13, 1.0747563321082676e-13, 1.4390910880492103e-13, 1.9286364226576286e-14, 1.1173655452495837e-13, 9.138055709258935e-14, 5.508086865844801e-14, -7.993540725170778e-14, 4.0961961063736355e-14, 5.966922919306561e-14, 5.898461650751322e-14], [1.353625565315205e-14, -5.908260127885159e-14, 7.556896596113902e-14, -7.485923027837106e-15, -1.970089876283075e-14, 8.402339154306437e-14, 1.0324946057632331e-13, 3.1958669651638294e-13, -2.0364490801137725e-13, 3.5501817279145684e-14, 1.2687546597101723e-13, 1.300041617326858e-13, 1.6870335093431403e-15, 2.809379790434663e-13, -6.683148229703201e-14, 8.391808840706172e-14, 1.1437953448961702e-13, 1.001117659366231e-13, -2.9734332671841474e-14, -1.7154605915035287e-13, -4.5816628756970706e-14, -1.7718331413608263e-13, 1.2889517198803185e-13, 5.4941433482802796e-14, 1.2184095963055364e-13, 5.65453933676352e-13, 3.31349449831167e-13, 1.9639871055420616e-13, 3.2781374457394735e-14, -9.695690024501616e-14, 1.4172567470733394e-13, -8.207047237987486e-14, -9.761848041066681e-14, 1.9687039270934598e-13, 3.252375582393774e-13, -2.8732746704899365e-15, 4.8778465804293764e-14, 2.3757734603398195e-13, 1.7459895223950576e-14, 1.7916680780053623e-13, -7.968543088831409e-14, 1.328123266745862e-13, -8.443416186490124e-14, 2.4196053147185204e-13, 2.8803929236204248e-15, 8.263511809504173e-14, 3.672009121465439e-14, 1.1225974305955483e-13, -9.866109665357392e-14, 9.07298663825086e-14], [4.78587404895061e-14, 2.8087913227648875e-15, -5.3696988770322775e-15, 1.7563907142928437e-13, 7.764331576764691e-14, 1.5140591959426214e-13, -6.873122811992469e-14, 9.749370229314089e-14, 8.378346437855691e-14, 3.1185918105726407e-13, 1.5872601898201527e-13, 2.0383418006454006e-15, 2.69381440981889e-13, 1.0090649968158213e-13, 2.5906620598759034e-13, 8.978878567305476e-14, 5.788421567694442e-15, 3.978911858738658e-15, -4.849519765794119e-14, 4.9429369966677225e-14, -4.888670306242571e-13, -2.4841012493531656e-13, -2.7210354737634834e-13, 2.0492787154713366e-13, 2.415908185310345e-13, 3.4863306902846447e-13, 8.46123301631585e-14, 3.9810974070304816e-13, 2.781691706404271e-13, 1.6779303912018567e-13, 1.9608299088157838e-13, 1.0693024563674866e-13, -3.619480203834874e-14, -3.271680886277051e-13, -4.5090565667111476e-14, -4.7110901876638855e-14, -1.164576518986743e-13, 2.957144891371083e-13, 1.2939868902946128e-13, 8.889544374050817e-14, 7.228304055566931e-14, 2.6556353145169853e-13, -7.008914390711773e-14, 3.417111496648202e-14, 1.7298269479153194e-13, -4.270300679363147e-14, 6.724182571426346e-14, 9.253288781908842e-14, 1.6148037700297428e-14, 1.4638417973437956e-13], [1.1903698241954447e-13, 1.189536479300618e-13, -5.869234948312901e-14, -7.243901468488437e-16, -1.9198516745550648e-13, 4.5047854877779125e-14, 2.9925121083386463e-13, 1.9334014912057024e-13, 1.4538928871585255e-13, -3.602605613459674e-14, 1.4581303558244135e-13, 1.1650706441268532e-13, -5.2385548833912624e-14, 3.0813798659602406e-15, 6.197052961932903e-14, 1.8419001133335167e-13, 2.788257092659757e-13, 1.1509387464348625e-13, -6.931073418111819e-14, -1.1790392338666134e-13, -2.9973967101762367e-13, 2.922767822037542e-14, -4.254213626340986e-13, 1.1699780142100658e-13, 1.8547319170954257e-13, 1.9751858297816643e-13, 2.520015175266205e-13, 1.707224314174971e-13, 7.105848841195556e-14, 3.897729849381554e-13, 2.8689619175356965e-14, 1.0243462843359183e-13, 1.1821754241757992e-13, -1.7745548953895796e-13, 2.819087736687098e-13, -4.7803049767290023e-14, 5.93631453672458e-14, -1.0794920594350485e-13, -8.700218449592557e-15, 1.8648231626971525e-14, 8.659916452555608e-14, 1.502439530209551e-13, 2.4188978728009736e-13, 1.9269762380810102e-13, 3.467829322312266e-13, 9.68317019991484e-14, -3.793375729093003e-14, -6.633236305066473e-14, 1.0333990336629933e-13, 1.1343907719641236e-13], [1.506580775932631e-13, 1.427090426896465e-14, -8.814529780989261e-15, 2.39049584164e-13, 7.014713517081855e-14, 5.269959138130484e-14, 1.0553715426532204e-13, 7.977084399664932e-15, 5.5366437346285324e-14, 1.925537806729983e-14, -1.163722303200096e-13, -8.198589126965207e-16, 2.74517062727464e-13, 4.3756515880240265e-14, 1.0881491427318021e-13, -5.817815982656419e-14, 3.4119613669223066e-15, 2.2656285484853877e-13, -1.052668724046003e-15, 7.52972174628691e-14, -2.0041698064587193e-13, -5.08546601097476e-13, -7.656845806263551e-14, 8.380335271215844e-14, 2.4508295241344735e-13, 3.3870933943865034e-13, 2.802167135482203e-13, 2.37498849796694e-13, 4.527559696512057e-13, 4.4853923635186643e-13, 4.931465934394919e-13, 2.8103574697437017e-13, 2.3279888758907796e-13, 1.288503673332539e-13, 2.762767499584623e-13, -2.5382503716052385e-13, 3.4323970532143533e-13, 1.3369729314535034e-13, 1.0345087145865323e-13, 3.024261884757712e-13, 1.3963477726516849e-13, 4.1848604659736055e-14, 1.6084497015539378e-13, 2.220971751778697e-13, 1.9310775038489797e-13, 2.05543400225508e-13, 2.5294761944738564e-13, 5.0505694732753265e-14, 9.318839645257315e-14, 2.4871077758587858e-14], [9.156668072428722e-14, 3.686852865646302e-14, -4.850901784750859e-14, 4.1871843855676924e-14, 7.801765689648826e-14, 1.410299692783043e-14, 1.7423027267888386e-13, -4.712053094718324e-14, 2.508749501542451e-13, 2.7427840272424564e-13, 6.05489643883475e-14, -6.677076697537282e-14, 1.0831642521932569e-13, -1.7875017601070436e-13, 1.5064425401556392e-13, -5.4840938105808756e-14, 1.44948370797357e-13, -4.198782977121035e-14, -1.9695916176221823e-13, -1.7243499651157373e-13, -1.1075841442999626e-13, -1.3334556440806888e-13, 1.2295894825323922e-13, 1.0231738552116468e-13, 2.6700977583463126e-13, 4.4301942756647117e-13, 3.0738931365570377e-13, 3.81820605948463e-13, 2.415271758635096e-13, 3.035923292274423e-13, 5.328446559850486e-13, 2.592952436965279e-13, 2.5760402383272207e-13, 2.3469653954652503e-13, -1.5455303324033581e-13, -2.350323711694524e-13, 5.516670528325687e-16, 1.5656416050766064e-13, 1.2879154936539655e-13, 1.043067338773497e-13, 1.1352114452460593e-13, 2.2618014503417855e-13, 4.05824923362455e-13, 2.4660376280079277e-13, 2.403337945322548e-13, 3.5556667744678083e-14, 1.5932333306389185e-13, 1.4554798880885012e-13, 5.791185266794743e-14, 2.2345530102923367e-13], [9.3342691974245e-14, 8.844384643061365e-14, 1.3627914443627154e-13, -2.9627555698510596e-14, 1.1680707670633922e-13, -3.9214630349372614e-14, 1.4738743266216187e-13, -4.3208407636335586e-14, 2.2238045010048585e-13, 1.7400520586040302e-13, -9.941856772511734e-14, 3.1562515730339247e-13, -2.176687649568798e-13, -1.5571373942861733e-13, 1.7323183089824196e-13, 1.236598849577511e-13, 1.9647617679943025e-13, 2.429512415357514e-14, -1.900138168553847e-13, 2.58351867527787e-15, -1.3297834513224804e-13, 1.0269884172676297e-13, 1.554348690773269e-13, 3.9381115013968626e-13, 2.875793407661892e-13, 3.8367868452661436e-13, 4.4166693956640413e-13, 5.544557326285504e-13, 4.1448891844805824e-13, 1.6499681395470978e-13, 1.4407785132054124e-13, 1.0548544459795806e-13, 3.209517341565965e-13, 1.4639840988789343e-13, 1.9898473602349143e-13, 1.9116363019996453e-14, -8.345979106655441e-15, 2.0718814847369565e-13, 8.158349619783942e-14, 8.52850030722864e-14, 2.288298131709887e-13, 3.6147674480416225e-13, 3.1571915763174696e-13, 1.7695385629880322e-13, 1.889621949581824e-13, -8.126987716692083e-14, 2.9337087772106363e-13, 1.7170642620419063e-13, 1.3813890352779024e-13, 6.381751630103608e-15], [1.2371326836221885e-13, 2.830355511052561e-15, -1.1891429139120058e-13, 6.926384243715819e-14, 4.461975222896236e-13, 8.773076666176993e-14, 1.48946339203343e-13, 2.1547801249462845e-13, -3.654653077563019e-14, 2.039279660935589e-13, 7.959791544420378e-14, 1.51408426811786e-13, 2.0308445680336518e-13, -3.055670340780352e-14, 6.335692096014287e-15, -2.437036846197199e-13, 9.099763721405821e-14, -5.598321539825686e-15, 1.8125392408762514e-13, 1.2370050188163784e-13, 8.531871498358712e-14, 2.6318769212607673e-13, 2.0890281420948148e-13, 1.244943953699132e-13, 5.023647513605067e-13, 5.062446772549634e-13, 4.609081128911785e-13, 3.611264932923408e-13, 1.8328871406736447e-13, 2.6997517719659636e-13, 1.722641669067715e-13, 1.954789818512867e-13, 3.5708832809080993e-13, -8.654997054604544e-15, -3.0398258779942844e-13, 9.793503356371469e-14, 1.536506924297576e-13, -6.69328103074132e-15, 4.961821088006989e-14, -1.204015999314162e-13, 2.093491666913666e-13, 1.2361508030297313e-13, 2.052080022834496e-13, 2.308782234405199e-13, 2.3570189311601653e-13, -2.729485237276067e-14, 2.0785474307439405e-13, 3.91526580308197e-15, 9.023472480286163e-14, 3.199626978298009e-14], [8.284929545795267e-14, 9.634011795787989e-14, 4.678639000201858e-14, 2.3977480699717557e-13, 1.5720648253222252e-13, 2.5612633758678727e-13, 2.1522593548952557e-13, 2.725369300897451e-13, 2.766550552014968e-13, 1.697974714390954e-13, 3.5855866886702614e-13, 7.152996727918803e-14, 2.2104136554977616e-13, 1.3688838474204545e-13, 8.722494569072398e-14, 1.192940768243104e-15, -3.3950701408200223e-13, 4.3173735528485857e-13, -4.1912040651221824e-14, 3.013462960069213e-13, 1.5992440119579066e-13, 1.4838273025650356e-13, 3.5624668904936374e-13, 4.0090890676691693e-13, 4.927226161799414e-13, 5.457622201388013e-13, 3.0189690808021807e-13, 4.0563629928949685e-13, 1.639839251801195e-13, 1.3956025064778784e-15, -7.4685876515386e-14, 1.0964167941607261e-13, -4.749738268168026e-14, 2.1638203381857402e-13, 4.625377568478507e-14, -5.234618890691961e-14, -2.567280426874624e-13, -1.7278253751796396e-13, 5.6827359116128073e-14, 2.3708912979571173e-14, 8.968766349167975e-14, 2.503123847519967e-13, -2.321314459554323e-14, 2.702486129844972e-13, 1.7991924410824117e-13, 8.336536891579219e-14, 1.3166356026272918e-13, -3.976943692982418e-14, 1.245867287374275e-13, 9.942150184724663e-14], [2.9883396918031074e-14, 1.3669870357196912e-13, 3.747245027295454e-13, 1.3804949750614165e-13, 7.626404797391947e-14, 5.913494113872833e-14, 1.9996518004807007e-13, 1.0736550537515654e-13, 3.743849306091229e-13, 2.394553197219984e-13, 9.430219734436751e-14, 4.4192822551370955e-14, 3.359298516442122e-13, -3.108094226325457e-14, 2.9786630518884027e-13, -9.675340227350421e-14, 1.5284213510709938e-13, 2.2706490821703534e-13, 4.106873261605637e-13, 5.018106156301494e-13, 1.6823311678199754e-13, 1.0149438798082167e-13, 1.897776640696902e-14, 4.0592477838254093e-13, 4.863172039550057e-13, 4.2598872563096024e-13, 2.9984098971064244e-13, -1.2642198485984801e-13, 6.099449016607611e-14, 2.705994980769632e-14, 1.2024248479227447e-14, -1.0834280521343498e-13, -5.38615477902165e-14, -7.695912321043635e-14, -5.896535836642444e-14, -6.732599368416622e-14, -5.821165489743041e-14, -4.5515569530594005e-14, 1.0393281965311377e-13, 2.0312046586801885e-13, -2.994704255017129e-15, 9.9228886555041e-14, 1.9769235348136155e-13, 1.2159579441430035e-13, 1.1724380689394354e-13, 2.3566462366633734e-13, 1.610993477019814e-14, 8.189314433830128e-14, 1.919717673942809e-14, 9.549032029508575e-14], [6.442466189433144e-14, 6.966916464307832e-14, 7.636537344320182e-14, -1.8879785023762433e-14, 8.643314606789423e-14, 1.8084902878631043e-13, 2.9233747042035907e-13, 1.318863231515935e-13, -4.309074713666544e-15, -1.7363589271913657e-14, 1.31259491665571e-13, 3.173293604882138e-13, 1.0134636727922308e-13, -8.64737562155174e-14, 2.303211061541882e-13, 1.2146222070665014e-13, 1.219345398305663e-13, 9.527530945175472e-14, 3.491070551132208e-13, 1.377262426284151e-13, 3.6754488883829206e-13, 5.021736065174975e-13, 1.34370596246991e-13, 3.5758703398509895e-13, 3.0138923041295174e-13, 4.4643704965458e-13, 3.068282119263882e-13, -4.368868209369235e-14, -2.513399373609698e-13, -2.7514850207271957e-13, -2.8013463944376316e-13, -1.5362933025882784e-15, 1.677080376698628e-13, 3.7593754877770363e-14, -1.767888813857324e-13, 1.1203929087657064e-13, -1.3193112780637145e-13, 1.676481626048873e-13, 2.9082755626484713e-13, -4.7759085369195736e-14, 4.8069146861735856e-14, 1.9640812956057963e-13, -7.0579884303570775e-15, -1.8886903488651158e-14, 1.8640107903380998e-13, 9.44717801166714e-14, -1.049218424273822e-13, 5.160546960597404e-15, 2.3583296299427466e-14, 4.090543347296839e-14], [1.1108229950023557e-13, 2.5711663091047658e-14, 8.317464420112483e-14, 1.307386002843275e-13, 4.412875975550422e-14, 1.3618073953659132e-13, -8.966777515807822e-14, 1.6488836663240691e-13, 3.435179387039494e-13, 6.07922458033261e-14, 2.750199428001171e-13, 3.071108634327552e-13, -5.604602289129576e-15, 1.0345882679209384e-13, 2.6878895159967997e-13, -2.433364653438991e-13, -1.6582128194424922e-13, -1.0920872360728126e-13, 2.84027521554181e-13, 2.4554230176887515e-13, 3.792278719782355e-13, 3.977040051450498e-13, -3.136023274288684e-14, 3.9383459601166626e-13, 1.4880188281638645e-13, 5.79580383252426e-13, 2.2058643431820124e-13, 3.9682761742397543e-14, 2.5486808030803637e-14, -3.153990469403206e-13, 4.247040815818365e-14, -9.564839019557056e-14, 2.4859561498636988e-14, -5.565661219928981e-15, -1.337119569797332e-13, -1.2153005110506626e-13, 2.1691422800746568e-13, -7.683643895835604e-14, -9.005425935125141e-14, -1.5913469543840653e-13, 1.0472964726351841e-13, -2.226180631709814e-14, 3.1318651556692945e-13, -6.313960449312941e-14, 1.8011144604836854e-13, 8.597694767503022e-14, 4.5432241817374916e-14, 4.1770721674301917e-14, 1.3154170949106897e-13, 5.814654855697265e-14], [7.258975457400188e-14, -4.826364595521618e-14, 1.7984848636395934e-13, 1.524244597726765e-13, 1.019949709001218e-13, 1.5028875767573308e-13, -8.193983279435393e-15, 2.4080738420559182e-14, 1.1897983141252733e-13, 2.0815873981103183e-13, 6.403943808618376e-14, -1.6281526365839738e-13, 7.13570370326766e-14, 1.3304116109561642e-13, -1.6266201168131655e-13, 5.277659277484748e-13, 2.7540391299950284e-13, 5.547363105982625e-14, -1.0299865073250952e-13, 1.1917180295969304e-13, 1.7932591446934848e-13, 6.44636050811144e-14, 3.495597095202335e-13, 2.928026744675183e-13, 3.178295300554357e-13, 1.398843470527475e-13, -1.321375599000127e-13, 1.9535085287142144e-14, -5.296045720026843e-14, 2.504635496398955e-13, -6.88430229164351e-14, -2.485566819639823e-13, -2.2056758275292715e-13, -3.8835268009219936e-14, 2.9957508912784037e-14, 2.9676966094939255e-15, -1.9025080989776288e-13, -1.2967839370820475e-15, 2.1428716548595184e-13, -6.090404059983651e-14, 3.885725020826708e-14, 2.7716926518685236e-13, 1.1811286269782645e-13, 1.9601139288061287e-13, 2.9946206105135875e-14, -1.4977289089393268e-14, 1.448583549119864e-13, -8.145830303416934e-15, 3.9726311094347676e-15, 4.720176479495672e-14], [7.124732932534822e-14, 8.241884686668519e-14, 1.4885610647753789e-13, -2.778182686073022e-14, 1.0199664124909379e-14, 1.2691985049745336e-13, 2.309219709981797e-13, -7.281042359742057e-14, -7.233977821060819e-14, 6.070807783342333e-14, 3.264780286732689e-15, 1.3188799011243368e-13, 1.2348130330741558e-13, -1.225086113283702e-13, -2.2634722058895856e-13, -2.884433685824972e-13, -1.1622148556045264e-13, -3.193011312166774e-14, -1.1497913894858297e-13, 2.2797101663016295e-13, 2.3691325187454385e-15, 1.3166314013438735e-13, 5.814058002401312e-13, 2.806888293842291e-13, 2.292694842569859e-13, 4.029702664761457e-14, 2.812116045667473e-13, -7.323667768153325e-14, -1.43208158547882e-13, -6.344904256942036e-14, -1.6430676289411954e-15, 8.725907095410296e-14, -1.9518546121814057e-13, 6.47391211819337e-14, -8.131551530211889e-14, 2.712837007985691e-13, 1.3256884197170027e-13, -3.685094086434623e-14, 2.4985745352042177e-13, 1.6303383542823867e-14, 2.2072041460166614e-13, -9.144651046599436e-14, -3.0646309329227656e-14, 1.5208424051908233e-14, 4.881928940421963e-14, -7.794019065126417e-14, 1.434489327453367e-13, 5.473667851439712e-14, -3.978702218084213e-15, 2.8993192395521117e-14], [3.650130599251039e-14, 1.0964586714696384e-13, 8.374242902039423e-15, 1.9395796817603395e-13, 1.259454915575678e-13, 4.4827189242492224e-14, 2.972189551767035e-13, -1.033671236170923e-13, 1.4418713889952778e-13, 2.3271597322793713e-13, 3.3672123791496367e-13, 2.2124256636793516e-14, -2.85271548679418e-14, 3.2136543860056266e-13, 1.2032140962823373e-13, 5.2795478899065815e-14, -1.4809632470011436e-13, 4.014607860015028e-14, -1.1101928024895985e-13, -2.596042684207406e-13, 1.2152021197035096e-13, 3.437700157090523e-13, 1.354446204715823e-13, 4.802966292911937e-13, 2.2925064624423896e-13, 3.99174779602135e-13, 9.836338828953656e-14, 3.595927266890342e-14, 8.98009287373866e-14, 1.4470132177982903e-13, 7.497982405313755e-14, 9.856563265228657e-14, 2.1570454298604214e-13, -5.192160771287776e-15, 1.9425003868877438e-13, 2.215009181931113e-13, 1.1715628467356964e-13, -1.1042553048172532e-13, 1.623672306631449e-13, 1.8428589546298085e-13, -4.624582035134446e-14, -1.1854917275708893e-13, 4.788197833019425e-13, 8.91879208290633e-14, 2.855311473370925e-14, -8.37126998580115e-14, 1.870387931991388e-13, 1.5278978508282727e-14, 1.3973590622280707e-13, -2.5680258073978784e-15], [2.297803196630796e-14, 1.4613189944136934e-13, -1.674886358077332e-13, 1.581938247931236e-13, 7.148662629734293e-14, -2.1302680756549175e-13, -4.445912970998771e-14, 1.46722708310211e-13, 3.597413640306184e-14, 1.235206598462768e-13, 1.1920614506350652e-13, 7.114390321435668e-14, 1.4383667054727184e-13, 2.4974334124176767e-13, -1.4700765019366735e-13, 1.2477683003584567e-13, -8.179244228526811e-14, -4.5923402342169795e-14, 3.134557568476755e-14, 1.5880181826639916e-13, 1.11142384629382e-13, -7.868049067090085e-14, 1.3465994270177306e-13, 3.9633519990228683e-13, 6.280881441030409e-14, 2.7174511013812463e-13, -5.91248919398421e-14, 4.95709593165139e-13, 8.261669343437306e-14, 4.998564022006165e-14, 7.39141752903287e-14, 2.2506822794365888e-13, 1.904059456761184e-13, 2.7509803246159037e-13, 1.1157597063068611e-13, 3.075350304276858e-14, -6.752614418147063e-14, 2.006041545984244e-13, -1.6449518749081862e-14, 1.6528321951109898e-13, 7.917981998143905e-14, -5.56888519673282e-14, 2.0569999967679636e-13, 5.648358910041902e-14, -4.282904529618291e-14, -9.613871385181355e-14, 9.355938333094338e-14, -3.364101464303597e-14, 3.28487915037326e-14, -7.424789271901974e-15], [1.5835252149798938e-14, 6.492462139738239e-14, 1.1415216374151965e-13, 6.127084652357909e-14, 2.504220789067979e-13, -3.593268261062321e-14, 4.1085482184368555e-14, -9.17559485422853e-14, 1.8812642416099479e-13, 7.873701826166882e-14, 7.134174978204455e-14, 2.3685358687373925e-13, 7.08273500613088e-14, -5.498916887157826e-14, 2.108804396296765e-13, 3.106817103928905e-13, 2.513210993482229e-13, 3.8213716587777447e-13, 1.943480099075856e-13, 4.425730547557953e-14, 3.84866800701069e-14, 3.766715672010035e-13, 3.526860877997584e-13, 2.3308153909544493e-13, 3.540530227937738e-13, 9.663783309818083e-14, -5.097655018373656e-14, 2.202996086334702e-13, -8.320269793233789e-14, 6.870652186291917e-14, 1.3760607237012223e-13, 2.2605829426251833e-13, 1.869799616787543e-13, -2.375748354283263e-14, 2.173174563479402e-13, 9.736892417561496e-14, 1.6439448543778545e-13, 2.5519218899497376e-13, 1.7083045861145812e-13, 2.1533145546596272e-13, 2.0674388308099256e-13, 1.3610578559108879e-14, 3.293751718851795e-13, -3.6881089308037854e-15, 2.584046258219397e-13, 2.7407489120020653e-14, 5.6140655953261856e-14, 8.644151475341311e-14, -6.9646136358341316e-15, -1.303944118343425e-14], [1.6349861934705605e-14, 4.4534081961424346e-14, 7.724134103593433e-14, -2.1213325218064245e-14, 1.541745111568668e-13, 8.033905572052413e-14, 2.7374828207200885e-13, 5.222601864862675e-14, 5.3131296969466044e-14, 2.0187874267239836e-13, -6.970852118193954e-14, 1.1048749941214644e-13, 1.8406376954289289e-13, -2.4541333337935916e-15, 8.248919803515234e-14, 7.787403398995182e-14, 2.6405527070449963e-13, 4.37431158190147e-14, -1.0222610247450498e-13, 2.1549350303316783e-13, 1.4315603552843975e-13, 1.1715942885986985e-13, 2.3047769205294943e-13, -1.7255391993736824e-13, 3.40127963771239e-13, 1.0312426233045555e-13, 1.3257888439432292e-13, -1.4851044927242235e-13, -1.5681581738442169e-13, -9.811131806069726e-14, 7.912559632028762e-14, 1.5995204157492546e-14, 7.597659209667568e-14, 6.196433340391327e-13, 2.312487766380211e-13, 3.5343120574279907e-13, 2.2709086130653922e-13, 1.7639821623793156e-13, 5.265081244793836e-14, 2.380084248177622e-13, -1.46552912615e-17, 1.3220476688217964e-13, 6.436248289973939e-14, -2.080004598463761e-14, 2.2624567150297814e-13, 3.1576710647282513e-14, -1.945343469915862e-14, 1.3739817660354814e-13, -7.634988121059654e-15, 2.119155308318802e-15], [5.2495256541241e-15, 3.823523664564857e-14, 1.451413994416409e-13, 5.869088581019616e-14, 8.897269314529777e-14, 1.239632582781397e-13, 2.1515224701124623e-14, 1.5669669067071984e-13, 3.374192676024006e-14, 5.702750961343248e-14, 2.320845609877359e-13, 1.5116159463469253e-13, 8.91418625655234e-14, 2.471558385470224e-13, 8.074521818312794e-14, 1.0714483635173785e-13, 4.821695749916352e-14, 1.9775872020684482e-13, 1.97251435562866e-13, 2.8069050989759647e-13, 2.3033051160803453e-13, 2.775632642563336e-13, -2.923563355381603e-14, 3.0115786166934333e-13, 3.3544204198175664e-13, 4.4023659907408905e-14, -9.395298260087351e-14, 3.668261508893607e-14, 1.9962183016070285e-14, -1.0947754475968546e-13, 3.5145860831017894e-13, 1.6647573686874757e-14, 2.2714530180812514e-13, 1.5047509137160187e-13, 9.036516110047521e-14, 4.773027676222008e-13, 6.943049108733279e-14, 3.0080489965209067e-13, 2.9364179273891344e-14, 7.799337076782459e-14, 1.9218468776029812e-13, 7.220662463129982e-14, 1.5235055784209445e-13, -8.530636185508436e-14, 2.3152012533673993e-13, 4.964668473962479e-14, 2.1738404330198975e-14, 5.676161919502577e-14, -4.158585503949777e-14, -1.4919086702730347e-15], [-2.0019128194081245e-15, 2.7599264155542605e-14, 5.701955427999186e-14, 1.189703988536267e-13, 2.3315732143916988e-14, 9.76879879343185e-15, 7.924535322650222e-14, 9.996228156209166e-14, 7.005480857956783e-14, 1.8292526239409301e-13, 9.895629780008741e-14, 1.4286648578575034e-13, 7.847489883394329e-14, 1.5065430999071372e-13, 1.6140501478759117e-13, 2.7122338866459282e-14, 3.1033522648361844e-13, 5.456081414575639e-14, 3.704987705521745e-13, -3.0957167710364553e-13, 2.054278378264482e-13, 4.612229584258047e-14, 6.460848159641278e-14, 3.002065284730959e-13, 2.612986324708466e-13, 4.122177656184535e-14, 3.4461249500718216e-13, 1.5187655820481094e-13, -1.1869530288114924e-14, 2.382552705473828e-13, -1.0927739426238106e-13, 8.642016274687872e-14, 5.253670762317419e-13, 3.9163672847265796e-13, 1.2786511216153484e-13, 2.647342523150187e-13, 1.3334849853019817e-14, 2.7900912916850595e-13, 1.0018483438678505e-13, 3.291109518157448e-13, 1.4429307900430677e-13, -1.065774716608103e-14, 2.902690024106369e-13, 1.160437441668008e-13, 2.2953934217771754e-13, 7.482782568481866e-14, 1.3723173801754446e-13, 2.076654794915607e-15, -2.2071288278469915e-14, -1.1339008777535848e-15], [-4.24919710759219e-15, 1.0222903320850248e-14, 4.50495286148829e-14, 3.2023905926950157e-15, 2.0563928435513718e-13, -1.1469776137976867e-13, 1.150903103288442e-13, 1.8710201573832186e-13, -2.995583517568026e-14, -4.384151394243134e-14, -5.5435524741595174e-14, 9.183466839627133e-14, 2.9069609675143326e-13, 2.2944471843311387e-13, -1.1316397444767132e-14, 1.5218264203063075e-13, 2.0703866409916422e-13, 1.518024394337944e-13, -2.204574557642899e-15, 1.8383389157727165e-13, 2.9252506450125337e-13, 4.79186189426134e-14, -1.018584630703423e-13, 1.6613594451975883e-13, -3.5493694571994694e-13, 1.406259006811461e-13, 1.3967749483076441e-14, -7.653160874129816e-14, -1.4364907646637753e-13, 1.272569289528791e-13, 1.5776965779819296e-13, -1.212490936645938e-13, 2.8205449044069186e-13, 1.9344775618618942e-14, 3.2160932987926327e-13, 2.718177787887355e-13, 3.3544540300849135e-13, 4.0050631539521875e-13, 2.9649037131679323e-13, 1.4923294804763954e-13, 1.0984309029840253e-13, 2.208673917586737e-13, 1.9446944055090398e-13, 2.753101235823522e-15, 1.6276879204277922e-13, 4.47346491989388e-14, -7.647549619667435e-15, -1.8197684637931595e-14, -7.216684288189907e-15, -3.4515305110532912e-15], [-5.991920597997577e-16, 1.544165287986881e-14, 5.865361636051697e-14, 5.864063981576503e-14, 1.9920958600153776e-13, 2.6354401855819588e-14, -7.258472658642698e-14, 9.527279545796727e-14, 1.748937366458092e-13, 1.6916310474797414e-13, 2.754122884612853e-13, 7.825381645844634e-14, 3.4212568758920647e-13, 1.241091783380291e-13, 9.162404857173886e-14, 3.677305855653845e-13, 1.9859302733109957e-13, 1.998856131611368e-14, 1.4227692374940704e-13, -3.815777378855627e-14, 3.878627816464959e-15, 4.166319524621931e-13, -1.8669166893295862e-14, 1.7076513543056587e-13, 1.7821169344921228e-13, 2.322826176195947e-13, 2.0261484818488024e-13, 1.7078691434170568e-13, -2.1940354264296524e-13, 3.435686251555131e-13, -7.340626045383714e-14, -1.9154466966535277e-13, 3.4188179631050586e-13, -3.195607298743519e-14, 2.716387770100581e-13, 2.1107681574816795e-13, 3.0974460735015696e-13, 1.9330414005591656e-13, 1.4476161697314638e-13, 1.805619862611449e-13, 2.09366134455366e-13, 3.916773182914904e-14, 1.503163912786043e-13, -5.525840676419251e-14, 2.1249293286323273e-13, 4.067680911610909e-14, 4.45395249951434e-15, -6.985549749191416e-15, 1.4521510824871096e-14, 1.3675480764626345e-14], [2.554207947171082e-15, -2.5119170744223327e-15, 3.57840376457425e-15, 1.7023168424478048e-14, 4.79764001421433e-14, -4.396545857953717e-14, 5.779586336428222e-14, -6.741099513448909e-14, 1.0278886438839716e-13, 1.0328421603221505e-13, 1.9190099270934013e-13, -2.495444443532252e-13, 9.551691035336596e-14, 2.8439639423831486e-14, 6.920626452553563e-14, 9.856751645356127e-14, 1.0923593708181065e-13, -4.3488530749355e-15, 3.3871896173293115e-13, 9.90071739870313e-14, 5.334568100841611e-14, 2.5244829013684744e-13, 1.0026732184332046e-14, 1.574032787790558e-13, -4.888335558821816e-14, 2.545766603165994e-13, -3.284037267386325e-13, 2.8383114543568955e-13, -2.0556223823825492e-13, 1.2220335420670692e-13, -2.6203243744184375e-14, -3.5828419631079786e-14, 3.295606788768918e-13, -2.048675763538163e-13, 6.465022744581161e-13, 8.445844799356492e-14, 3.484301876969381e-13, 1.900891824588996e-13, 2.691624321430469e-13, 9.689764859628983e-14, 2.686909668283416e-13, 3.518358700086224e-14, 1.4220825309430724e-13, 8.383789810387926e-14, 1.6748172401888362e-13, -7.516741135776828e-14, -2.0158564216759406e-14, -1.8507539454432585e-14, -1.7723691776911667e-14, 7.755580201760249e-15], [1.419469671470018e-15, 8.441448296019592e-16, 1.496849688740077e-14, 3.303260781768215e-14, 7.568662900190801e-14, 2.4814340103648976e-14, 1.2623566471650638e-13, 1.0896063104516227e-13, 5.2975530998597767e-14, -6.010051804101676e-14, 2.336897223041007e-13, 2.0052500783983296e-13, 4.695953370083272e-14, 2.2769676769063274e-13, 3.460240042630139e-14, 2.971025321921693e-14, 7.08499624528687e-14, 4.273608851241943e-14, 2.1513968720670434e-13, -1.3172804318693776e-13, 9.816240431181206e-14, -1.8727452585649146e-13, 2.356801277574039e-13, 2.8240620562544616e-13, 1.1127846555455609e-13, -5.2307249108268436e-14, 6.026968068497882e-14, 3.1918136753419923e-13, 1.9639242218160574e-13, -1.7157954744495552e-13, -2.168438903915257e-14, 3.6098704456416844e-14, 1.8936165569610752e-13, -5.4115295144291364e-14, 9.422641161251077e-14, 5.801820612480468e-14, 3.863216712675366e-13, 5.790620126412335e-14, 3.659246300066754e-13, 1.958947733844349e-13, 6.64596551619781e-14, 3.864977457003482e-14, 2.0388316143878094e-13, 9.55349148856928e-14, 8.337730869221668e-14, -2.3024720422360617e-14, -6.707936394794714e-15, 1.2465791508038063e-14, 4.995989211253101e-15, -3.860622437105174e-15], [-3.4565553222546406e-15, -1.0082840493791118e-14, -8.222037857681403e-15, 2.779690235312545e-14, 3.328237750503671e-14, 3.1057076262932734e-14, 7.742767473180312e-14, 9.344465441230368e-14, 6.581607952865429e-14, -3.287391407743169e-15, 8.670364095740221e-14, 1.8953144175631875e-13, 1.0497689956895373e-13, 1.4028004018812323e-13, 4.9377866975352375e-14, -5.965625264831367e-14, 2.4024125787683315e-13, -8.736982898228593e-14, 2.29513592376121e-13, -2.337024887846817e-13, 3.4761096453540807e-13, -2.866914333970322e-13, 1.2529038949989774e-13, -3.94361328532114e-14, 3.723281719828636e-13, -1.6181075034558956e-13, 2.408232847080777e-13, -1.6679481417997827e-13, 2.854848790093817e-13, 9.94399265079153e-14, -5.0258439039186156e-14, 4.658510990157572e-13, 4.4334560979006343e-13, -1.594495816306142e-14, 5.128376564557391e-13, 5.875641227899575e-14, 2.0439359026905995e-13, 2.9427198525167064e-13, 1.3617110368978336e-13, 1.1456544805714397e-13, 2.735250990548027e-13, 2.006058215592646e-13, 1.6305185012496087e-13, 3.941896518943645e-14, -1.2403401602242153e-14, -2.862806613811294e-15, -3.806607569575241e-15, 9.950524630067577e-15, -1.929055068691809e-15, 3.050394341958494e-16], [3.917150027873137e-15, -9.673329709946818e-15, 9.438008498848286e-16, 4.101178947092448e-15, 2.4711544185170194e-14, 4.6856107589841184e-14, 5.851481137738451e-14, 6.842346378073752e-14, 1.8779814129569333e-13, -7.839743936498278e-15, 7.914444110929814e-14, 1.2714177312963398e-13, 2.6958200821940344e-14, 4.745739595030628e-14, 2.17114588568941e-13, 9.973156333978675e-14, 2.3796635099720617e-14, 1.2593313165280146e-13, 1.9451969332159869e-13, -4.9153850477726135e-14, 3.674198803278045e-13, 1.1122633575885027e-13, 5.645720910630973e-14, 1.9682350096538598e-13, 3.6976765914594964e-14, 2.013934402274667e-13, 3.823502929198308e-13, 1.9637254401239958e-14, 1.2626161780601025e-13, -9.873018743701556e-14, -2.037085608432975e-14, 4.9231313334818436e-14, 2.175822998336241e-13, -1.8750524407879637e-13, 3.215643083840508e-13, 4.717350099957274e-14, -2.4210541561044694e-15, 1.69661797089736e-13, 1.1704469316496657e-13, 2.2505712842391806e-13, 1.4601904754774075e-13, 7.224200350344073e-14, 1.4440696088999921e-13, 1.2900006854821983e-14, -6.490200699411924e-17, 1.7469525988560858e-14, 3.3966779279385236e-15, 1.4625980480453653e-14, 3.321307877500652e-15, 2.479675400559808e-15], [3.4326880513833825e-15, -1.186659913060095e-15, 2.2301166244091154e-15, 4.943020429413027e-15, 2.342815882700605e-14, 2.5602795640402957e-14, 3.211728029795663e-14, 1.0745887720506418e-14, 9.26423786859823e-14, 2.0258637771345712e-14, -1.2863996096102413e-14, 5.310575384390864e-14, 1.096789488657518e-13, -2.4307267217906978e-14, 1.9696795735234252e-13, -1.0356266964329543e-14, -7.893382128476567e-14, 2.7505470503227242e-14, -2.268387944658317e-14, 1.6032219497287559e-13, 8.328602564555698e-14, -8.817879796295652e-15, 1.1065122071645533e-13, 2.1413559402223836e-13, -1.999743957665362e-13, 2.0147152988893996e-13, 9.512352114760675e-14, 7.172593004560121e-14, 1.6030795126683456e-13, 3.555512004607686e-13, 2.1402965391745937e-13, 4.878955939480395e-15, 6.228206156106558e-14, -7.44153850140098e-15, 1.3471981776674857e-13, 1.8783687441830538e-13, 1.1990435771006003e-13, 2.2939929036208673e-13, 9.140296111404423e-15, 9.076357151754574e-14, 1.6436202713524667e-13, 1.2332490714403455e-13, 3.3512885663170705e-14, 3.4003415995452826e-14, 2.6070298534981023e-14, 2.4972826744343833e-14, 1.6421883452144743e-14, -3.642049396714465e-15, 3.1226240177444206e-15, 2.1861507440071705e-15], [2.7669190960503184e-15, 2.6932238415074052e-15, 9.284965103630721e-15, 2.4308941378527226e-15, -5.560636302848513e-16, 2.6097307027537174e-14, 2.8927452474418816e-14, 4.50465978808854e-14, 4.958387555251999e-14, 6.588621385668694e-14, 1.0798542507232944e-13, 1.8628970097750962e-14, -2.992275684502409e-14, 7.5958167436007e-14, 1.403267286441759e-13, 2.272809626049574e-13, -3.526482084863572e-14, 3.315732562646223e-13, 2.649170216962454e-13, 1.478735753637772e-13, 6.883758157678194e-14, 1.9420020604642152e-13, 1.4351361895745263e-13, 1.687741065610135e-13, -1.0774947557454229e-13, 1.5575476292831875e-13, -4.001145795977726e-14, 2.8476905485378887e-14, 2.3902781880538737e-14, -7.676190683526124e-14, -5.765140697732568e-14, 1.0274197095037126e-14, 5.522951277629577e-16, 1.0722355620572388e-13, 3.1284023494556473e-14, 5.1765839200910643e-14, 1.5796290328291135e-13, -3.542770189626093e-14, 4.708954648197268e-14, 1.7844848320368312e-13, 5.131969339506465e-14, 1.4726894291723636e-14, 3.1217866833244123e-14, 2.7297784800824065e-14, 2.5248764667570867e-14, 2.0164007250478462e-14, 2.268534481358192e-14, 1.4614047480292734e-14, 1.6087742506980078e-14, 2.1384164140228912e-15], [2.597545752642638e-15, 4.3731392035991756e-15, 1.653954331654018e-15, -2.7602194889540105e-15, 5.682903285323185e-15, 6.8350188654536445e-15, 1.601949028615622e-14, 1.3887354197920747e-14, 3.773863139306874e-14, 4.3483717061115756e-14, 3.1724938024920227e-14, 6.472781837428554e-14, -1.2624068084562002e-14, 7.15119627468612e-14, -1.2974078191993477e-13, 2.1143189195965695e-14, -3.675379634969153e-14, -4.912956434906246e-14, 5.345308478612795e-14, -8.729571021126939e-14, -3.2267601541039956e-14, 3.329334692051683e-13, 1.0650838257143455e-13, -1.7463622507731674e-13, 1.1216239525699279e-13, 3.087622930768308e-13, -8.013513592660445e-15, -1.3629421865811735e-15, 1.73151857435494e-13, 8.507962129949975e-14, 1.0417065295217562e-13, 2.2926151537101813e-13, 1.2330837306090414e-13, -1.1944397836256837e-13, 2.1537459315990048e-13, -4.0267299179297736e-14, -2.954381124508146e-14, 1.9744426091924255e-13, 1.174077247098962e-13, 5.139820064378091e-15, 7.107607620407234e-15, 3.8204672308779844e-14, 3.174713028813829e-14, 2.9056838451177805e-14, 1.3885679613784025e-14, 1.6002741056657215e-14, 2.5105351825205346e-14, 1.0533595852936072e-14, 6.108116365943685e-15, 4.6599640412972685e-15], [3.702345437064762e-15, 8.766586022108773e-15, 4.602599158460945e-15, 7.737994315467592e-16, 9.337095746369487e-15, -3.1747548722414233e-15, 1.4575734486022528e-15, 8.245486270760244e-15, 1.1635883025878403e-14, 1.3558657133508085e-14, 2.7865781378330276e-14, 6.967377250231138e-14, 8.04219582232037e-15, 9.180451402334908e-14, 5.885628085160882e-14, 1.185215391542177e-13, 8.61404589151682e-14, -3.31724631216692e-14, 1.157956516046818e-13, 1.902717553284826e-14, 1.5996377128717904e-13, -8.775463266209177e-14, 1.8931370685502935e-13, 1.3012224320773074e-14, 5.67913500514744e-14, 2.084351029447984e-13, -5.538276814150839e-14, 1.449755842718864e-13, 6.155850568873023e-14, -1.0595776372187421e-13, 6.661353733157169e-14, 7.36746614778995e-14, 7.102666030192953e-14, -6.276945109517929e-14, 1.06528480969207e-13, 1.51844520030614e-13, 5.936649284145334e-14, -1.596966272600104e-14, 1.1195805364066537e-14, 8.813482848266455e-15, 7.820900841553659e-15, 1.051286895671676e-14, 1.7173489667561374e-14, 1.628914830711231e-14, 1.4757670386829173e-14, 1.1166494635959749e-14, 1.597091802882887e-14, 2.084066290852435e-14, 1.349710494329701e-14, 1.1682361417760141e-14], [3.5352751762406662e-15, 8.611030962444362e-15, 8.086371131618524e-15, 4.3145177473856e-15, -1.053924873906781e-15, 7.503509655283592e-16, -2.3615956195807697e-15, -3.964465711823236e-15, -5.8977082996480336e-15, 1.0463878265113465e-14, 1.3325009871271564e-14, 2.3842484993155492e-14, 3.7790974641077266e-14, 6.38104003772462e-14, 4.46356208830094e-14, -4.833734120975909e-15, 1.3871401857018517e-13, 4.8183669104336427e-14, 2.1963969542865974e-13, 4.919027628258986e-14, -1.7333274301544604e-13, 2.0432806380026036e-13, -6.244661634579457e-14, 7.68703541575641e-14, 6.494387953847117e-16, -1.543859576855558e-13, 2.838828347742628e-13, -5.683112671867746e-14, -6.928268044990513e-14, 2.025185439269092e-13, -1.5611067939649143e-13, -4.346173486206861e-14, 1.2288839379686473e-13, 5.466675086240359e-14, -3.358658091771362e-14, -2.6156346918026693e-14, -1.518204575186484e-14, 1.3336734501327458e-14, -1.5844464480133276e-14, -2.7543573856843003e-15, -8.559527971119512e-15, 1.0924472970731962e-15, 9.651556092762936e-16, 5.915713255491345e-15, 3.802001404408072e-15, 4.063493604236157e-15, 8.06878503356763e-15, 1.4253108106742837e-14, 1.138339351573021e-14, 1.1343195873152363e-14], [2.5864496210336067e-15, 4.196019532130618e-15, 5.800145774233862e-15, 8.1822586493795e-15, 1.98683880932055e-15, 4.9945234207378775e-15, 3.979539933669047e-15, 2.4436652771149493e-15, 3.830055982654082e-15, -1.9001631983774385e-15, 7.057569996081134e-15, -2.893373227081064e-16, 6.636963080627802e-15, 1.141144809397622e-14, 4.060562870238657e-15, 3.1765554948806965e-14, 7.458161692397436e-14, -1.5342834628110334e-14, 4.1883566791666924e-14, 5.666698867415852e-14, 8.143024422075859e-14, 1.608175398404299e-13, -2.9671103356394835e-14, 4.4835981444484724e-14, 2.749219580287787e-13, -1.4019670908677236e-14, -2.9963790509120874e-15, 9.783370131816876e-14, 1.1275153716499425e-13, 9.373273370579666e-14, 4.1263020290113056e-14, 3.091010418812285e-15, 3.8875674868935756e-14, 1.618090766084858e-14, 1.7917141820086814e-15, 1.9294737994292842e-14, 2.6178537910695335e-15, 1.6868869514674416e-14, 3.0709118092815983e-15, 6.958542103668213e-15, -4.9844742218516525e-15, 6.2251492141999175e-15, -1.3566613313981644e-15, 4.915175491821463e-15, 2.711229009108953e-15, 5.043932546617115e-15, 5.453443330461416e-15, 1.060163800958901e-14, 9.582886072937846e-15, 5.69693057444619e-15]], 'out_ymax': 0.010092303156852722, 'out_xmax': 0.014072280377149582, 'out_ymin': -0.009957600384950638, 'out_xmin': -0.013706106692552567}, date_modified=datetime.datetime(2022, 10, 17, 21, 5, 14, 830000), unique_on=['inputs', 'outputs', 'flow_id'], unique_hash='86715642b0fc6fbe33d2b057af71afe4', result_type_string='lume_services.results.generic.Result')]"
      ]
     },
     "execution_count": 10,
     "metadata": {},
     "output_type": "execute_result"
    }
   ],
   "source": [
    "results = model.get_results()\n",
    "results"
   ]
  },
  {
   "cell_type": "code",
   "execution_count": 11,
   "id": "8b388faa",
   "metadata": {},
   "outputs": [
    {
     "data": {
      "text/html": [
       "<div>\n",
       "<style scoped>\n",
       "    .dataframe tbody tr th:only-of-type {\n",
       "        vertical-align: middle;\n",
       "    }\n",
       "\n",
       "    .dataframe tbody tr th {\n",
       "        vertical-align: top;\n",
       "    }\n",
       "\n",
       "    .dataframe thead th {\n",
       "        text-align: right;\n",
       "    }\n",
       "</style>\n",
       "<table border=\"1\" class=\"dataframe\">\n",
       "  <thead>\n",
       "    <tr style=\"text-align: right;\">\n",
       "      <th></th>\n",
       "      <th>project_name</th>\n",
       "      <th>flow_id</th>\n",
       "      <th>distgen:r_dist:sigma_xy:value</th>\n",
       "      <th>distgen:t_dist:length:value</th>\n",
       "      <th>distgen:total_charge:value</th>\n",
       "      <th>SOL1:solenoid_field_scale</th>\n",
       "      <th>CQ01:b1_gradient</th>\n",
       "      <th>SQ01:b1_gradient</th>\n",
       "      <th>L0A_phase:dtheta0_deg</th>\n",
       "      <th>L0A_scale:voltage</th>\n",
       "      <th>...</th>\n",
       "      <th>end_cov_y__py</th>\n",
       "      <th>end_cov_z__pz</th>\n",
       "      <th>x:y</th>\n",
       "      <th>out_ymax</th>\n",
       "      <th>out_xmax</th>\n",
       "      <th>out_ymin</th>\n",
       "      <th>out_xmin</th>\n",
       "      <th>date_modified</th>\n",
       "      <th>unique_hash</th>\n",
       "      <th>result_type_string</th>\n",
       "    </tr>\n",
       "  </thead>\n",
       "  <tbody>\n",
       "    <tr>\n",
       "      <th>0</th>\n",
       "      <td>test</td>\n",
       "      <td>c53eb190-bbb0-4d9f-ace6-756f7a44a832</td>\n",
       "      <td>0.137667</td>\n",
       "      <td>12.374625</td>\n",
       "      <td>0.00004</td>\n",
       "      <td>0.087426</td>\n",
       "      <td>0.003524</td>\n",
       "      <td>0.003524</td>\n",
       "      <td>-8.8997</td>\n",
       "      <td>7.000000e+13</td>\n",
       "      <td>...</td>\n",
       "      <td>1197.300171</td>\n",
       "      <td>-13.803169</td>\n",
       "      <td>[[1.5396431061364324e-15, 4.492893568714936e-1...</td>\n",
       "      <td>0.010092</td>\n",
       "      <td>0.014072</td>\n",
       "      <td>-0.009958</td>\n",
       "      <td>-0.013706</td>\n",
       "      <td>2022-10-17 21:05:14.830</td>\n",
       "      <td>86715642b0fc6fbe33d2b057af71afe4</td>\n",
       "      <td>lume_services.results.generic.Result</td>\n",
       "    </tr>\n",
       "  </tbody>\n",
       "</table>\n",
       "<p>1 rows × 40 columns</p>\n",
       "</div>"
      ],
      "text/plain": [
       "  project_name                               flow_id  \\\n",
       "0         test  c53eb190-bbb0-4d9f-ace6-756f7a44a832   \n",
       "\n",
       "   distgen:r_dist:sigma_xy:value  distgen:t_dist:length:value  \\\n",
       "0                       0.137667                    12.374625   \n",
       "\n",
       "   distgen:total_charge:value  SOL1:solenoid_field_scale  CQ01:b1_gradient  \\\n",
       "0                     0.00004                   0.087426          0.003524   \n",
       "\n",
       "   SQ01:b1_gradient  L0A_phase:dtheta0_deg  L0A_scale:voltage  ...  \\\n",
       "0          0.003524                -8.8997       7.000000e+13  ...   \n",
       "\n",
       "   end_cov_y__py  end_cov_z__pz  \\\n",
       "0    1197.300171     -13.803169   \n",
       "\n",
       "                                                 x:y  out_ymax  out_xmax  \\\n",
       "0  [[1.5396431061364324e-15, 4.492893568714936e-1...  0.010092  0.014072   \n",
       "\n",
       "   out_ymin  out_xmin           date_modified  \\\n",
       "0 -0.009958 -0.013706 2022-10-17 21:05:14.830   \n",
       "\n",
       "                        unique_hash                    result_type_string  \n",
       "0  86715642b0fc6fbe33d2b057af71afe4  lume_services.results.generic.Result  \n",
       "\n",
       "[1 rows x 40 columns]"
      ]
     },
     "execution_count": 11,
     "metadata": {},
     "output_type": "execute_result"
    }
   ],
   "source": [
    "results_df = model.get_results_df()\n",
    "results_df"
   ]
  },
  {
   "cell_type": "markdown",
   "id": "e4f26a31",
   "metadata": {},
   "source": [
    "## Load model using model id\n",
    "Once your model has been registered, you can use the `Model` api object to interact with your model without running the above registration steps. Let's load a new model object using the model_id we registered above."
   ]
  },
  {
   "cell_type": "code",
   "execution_count": 13,
   "id": "d6ef8e4e",
   "metadata": {},
   "outputs": [
    {
     "name": "stderr",
     "output_type": "stream",
     "text": [
      "INFO:lume_services.services.models.db.db:ModelDB selecting: SELECT model.model_id, model.created, model.author, model.laboratory, model.facility, model.beampath, model.description \n",
      "FROM model \n",
      "WHERE model.model_id = :model_id_1\n"
     ]
    }
   ],
   "source": [
    "from importlib import reload \n",
    "import lume_services\n",
    "reload(lume_services.models)\n",
    "from lume_services.models import Model\n",
    "\n",
    "#model_id = model.metadata.model_id\n",
    "loaded_model = Model(model_id=1)"
   ]
  },
  {
   "cell_type": "code",
   "execution_count": 15,
   "id": "f7a15668",
   "metadata": {},
   "outputs": [
    {
     "data": {
      "text/plain": [
       "Model(                     model_id=1,                     created=datetime.datetime(2022, 10, 17, 21, 4, 22),                     author='Jackie Garrahan'),                     laboratory='slac',                     facility='lcls',                     beampath='cu',                     description='lcls-cu-inj-nn'                 )"
      ]
     },
     "execution_count": 15,
     "metadata": {},
     "output_type": "execute_result"
    }
   ],
   "source": [
    "loaded_model.load_deployment()"
   ]
  },
  {
   "cell_type": "markdown",
   "id": "26ca3ce4",
   "metadata": {},
   "source": [
    "## Load existing model object\n",
    "Loading a model using the load_deployment method without passing a deployment_id will load the latest deployment registered for the model."
   ]
  },
  {
   "cell_type": "code",
   "execution_count": 16,
   "id": "040bb4bd",
   "metadata": {},
   "outputs": [
    {
     "name": "stderr",
     "output_type": "stream",
     "text": [
      "INFO:lume_services.models.model:Loading latest deployment.\n",
      "INFO:lume_services.services.models.db.db:ModelDB selecting: SELECT deployment.sha256, deployment.deployment_id, deployment.version, deployment.deploy_date, deployment.package_import_name, deployment.asset_dir, deployment.source, deployment.image, deployment.is_live, deployment.model_id \n",
      "FROM deployment \n",
      "WHERE deployment.model_id = :model_id_1 ORDER BY deployment.deploy_date DESC\n",
      "INFO:lume_services.services.models.db.db:ModelDB selecting: SELECT flow.flow_id, flow.flow_name, flow.project_name, flow.deployment_id \n",
      "FROM flow \n",
      "WHERE flow.deployment_id = :deployment_id_1\n",
      "INFO:lume_services.services.models.db.db:ModelDB selecting: SELECT project.project_name, project.description \n",
      "FROM project \n",
      "WHERE project.project_name = :project_name_1\n",
      "INFO:lume_services.services.models.db.db:ModelDB selecting: SELECT flow_of_flows._id, flow_of_flows.parent_flow_id, flow_of_flows.flow_id, flow_of_flows.position \n",
      "FROM flow_of_flows \n",
      "WHERE flow_of_flows.parent_flow_id = :parent_flow_id_1\n"
     ]
    },
    {
     "data": {
      "text/plain": [
       "Deployment(metadata=Deployment(                 deployment_id=1,                 model_id=1,                 version='0.0.12',                 deploy_date=datetime.datetime(2022, 10, 17, 21, 4, 40)),                 asset_dir=None,                 source='https://github.com/jacquelinegarrahan/lume-lcls-cu-inj-nn/releases/download/v0.0.12/lume_lcls_cu_inj_nn-0.0.12.tar.gz',                 sha256='7d7827f8c871e0cfa266343c2aed990a6c5909935d72e87674e013b4d6bb4fae',                 image='scr.svc.stanford.edu/jgarra/lume-lcls-cu-inj-nn:v0.0.12',                 is_live=True                 package_import_name='lume_lcls_cu_inj_nn'                 ), project=Project(metadata=Project(                 project_name='test',                 description='my_description',                 )), flow=Flow(name='lume-lcls-cu-inj-nn', flow_id='c53eb190-bbb0-4d9f-ace6-756f7a44a832', project_name='test', prefect_flow=None, parameters=None, mapped_parameters=None, task_slugs=None, labels=['lume-services'], image='scr.svc.stanford.edu/jgarra/lume-lcls-cu-inj-nn:v0.0.12'), model_type=None)"
      ]
     },
     "execution_count": 16,
     "metadata": {},
     "output_type": "execute_result"
    }
   ],
   "source": [
    "loaded_model.load_deployment()\n",
    "loaded_model.deployment"
   ]
  },
  {
   "cell_type": "code",
   "execution_count": 17,
   "id": "06ff1d79",
   "metadata": {},
   "outputs": [
    {
     "name": "stderr",
     "output_type": "stream",
     "text": [
      "INFO:lume_services.services.scheduling.backends.server:Creating Prefect flow run for fb70c882-183e-41e0-8f15-d72c4f32816a with parameters {'distgen:r_dist:sigma_xy:value': 0.413, 'distgen:total_charge:value': 250.0, 'distgen:t_dist:length:value': 7.499772441611215, 'SOL1:solenoid_field_scale': 0.17, 'CQ01:b1_gradient': -0.0074, 'SQ01:b1_gradient': -0.0074, 'L0A_phase:dtheta0_deg': -8.8997, 'L0A_scale:voltage': 70000000.0, 'end_mean_z': 4.6147002} and run_config {\"labels\": [\"lume-services\"], \"env\": {\"PREFECT__CONTEXT__PROJECT_NAME\": \"test\"}, \"image\": \"scr.svc.stanford.edu/jgarra/lume-lcls-cu-inj-nn:v0.0.12\", \"host_config\": null, \"ports\": null}\n",
      "INFO:lume_services.services.scheduling.backends.server:FlowRunLog(timestamp=DateTime(2022, 10, 14, 22, 56, 38, 379453, tzinfo=Timezone('+00:00')), level=20, message='Entered state <Scheduled>: Flow run scheduled.')\n",
      "INFO:lume_services.services.scheduling.backends.server:FlowRunLog(timestamp=DateTime(2022, 10, 14, 22, 56, 42, 707908, tzinfo=Timezone('+00:00')), level=20, message='Entered state <Submitted>: Submitted for execution')\n",
      "INFO:lume_services.services.scheduling.backends.server:FlowRunLog(timestamp=DateTime(2022, 10, 14, 22, 56, 46, 248131, tzinfo=Timezone('+00:00')), level=20, message='Submitted for execution: Container ID: 68aed7225d18b5ca09b8fe2888c98586078ad86a6070010efc5802529813c407')\n",
      "INFO:lume_services.services.scheduling.backends.server:FlowRunLog(timestamp=DateTime(2022, 10, 14, 22, 56, 54, 831964, tzinfo=Timezone('+00:00')), level=20, message='Entered state <Running>: Running flow.')\n",
      "INFO:lume_services.services.scheduling.backends.server:FlowRunLog(timestamp=DateTime(2022, 10, 14, 22, 56, 54, 728040, tzinfo=Timezone('+00:00')), level=20, message=\"Beginning Flow run for 'lume-lcls-cu-inj-nn'\")\n",
      "INFO:lume_services.services.scheduling.backends.server:FlowRunLog(timestamp=DateTime(2022, 10, 14, 22, 56, 55, 89360, tzinfo=Timezone('+00:00')), level=20, message=\"Task 'distgen:r_dist:sigma_xy:value': Starting task run...\")\n",
      "INFO:lume_services.services.scheduling.backends.server:FlowRunLog(timestamp=DateTime(2022, 10, 14, 22, 56, 55, 421884, tzinfo=Timezone('+00:00')), level=20, message=\"Task 'distgen:r_dist:sigma_xy:value': Finished task run for task with final state: 'Success'\")\n",
      "INFO:lume_services.services.scheduling.backends.server:FlowRunLog(timestamp=DateTime(2022, 10, 14, 22, 56, 55, 494931, tzinfo=Timezone('+00:00')), level=20, message=\"Task 'configure_lume_services': Starting task run...\")\n",
      "INFO:lume_services.services.scheduling.backends.server:FlowRunLog(timestamp=DateTime(2022, 10, 14, 22, 56, 55, 801908, tzinfo=Timezone('+00:00')), level=20, message=\"Task 'configure_lume_services': Finished task run for task with final state: 'Success'\")\n",
      "INFO:lume_services.services.scheduling.backends.server:FlowRunLog(timestamp=DateTime(2022, 10, 14, 22, 56, 55, 845698, tzinfo=Timezone('+00:00')), level=20, message=\"Task 'distgen:t_dist:length:value': Starting task run...\")\n",
      "INFO:lume_services.services.scheduling.backends.server:FlowRunLog(timestamp=DateTime(2022, 10, 14, 22, 56, 55, 966248, tzinfo=Timezone('+00:00')), level=20, message=\"Task 'distgen:t_dist:length:value': Finished task run for task with final state: 'Success'\")\n",
      "INFO:lume_services.services.scheduling.backends.server:FlowRunLog(timestamp=DateTime(2022, 10, 14, 22, 56, 56, 55973, tzinfo=Timezone('+00:00')), level=20, message=\"Task 'SOL1:solenoid_field_scale': Starting task run...\")\n",
      "INFO:lume_services.services.scheduling.backends.server:FlowRunLog(timestamp=DateTime(2022, 10, 14, 22, 56, 56, 167243, tzinfo=Timezone('+00:00')), level=20, message=\"Task 'SOL1:solenoid_field_scale': Finished task run for task with final state: 'Success'\")\n",
      "INFO:lume_services.services.scheduling.backends.server:FlowRunLog(timestamp=DateTime(2022, 10, 14, 22, 56, 56, 216798, tzinfo=Timezone('+00:00')), level=20, message=\"Task 'SQ01:b1_gradient': Starting task run...\")\n",
      "INFO:lume_services.services.scheduling.backends.server:FlowRunLog(timestamp=DateTime(2022, 10, 14, 22, 56, 56, 314470, tzinfo=Timezone('+00:00')), level=20, message=\"Task 'SQ01:b1_gradient': Finished task run for task with final state: 'Success'\")\n",
      "INFO:lume_services.services.scheduling.backends.server:FlowRunLog(timestamp=DateTime(2022, 10, 14, 22, 56, 56, 359293, tzinfo=Timezone('+00:00')), level=20, message=\"Task 'L0A_phase:dtheta0_deg': Starting task run...\")\n",
      "INFO:lume_services.services.scheduling.backends.server:FlowRunLog(timestamp=DateTime(2022, 10, 14, 22, 56, 56, 462633, tzinfo=Timezone('+00:00')), level=20, message=\"Task 'L0A_phase:dtheta0_deg': Finished task run for task with final state: 'Success'\")\n",
      "INFO:lume_services.services.scheduling.backends.server:FlowRunLog(timestamp=DateTime(2022, 10, 14, 22, 56, 56, 510972, tzinfo=Timezone('+00:00')), level=20, message=\"Task 'end_mean_z': Starting task run...\")\n",
      "INFO:lume_services.services.scheduling.backends.server:FlowRunLog(timestamp=DateTime(2022, 10, 14, 22, 56, 56, 602872, tzinfo=Timezone('+00:00')), level=20, message=\"Task 'end_mean_z': Finished task run for task with final state: 'Success'\")\n",
      "INFO:lume_services.services.scheduling.backends.server:FlowRunLog(timestamp=DateTime(2022, 10, 14, 22, 56, 56, 669035, tzinfo=Timezone('+00:00')), level=20, message=\"Task 'L0A_scale:voltage': Starting task run...\")\n",
      "INFO:lume_services.services.scheduling.backends.server:FlowRunLog(timestamp=DateTime(2022, 10, 14, 22, 56, 56, 816228, tzinfo=Timezone('+00:00')), level=20, message=\"Task 'L0A_scale:voltage': Finished task run for task with final state: 'Success'\")\n",
      "INFO:lume_services.services.scheduling.backends.server:FlowRunLog(timestamp=DateTime(2022, 10, 14, 22, 56, 56, 884970, tzinfo=Timezone('+00:00')), level=20, message=\"Task 'distgen:total_charge:value': Starting task run...\")\n",
      "INFO:lume_services.services.scheduling.backends.server:FlowRunLog(timestamp=DateTime(2022, 10, 14, 22, 56, 57, 29627, tzinfo=Timezone('+00:00')), level=20, message=\"Task 'distgen:total_charge:value': Finished task run for task with final state: 'Success'\")\n",
      "INFO:lume_services.services.scheduling.backends.server:FlowRunLog(timestamp=DateTime(2022, 10, 14, 22, 56, 57, 158406, tzinfo=Timezone('+00:00')), level=20, message=\"Task 'check_local_execution': Starting task run...\")\n",
      "INFO:lume_services.services.scheduling.backends.server:FlowRunLog(timestamp=DateTime(2022, 10, 14, 22, 56, 57, 367222, tzinfo=Timezone('+00:00')), level=20, message=\"Task 'check_local_execution': Finished task run for task with final state: 'Success'\")\n",
      "INFO:lume_services.services.scheduling.backends.server:FlowRunLog(timestamp=DateTime(2022, 10, 14, 22, 56, 57, 430416, tzinfo=Timezone('+00:00')), level=20, message=\"Task 'CQ01:b1_gradient': Starting task run...\")\n",
      "INFO:lume_services.services.scheduling.backends.server:FlowRunLog(timestamp=DateTime(2022, 10, 14, 22, 56, 57, 753124, tzinfo=Timezone('+00:00')), level=20, message=\"Task 'CQ01:b1_gradient': Finished task run for task with final state: 'Success'\")\n",
      "INFO:lume_services.services.scheduling.backends.server:FlowRunLog(timestamp=DateTime(2022, 10, 14, 22, 56, 57, 818744, tzinfo=Timezone('+00:00')), level=20, message=\"Task 'List': Starting task run...\")\n",
      "INFO:lume_services.services.scheduling.backends.server:FlowRunLog(timestamp=DateTime(2022, 10, 14, 22, 56, 57, 908935, tzinfo=Timezone('+00:00')), level=20, message=\"Task 'List': Finished task run for task with final state: 'Success'\")\n",
      "INFO:lume_services.services.scheduling.backends.server:FlowRunLog(timestamp=DateTime(2022, 10, 14, 22, 56, 57, 954997, tzinfo=Timezone('+00:00')), level=20, message=\"Task 'case(False)': Starting task run...\")\n",
      "INFO:lume_services.services.scheduling.backends.server:FlowRunLog(timestamp=DateTime(2022, 10, 14, 22, 56, 58, 91786, tzinfo=Timezone('+00:00')), level=20, message=\"Task 'case(False)': Finished task run for task with final state: 'Success'\")\n",
      "INFO:lume_services.services.scheduling.backends.server:FlowRunLog(timestamp=DateTime(2022, 10, 14, 22, 56, 58, 193427, tzinfo=Timezone('+00:00')), level=20, message=\"Task 'Dict': Starting task run...\")\n",
      "INFO:lume_services.services.scheduling.backends.server:FlowRunLog(timestamp=DateTime(2022, 10, 14, 22, 56, 58, 365867, tzinfo=Timezone('+00:00')), level=20, message=\"Task 'Dict': Finished task run for task with final state: 'Success'\")\n"
     ]
    },
    {
     "name": "stderr",
     "output_type": "stream",
     "text": [
      "INFO:lume_services.services.scheduling.backends.server:FlowRunLog(timestamp=DateTime(2022, 10, 14, 22, 56, 58, 423860, tzinfo=Timezone('+00:00')), level=20, message=\"Task 'prepare_lume_model_variables': Starting task run...\")\n",
      "INFO:lume_services.services.scheduling.backends.server:FlowRunLog(timestamp=DateTime(2022, 10, 14, 22, 56, 58, 523731, tzinfo=Timezone('+00:00')), level=20, message=\"Task 'prepare_lume_model_variables': Finished task run for task with final state: 'Success'\")\n",
      "INFO:lume_services.services.scheduling.backends.server:FlowRunLog(timestamp=DateTime(2022, 10, 14, 22, 56, 58, 586398, tzinfo=Timezone('+00:00')), level=20, message=\"Task 'preprocessing_task': Starting task run...\")\n",
      "INFO:lume_services.services.scheduling.backends.server:FlowRunLog(timestamp=DateTime(2022, 10, 14, 22, 56, 58, 739239, tzinfo=Timezone('+00:00')), level=20, message=\"Task 'preprocessing_task': Finished task run for task with final state: 'Success'\")\n",
      "INFO:lume_services.services.scheduling.backends.server:FlowRunLog(timestamp=DateTime(2022, 10, 14, 22, 56, 58, 804388, tzinfo=Timezone('+00:00')), level=20, message=\"Task 'evaluate': Starting task run...\")\n",
      "INFO:lume_services.services.scheduling.backends.server:FlowRunLog(timestamp=DateTime(2022, 10, 14, 22, 56, 59, 520250, tzinfo=Timezone('+00:00')), level=20, message='[array([[ 1.37666653e-01,  1.23746245e+01,  4.00544158e-05,\\n         8.74263114e-02,  3.52380952e-03,  3.52380952e-03,\\n        -8.89970000e+00,  7.00000000e+13,  4.61470020e+00]])]')\n",
      "INFO:lume_services.services.scheduling.backends.server:FlowRunLog(timestamp=DateTime(2022, 10, 14, 22, 57, 0, 57650, tzinfo=Timezone('+00:00')), level=20, message='\\r1/1 [==============================] - ETA: 0s')\n",
      "INFO:lume_services.services.scheduling.backends.server:FlowRunLog(timestamp=DateTime(2022, 10, 14, 22, 57, 0, 58093, tzinfo=Timezone('+00:00')), level=20, message='\\x08\\x08\\x08\\x08\\x08\\x08\\x08\\x08\\x08\\x08\\x08\\x08\\x08\\x08\\x08\\x08\\x08\\x08\\x08\\x08\\x08\\x08\\x08\\x08\\x08\\x08\\x08\\x08\\x08\\x08\\x08\\x08\\x08\\x08\\x08\\x08\\x08\\x08\\x08\\x08\\x08\\x08\\x08\\x08\\x08\\x08\\r1/1 [==============================] - 0s 397ms/step\\n')\n",
      "INFO:lume_services.services.scheduling.backends.server:FlowRunLog(timestamp=DateTime(2022, 10, 14, 22, 57, 0, 133818, tzinfo=Timezone('+00:00')), level=20, message=\"Task 'evaluate': Finished task run for task with final state: 'Success'\")\n",
      "INFO:lume_services.services.scheduling.backends.server:FlowRunLog(timestamp=DateTime(2022, 10, 14, 22, 57, 0, 216958, tzinfo=Timezone('+00:00')), level=20, message=\"Task 'format_result': Starting task run...\")\n",
      "INFO:lume_services.services.scheduling.backends.server:FlowRunLog(timestamp=DateTime(2022, 10, 14, 22, 57, 0, 435551, tzinfo=Timezone('+00:00')), level=20, message=\"Task 'format_result': Finished task run for task with final state: 'Success'\")\n",
      "INFO:lume_services.services.scheduling.backends.server:FlowRunLog(timestamp=DateTime(2022, 10, 14, 22, 57, 0, 505113, tzinfo=Timezone('+00:00')), level=20, message=\"Task 'save_db_result': Starting task run...\")\n",
      "INFO:lume_services.services.scheduling.backends.server:FlowRunLog(timestamp=DateTime(2022, 10, 14, 22, 57, 0, 684549, tzinfo=Timezone('+00:00')), level=20, message=\"Task 'save_db_result': Finished task run for task with final state: 'Success'\")\n",
      "INFO:lume_services.services.scheduling.backends.server:FlowRunLog(timestamp=DateTime(2022, 10, 14, 22, 57, 0, 738795, tzinfo=Timezone('+00:00')), level=20, message='Flow run SUCCESS: all reference tasks succeeded')\n",
      "INFO:lume_services.services.scheduling.backends.server:FlowRunLog(timestamp=DateTime(2022, 10, 14, 22, 57, 0, 764208, tzinfo=Timezone('+00:00')), level=20, message='Entered state <Success>: All reference tasks succeeded.')\n"
     ]
    },
    {
     "data": {
      "text/plain": [
       "Result(project_name='test', id='6349e8f18a6985b236762622', flow_id='fb70c882-183e-41e0-8f15-d72c4f32816a', inputs={'distgen:r_dist:sigma_xy:value': 0.1376666529, 'distgen:t_dist:length:value': 12.374624528658504, 'distgen:total_charge:value': 4.005441585e-05, 'SOL1:solenoid_field_scale': 0.0874263114, 'CQ01:b1_gradient': 0.0035238095224, 'SQ01:b1_gradient': 0.0035238095224, 'L0A_phase:dtheta0_deg': -8.8997, 'L0A_scale:voltage': 70000000000000.0, 'end_mean_z': 4.6147002}, outputs={'end_n_particle': 5183.83740234375, 'end_mean_gamma': 148.83367919921875, 'end_sigma_gamma': 0.48476168513298035, 'end_mean_x': 1.3811709322908428e-06, 'end_mean_y': 4.753492248710245e-07, 'end_norm_emit_x': 1.7238378859474324e-05, 'end_norm_emit_y': 1.3315763681021053e-05, 'end_norm_emit_z': 0.00019549435819499195, 'end_sigma_x': 0.002542009809985757, 'end_sigma_y': 0.0027486709877848625, 'end_sigma_z': 0.0009321933030150831, 'end_mean_px': -78.1666259765625, 'end_mean_py': -12.492935180664062, 'end_mean_pz': 76038152.0, 'end_sigma_px': 34257.1484375, 'end_sigma_py': 26001.109375, 'end_sigma_pz': 250141.40625, 'end_higher_order_energy_spread': 12340.572265625, 'end_cov_x__px': -12.867927551269531, 'end_cov_y__py': 1197.3001708984375, 'end_cov_z__pz': -13.803169250488281, 'x:y': [[1.5396431061364324e-15, 4.492893568714936e-15, 1.009289053971029e-14, 1.9131437665358738e-15, 2.260892719514653e-15, 6.74143398029e-17, -1.5074014058041283e-16, 5.0024791776949636e-15, -7.842674882254015e-16, 3.0550002953674263e-15, -2.351965066728725e-15, -2.2916690263784277e-15, -6.761532828048703e-15, -4.0553286301410994e-15, 5.955492040276775e-15, -6.427392306400511e-15, -3.0302957324278073e-15, -5.737253662603525e-14, 1.2463906859730423e-14, 3.316094686171833e-14, 6.49020096410972e-16, 6.920019468743561e-15, -3.538038663582731e-14, 5.5566585302490885e-15, -1.0762427732867452e-14, -2.3412874964505795e-14, -1.7091754715096302e-13, 1.3285021954051457e-13, -1.31993089960529e-13, -6.37308402665765e-14, 1.411660502034784e-13, 5.0681138973052153e-14, 2.7160233426453545e-14, 1.687054325177819e-14, 1.616688058348381e-15, 1.2571519007547292e-14, 7.772120214121284e-15, 2.9385953102833463e-15, 2.2280231824799764e-15, -3.6416305389220475e-15, 7.539100920936034e-16, -3.5423934293711545e-16, -1.9596218407802565e-16, 1.0840728940819297e-15, 4.585012636893577e-16, 6.625448091226354e-15, 6.934046757866566e-15, 4.251709407313746e-15, 8.161951034469078e-15, 5.932880919266295e-15], [5.899382883784755e-15, 6.795449297806186e-15, 6.4619368510883835e-15, 4.5808253295188256e-15, 5.987314644588645e-15, -6.856164195948901e-15, -1.4605045002371079e-15, -1.1439501825189283e-14, 6.699562097682566e-16, -1.1236840722229219e-14, 6.188720232962641e-16, -7.873659982739287e-15, 8.936797292859525e-15, -1.2175197373724689e-14, -6.197429722187842e-14, -2.319597693176828e-14, 8.691634617705082e-15, 2.056346798840359e-14, -1.3569166948911027e-13, 1.1141371638744187e-14, -1.9825218127312444e-13, -1.7134087388921e-13, -2.8452203040021636e-15, 2.7348449229531134e-14, 1.651316480473855e-14, 1.4426041741386064e-13, -3.4435748387995e-14, 1.0939861484152852e-13, 4.4996141822283356e-14, 8.771966714202911e-14, -1.7701917947969548e-14, -6.235114556824364e-14, -5.58634593390752e-14, 8.467366890106687e-14, 4.711613654025289e-14, -1.3127791802030556e-14, 1.86440438960803e-14, 1.9028849269952033e-14, 4.610973349693974e-15, 1.2927014500345186e-14, 1.5460914409089373e-14, -2.1564214757453207e-16, -8.892831200699343e-15, -4.0197372586095394e-16, 1.6158506604009018e-15, -2.93022090729208e-15, 8.76616758783283e-15, 3.6617292543318527e-16, 1.0182496461134428e-14, 2.9044694116296546e-15], [1.449638613358964e-14, 1.1457088770273124e-14, 1.6350071998876524e-14, 5.477729459125091e-15, -2.0291298938275365e-15, -4.059097079723434e-15, 2.3264229999625085e-15, 4.007175495303962e-16, 5.47270475380286e-16, -1.7766400872178123e-14, -1.4823200243760555e-14, -5.748559180757118e-14, -5.763507618210262e-14, 1.401862397595443e-14, -6.675862391104098e-14, -3.5252257655962044e-15, -2.136599138715875e-13, 8.84237480328412e-14, -1.2773217542266097e-13, -8.83207420501915e-14, 2.308819910430693e-13, 1.1626043552349918e-13, -1.6600090713917576e-13, 8.870847985212663e-14, 4.040338349260361e-14, -1.4365745192815998e-13, 2.0955267143914214e-13, -1.6941852922728456e-13, -1.2434721492499828e-13, 4.189361599055315e-14, 8.031874725858076e-14, -3.687690073011368e-14, 2.7075860474577544e-14, 8.263407455045071e-14, 1.0132250466703303e-14, 1.35082225895429e-13, 1.0295615000734809e-13, 4.7977237010695187e-14, 4.0299330577231104e-14, 4.096112080705268e-14, 6.276024130594379e-15, -1.223926186365732e-15, 1.1186175446489203e-15, 1.550948560762554e-15, 4.371254978808008e-15, 6.783515874128794e-15, 1.1602804483463991e-15, 3.969490470085026e-16, 9.415815600355513e-15, 3.273992193550553e-15], [5.633913017236364e-15, 1.0186264910716763e-14, 6.385101221893525e-15, 6.571432800179947e-15, 5.769997754058714e-15, 6.320617874168476e-15, -2.2987873324484753e-16, -4.93422738038758e-15, -5.7607858472408496e-15, 8.681585418818857e-15, -7.679372753374898e-16, 9.658926084085348e-14, 3.43582855309027e-14, -2.7031896076483257e-14, 5.414544274095004e-14, 1.3066846595629483e-13, 3.89466460655203e-14, 2.873973845365918e-13, -1.7424304593572845e-14, -9.685389426236646e-14, 1.3644077187513481e-13, 1.7015589512479196e-13, -4.115390211771597e-13, 2.1664729743259975e-13, -7.218862009897298e-14, 1.4324416761253567e-13, 1.9414074772165606e-14, 1.7152259972584571e-13, -5.0083831667439155e-14, 3.4836045994472015e-14, 4.3275612585623457e-13, 2.8883486805775108e-15, -1.0840644788095988e-13, 1.7957191994228544e-13, 4.3401019540409425e-14, -2.296400510070143e-14, -4.262680093343289e-14, 1.4791878659436986e-13, 7.412960626200157e-14, 4.095232860506018e-14, 2.3654479254248822e-14, 1.6141337669684647e-14, 1.3012224320773074e-14, -5.082455181541767e-15, 5.7448743333266775e-15, -2.9478072171012105e-15, 4.3978437665387945e-15, 5.972240846259308e-15, 4.0616093397403207e-17, 1.0418656023092505e-14], [1.826049297800345e-15, 6.264718358330902e-15, 1.329025610944572e-14, 1.8587098294552866e-15, 5.6942090575866616e-15, 2.137160264162113e-15, -1.2257686524325996e-14, -1.2277784922098446e-14, 5.937319456613202e-14, 2.6875711671339036e-14, 5.835737251644541e-15, 1.284976001335791e-14, 1.4236987375690693e-14, 2.2518358705481134e-13, -2.7240000213162377e-14, -1.90435050575219e-15, 2.198069742713471e-13, -3.2247923271609344e-14, 2.5270538496512986e-14, -2.1642892556253401e-13, -1.2012398996515128e-13, 3.5681280521372705e-13, 8.450471632127574e-14, 1.9849964703086247e-14, 6.55091554461508e-15, 8.942575412812515e-14, -1.2026969996086975e-14, -4.320798920205964e-15, 2.535725535796063e-13, -1.6327125198709047e-13, -1.2743069945607421e-13, 1.661200338528776e-13, -5.608831609338512e-14, 3.606164845904036e-14, 1.0414154890010796e-13, 1.2780251642673275e-14, -1.0639574751824046e-13, 4.8471748397829403e-14, -1.1498123281402858e-14, 2.3361792101522783e-14, 2.643856474352467e-14, 3.7579097819651075e-14, 8.519330328541665e-15, 1.2006243099867663e-14, 2.732500166348524e-14, 1.1741819742525604e-14, 8.080508816590577e-15, 1.3166733294747626e-15, -5.0091787847912714e-15, 1.2226491147911567e-14], [5.501387089341904e-15, -2.7715250494592504e-15, 1.4471053919236105e-15, 1.1469231834604961e-14, 1.2108411366932529e-14, -5.010016076859632e-15, -8.631129360216813e-15, -8.454009688748255e-15, -1.449785150058839e-14, 6.751064771370061e-15, 1.7614447227198848e-13, -7.301852942816559e-14, 1.0162062977128045e-13, 4.6078331444486184e-14, 8.605922506739472e-14, -1.4985663534736182e-13, -4.702087582687288e-14, 1.8366346854828408e-13, 8.645073047187923e-14, 2.1796292255880229e-13, 4.6884791513567003e-14, 1.1717177521210903e-13, 1.7270424456858335e-13, -2.334445570878474e-13, -2.4981829010507252e-14, 2.357205413933833e-13, -1.4891451786958054e-13, 1.1594261520916221e-13, 2.5127168683421186e-13, -1.1837372174052646e-13, 2.1756660600717737e-13, 3.924934108192474e-13, -2.162455327650581e-13, 4.01678507350265e-14, 2.9344040218537426e-13, 5.829707647609511e-14, -2.665085830516091e-14, 1.360207926110954e-13, -2.46527126647857e-14, -1.4386723149600877e-13, 2.0627783877714967e-13, 3.545073102803088e-14, 5.636718305654376e-14, 3.326206904309334e-14, 2.4997321243112533e-14, -2.328097795857467e-15, 8.710477712649701e-15, -3.222070556191522e-15, 2.256915052794347e-15, -6.0840398779344555e-15], [1.0170772466353245e-15, 8.571252389417169e-16, 1.2942716373604913e-15, -2.869087363115185e-15, -9.06660085686151e-15, 1.0778339246781624e-14, 2.060240948112066e-14, 4.304699026164323e-14, -1.4309427327405776e-14, 1.8487190673720927e-13, 7.961131211729755e-14, -5.5319958954403586e-14, 2.4075126657877033e-13, 1.228419086287194e-13, 2.673242486747607e-13, 1.2605267849484514e-13, -7.494632220600775e-14, 2.2590127468288812e-13, 1.8270899116573647e-13, 3.813976925622943e-14, 1.8640484663635937e-13, -2.4772049103845284e-13, 1.7281792316636846e-13, -1.669614560538893e-13, 1.6557674014424512e-13, 2.55703851105224e-13, 1.542804512616458e-13, -2.2915390830539895e-13, 2.781132529133812e-13, -2.0502627644681387e-13, 1.8716063719453543e-14, 2.9949198503131935e-13, -9.029167252197143e-14, 2.301665802395547e-13, -7.646126434909459e-14, 5.944730656088498e-14, -7.708683545009157e-14, 3.5969111803618725e-13, -6.234779978810199e-15, -8.70909586309955e-14, 1.4849453860554113e-13, 3.3564805394705605e-14, 8.499064218245658e-14, 3.484881925131661e-14, 2.886296955021024e-14, 1.971848655494754e-14, 1.0290108608951298e-14, -4.455208543496e-16, 3.345803223302299e-15, -1.2189015869226195e-15], [-4.7830684217194195e-15, -8.855983573427886e-15, 2.4926557569600067e-15, -5.548074804240732e-16, -2.241422142562708e-14, -7.131642010878986e-14, 6.02332514919833e-14, 3.343919040862779e-14, -1.1282899832802066e-14, 2.440704973197261e-13, 1.7808691533168636e-14, 9.154616219817294e-14, 1.9307886994952839e-13, 3.883798867904652e-14, -1.1503985596430805e-14, 1.1760578134175498e-13, -1.1515960440019318e-13, -3.5108218009215555e-14, 8.847902201484723e-14, 7.212434723893532e-14, 3.452577308250826e-13, -2.4180603266227285e-13, 9.780941857763688e-15, 2.131057374836487e-13, 1.4520609920628397e-13, 7.157079426724569e-14, 2.669888507327023e-13, -9.383950729099574e-14, 8.247077337448366e-14, 1.1229617225255034e-13, -2.222395444756442e-13, 1.6764355474565423e-13, 8.861636332504683e-14, 2.0975930682069072e-13, 3.8016998945601677e-13, -2.2351413932588174e-14, -1.1002732335256213e-13, 3.3496637538363294e-13, -3.2838742304846374e-14, -1.2780210646278628e-13, 7.901421487585547e-14, -7.758092670888395e-14, 3.6675496624047343e-14, 1.1121796029706782e-13, -1.063890407113641e-14, 5.0173020848653244e-14, 1.803228959651893e-14, 2.029548539861717e-15, -2.209180511051831e-15, 2.6212035946176875e-15], [-1.990188612868704e-15, -7.160156909180181e-16, -2.5780752180423402e-15, -1.4841204776087392e-14, -3.4247322944262965e-15, -4.416225821450223e-14, 1.0617298462937616e-13, 4.841019620761833e-14, 1.013308733525519e-14, 1.2574994214323287e-13, 2.1950131057386912e-13, 2.8231220529709167e-13, 1.371484035280618e-13, 2.8184388416868655e-13, 1.826895161842132e-13, 3.642233541677198e-13, 4.313069270223818e-13, 2.904831594447571e-13, -3.0098621213664814e-14, -1.2749266330429766e-14, 1.2880409900554307e-13, -8.539764490174406e-14, 3.941917525360737e-14, 2.89753545592783e-13, -1.1431797891127415e-13, -3.37715722357676e-13, 1.5467320349862868e-13, -2.110362074004898e-16, 2.2634574336349855e-13, 1.158827401441867e-13, 1.1971657389378554e-13, 1.9700648718704722e-13, -4.2046871355765764e-14, -2.763506654415715e-13, 5.760262465582741e-14, 2.7870177479326526e-14, -1.1869028166983792e-13, 4.1571891870768873e-13, 5.215902173063072e-14, -7.282507387927628e-14, 8.780403839983922e-14, 5.503418020239535e-14, 7.515945602432766e-14, 1.4390240030397877e-13, 8.198672453831393e-14, 6.597791703168848e-14, 3.5791363633703305e-14, -5.4082215119569295e-15, 4.356390397616643e-15, -4.241660208427521e-15], [-6.482244889515279e-15, 6.954564013431433e-15, -9.148252291877983e-15, -3.541723595716466e-14, 3.5191542334302855e-15, -7.065651368024298e-14, 1.3486511441038879e-13, 3.848060853794098e-14, 1.711579012200759e-13, 2.6066320868260717e-14, 1.5188242644906952e-13, 2.799625494539354e-13, -4.190994678577621e-14, 1.1779421567933296e-13, -8.731622873738368e-14, 3.710621491060523e-13, -2.32895625527918e-13, 2.1397563354421528e-13, 1.679496504299353e-15, 1.5337391594391278e-14, 2.614933280759707e-13, 7.39367876818886e-14, 9.230698752018748e-14, 5.856191996177901e-14, 1.2705845219267847e-13, 1.3537009512475107e-13, 5.641031058608616e-15, 2.539100386108467e-13, -1.20305715801787e-13, 1.3566990413049762e-13, 4.308467306340068e-14, 1.1742322880096273e-13, -1.0176215711830538e-14, 1.9790716103678524e-13, 8.058735834681405e-14, 1.7331118094474074e-13, -7.579717018965648e-14, 2.6293225409423915e-13, 9.051129122453552e-14, 1.7821882207849638e-13, 2.652501157086873e-13, 1.469574109754998e-13, -8.020715574997769e-14, 6.478392583671166e-14, 1.1409521602240985e-13, 2.642139707974972e-14, 1.8853405029653145e-14, 1.7318367876925644e-14, 6.304706783770778e-15, -8.392875932813123e-15], [1.0445035381927083e-15, -4.373557637875119e-15, 8.40815979531338e-15, -2.4487317623373035e-14, 1.1642854107034306e-13, -8.507481015235935e-14, 2.5407041921721163e-13, -5.833643301495633e-14, -4.612313609926415e-14, 1.3293396907614139e-14, 6.5350040307009076e-15, 3.5266410560071126e-13, -1.0579696976343103e-13, 5.47378928208303e-13, 2.4727789260658994e-13, 3.453146785441924e-13, -1.4542363081966603e-13, 2.986725450293548e-13, -2.5888782762516216e-14, 1.3565566381258838e-14, 3.3275886268045425e-15, -3.839267635362062e-14, 7.98709243274992e-14, -6.93697757656736e-14, 6.542624786127355e-14, 1.91076118143986e-13, 1.7797281660555941e-13, 1.6000877922986434e-13, -2.3132499605074686e-13, -6.146429529620481e-14, -1.1892643445553241e-13, -1.7070315972388117e-13, 7.266470682543852e-14, 5.6456788977967895e-14, -6.998655805280987e-14, -1.1222980552706707e-13, -4.8792909410110344e-14, 3.6825189707496986e-13, 7.365854074684736e-14, -1.5572085450537426e-13, 6.9101794869953076e-15, 3.420566035820284e-14, -1.3927635357947193e-13, 9.605036492728314e-14, -7.40171812729784e-14, 4.05817584669e-14, 5.64264313171383e-14, 3.952322816897988e-14, 6.450212644548963e-15, 7.73422565412702e-15], [8.862264322731777e-16, -1.9401931707833768e-14, -3.996456282768547e-14, -8.272032960953551e-14, 8.6581790185742e-14, 2.915251590476786e-14, 1.7768180318993715e-13, 2.165771631045671e-13, 2.1276803561197377e-13, 2.0224155737689348e-13, 1.7555992467069292e-13, 2.7966317412905783e-13, 3.266266787203473e-14, 1.8954400494899243e-13, 2.2104262593480167e-13, 3.2005252397979134e-13, 7.718649395853372e-14, 4.2492599066148995e-13, 2.4898692049107884e-13, 4.059390153123184e-14, -2.609529617132039e-13, 1.1669234101143594e-13, -1.4599308090570973e-13, -2.6559996064469404e-13, 6.268110217064887e-14, -2.2392029162409018e-14, -8.475280888339473e-14, 2.8772147967100203e-13, 1.8311075583327813e-13, 9.608302651772926e-14, 6.631791605671636e-14, 1.0145523472986778e-13, 2.28445842971603e-13, 2.1706287212531344e-13, 4.4314671290152097e-13, 1.7637224959590053e-13, -5.037986968250453e-14, 1.8759946124758536e-13, 2.190174718018703e-13, 3.197575464499759e-14, 1.6237498270867817e-13, 7.550071543438105e-14, -1.5319385367998546e-14, 1.396996803177189e-13, -8.223377355584191e-14, 1.3612232814454867e-13, 1.210633833849742e-13, 2.3864887320544474e-14, 1.7667582620419647e-14, 1.4169573717484618e-15], [2.120830077743981e-16, -4.2135640408638014e-14, 7.275640322417648e-14, -5.5619344443676513e-14, 2.2684821686033696e-13, -6.715892490564979e-14, -1.4620119012458653e-14, 6.36759864129123e-14, 1.0267916345733236e-14, 1.0443989423292166e-13, 2.6314205060274688e-14, 1.416312542506376e-13, 1.7466009107763858e-13, 1.6041431149995539e-13, 2.8068736571129627e-13, 2.1519579466913047e-13, -1.8241232295815833e-14, 7.358924667549838e-14, 1.422128609535403e-13, 2.501846657360779e-13, -5.815471395458419e-14, -1.3877054616095313e-13, -4.560936318290937e-14, 7.4662430643406e-14, 2.6068749481127085e-13, 1.1074648142983534e-13, 9.313773032980019e-14, 1.4099981490538205e-13, 9.767500800143478e-14, 1.5539425215344016e-13, 2.7064513282402947e-13, 1.7302455515978525e-14, 7.454833191727905e-14, -1.9944386853848473e-13, 4.0107345477538234e-14, 1.3524657739225066e-13, 7.50685931060098e-14, -9.530126508235743e-16, 1.6933018030275415e-13, 1.6807106921479242e-13, 3.0688347913213065e-13, 6.48412936841633e-14, 1.2087307879864867e-13, 8.441238973002502e-14, 8.53251998678313e-14, -1.2668620492928273e-13, 1.267779013280207e-13, 3.80512102675281e-14, 2.5660370163893727e-14, -4.250034664358347e-16], [1.965484049929085e-15, -4.395289538686349e-14, 4.3859938603100015e-14, -7.644493355387152e-14, 3.0155608912729726e-13, -4.649370284929254e-14, 2.0000307291399844e-13, 3.270135898181259e-13, 6.92609100090948e-15, 6.40515811505156e-14, 5.0299472703282944e-14, 1.6375341024572193e-13, 3.6467015388300106e-13, 1.5208926511852544e-13, 2.2004586466752712e-13, 3.222453770837519e-13, 1.604712592190652e-13, 1.9571933592039958e-13, 5.011356252388778e-14, 5.828786753389256e-14, -1.8982120833944266e-13, -2.1252266710781315e-14, -1.3694407207612974e-13, 3.5483267257600815e-13, -6.250398419324621e-14, 1.9345110366039697e-13, -1.8111553923283452e-13, -1.5527114099675443e-13, -3.0048373186354616e-13, 2.2234129684953197e-13, 2.0332333025888626e-14, -8.642853820866117e-14, 1.7195263496503493e-13, 9.917654669516426e-14, 2.800224245189109e-13, 2.128371263954154e-13, 2.338804605712952e-13, 1.513410199298435e-14, 1.063057180803427e-13, -9.735049951494629e-14, 1.018900811161974e-13, -1.438144715077902e-13, 5.046968566809959e-14, 1.3448742750140578e-14, 2.0871228939458968e-14, -6.027930721442436e-15, 6.173939804494585e-14, 7.80258222940998e-14, 2.080465214980478e-14, -5.782559464424732e-16], [-5.496153272760819e-15, -1.4076198499445199e-14, -4.694550683522619e-14, 5.969728292427867e-14, 1.2504145668109506e-13, -2.2161732762511835e-14, -2.6392924914260714e-14, 2.7403364408380704e-13, 1.7136810091626653e-13, 2.9600047456515566e-13, 2.1698247853422364e-13, 2.1671827201731608e-13, 7.180862756630754e-14, -2.937464860111941e-14, 7.747520344453945e-14, 1.093414570582478e-13, 1.545136767014746e-13, 5.292821573816414e-14, -2.929718574402711e-14, 1.2902854240777473e-13, 2.118924915357149e-14, -6.888657396245113e-14, -5.241255563240288e-13, 4.528066611849671e-15, 1.0190682526349873e-13, 2.0382286624546359e-13, 8.094222449413213e-14, 6.237074658826947e-13, -8.802219342947046e-14, 1.9065968964206148e-13, -1.630757161252827e-13, 4.2638001419501026e-13, 1.5913888316929775e-13, -1.2118461074038522e-13, 2.8710052998176527e-13, -3.050184955413933e-14, 3.440712883877317e-13, 3.0076846114173274e-15, 1.5645780027453982e-13, 3.1473391601255507e-13, 2.4343445011523746e-13, -1.3822871273712171e-14, 1.3539626505468944e-13, 6.134077078744082e-14, -1.0486991591958372e-13, -3.5481718881373234e-14, 1.2641068205219985e-13, 9.26817420011071e-14, 5.99340726787495e-14, 2.2914385910651272e-14], [1.3968587198661276e-14, 4.244633209369089e-14, 5.997322592970339e-14, 1.635028036898155e-14, 1.4459309129796066e-13, 1.2951969954443782e-13, 1.0292955994906788e-13, 1.58198635940264e-13, 9.436458640313047e-14, -8.167184851050162e-15, 4.3492719327279175e-14, 2.5207269539924415e-13, 1.7104965718568038e-13, 2.3026017399209453e-13, 2.5299012017254707e-13, 1.5407484587216108e-13, 2.466259618402744e-13, 3.7989658077317023e-14, 4.129086666766063e-13, 2.5318104817512177e-13, -2.674544613556762e-13, 1.7418274396614752e-13, 5.95524064089803e-14, -9.307450101435355e-14, 5.116790509091668e-15, 2.8106987223774915e-13, -5.822254435300031e-14, 5.982817865256285e-13, -2.462779871530152e-13, 2.065311626147509e-13, -7.863946039493586e-14, 2.594824040965532e-13, -2.7204409582784646e-14, 1.5342646586796044e-13, 4.483560332897707e-13, 1.048177861238779e-13, 3.1451658768708035e-13, 2.4468811308728244e-13, -8.924737576569697e-14, -1.3840876653071956e-14, 3.4236644823413404e-14, -4.344247333284805e-14, -3.178188574403003e-14, 1.8680891523351756e-13, 5.995919906409686e-14, 3.563455073011222e-14, 1.2655242793372518e-13, -3.5283242121172606e-14, 1.1789260702648602e-13, 3.7449715231023875e-14], [-2.9503195168227667e-15, 1.1293786747273125e-14, 4.157496897205966e-14, 8.146541980499217e-14, 5.897456730862699e-14, -9.185686065948939e-14, 2.588166429762749e-14, 2.5503557599115823e-13, 1.5859538617275792e-13, 2.4340514955152603e-13, 4.916054881427302e-14, 1.7190656992523146e-13, 1.624760981137896e-13, 3.750498582489811e-14, 4.7767877571188236e-14, -8.810761331406926e-15, 2.5861983995317805e-13, -3.454796670097904e-14, 3.235086623500777e-13, -2.550703246707864e-13, 1.5727640001982068e-14, -1.730312670488593e-13, -2.680670626881848e-13, -3.5572998539901146e-14, 8.180709256712382e-14, 1.749088206085339e-13, 1.6177139380672834e-13, -1.052375553237464e-13, 4.297454861586225e-14, -4.448174210154761e-14, -3.340661352147639e-13, 3.1379575587270336e-13, 1.7262175033578436e-13, 3.4360714143769067e-13, -9.110525105594097e-14, 4.2497414956673904e-14, 2.8682709419386443e-13, 5.097968759377319e-14, 1.4135029681016514e-13, 2.343548532318662e-13, 6.141488278219379e-14, 1.169312178550888e-13, 1.8206939319913296e-13, 9.42795866468735e-15, 1.9350177655943351e-13, 1.809928566748201e-15, 1.4355445272177386e-13, -2.129204507205027e-14, 1.2781884383382403e-13, 1.1250449153559806e-14], [3.218553421284638e-14, 4.271305599251769e-14, -4.380676187467139e-14, 1.0971851546878394e-13, 7.975053722877185e-14, 5.434601082549744e-15, 2.188575248763744e-13, 2.4523075627461144e-13, 2.782637943850308e-13, 2.557268904013893e-13, 9.141384887554824e-14, 1.288803184182688e-13, 1.6461995883208097e-13, 2.6195663476932807e-13, 3.6457927063589246e-13, 5.167405674362524e-13, -1.6281107592750615e-13, 2.1278961123520623e-13, -9.691879731491687e-14, -3.116837300407016e-13, 2.649760463401419e-14, 2.610735537939045e-15, -1.1687009595761494e-13, -9.024477400174785e-14, 1.1420282308802904e-13, 5.098617925428095e-14, 2.1875535237414478e-13, 9.357446051740451e-14, 1.9835561416037956e-13, 3.147956613262781e-14, 3.543117676422375e-13, -1.9399838181201334e-13, 1.7470405547573287e-13, 3.242378764025007e-14, 2.3528588474243384e-13, 2.0169136543193855e-13, 2.324084392817116e-13, -2.0586917248515378e-14, 1.6237183852237796e-13, 1.2768611038285749e-13, 6.75169284630045e-14, 1.5609644924297755e-13, 1.996209865158874e-13, -1.5406983143711334e-13, 1.337638767112681e-13, 1.9609178647170267e-13, 5.828158593755572e-14, 2.1654659876769837e-14, 1.905700938850327e-13, 2.3380633502401507e-14], [-2.3413713527123577e-14, 4.037532976139055e-14, 8.059007562850884e-14, -1.3675480764626345e-14, 1.4785975178607802e-13, 6.404237220831305e-14, 6.644249088633494e-14, 1.5052911174484596e-13, 1.2017548956834434e-13, 2.4216403621962757e-13, 1.2337452294595291e-13, 2.917805699744619e-13, 3.141795092316546e-13, 1.0998964055080468e-13, -1.434125035523412e-15, 9.928311021619243e-14, -1.2752616345736156e-13, 8.585321310209532e-14, 9.779643864475315e-14, -2.66600697884623e-15, -7.23820688715987e-14, -2.1361636960183505e-13, -2.7860756778887164e-13, -1.0060648230573056e-14, -1.2857590155328918e-13, 4.069184225685696e-13, 1.7552182851685721e-13, 4.0331426349668464e-13, -4.662769668528459e-14, -8.599097454063676e-14, -8.044498904903954e-15, 1.3916079118041214e-13, 3.2344564309880197e-13, -1.0479789779027637e-13, -2.520710229326898e-16, -2.1931058585920177e-13, -3.3633476049805405e-14, 3.461412336229139e-14, 9.705362463132902e-14, 2.9687894937541204e-13, 1.0747563321082676e-13, 1.4390910880492103e-13, 1.9286364226576286e-14, 1.1173655452495837e-13, 9.138055709258935e-14, 5.508086865844801e-14, -7.993540725170778e-14, 4.0961961063736355e-14, 5.966922919306561e-14, 5.898461650751322e-14], [1.353625565315205e-14, -5.908260127885159e-14, 7.556896596113902e-14, -7.485923027837106e-15, -1.970089876283075e-14, 8.402339154306437e-14, 1.0324946057632331e-13, 3.1958669651638294e-13, -2.0364490801137725e-13, 3.5501817279145684e-14, 1.2687546597101723e-13, 1.300041617326858e-13, 1.6870335093431403e-15, 2.809379790434663e-13, -6.683148229703201e-14, 8.391808840706172e-14, 1.1437953448961702e-13, 1.001117659366231e-13, -2.9734332671841474e-14, -1.7154605915035287e-13, -4.5816628756970706e-14, -1.7718331413608263e-13, 1.2889517198803185e-13, 5.4941433482802796e-14, 1.2184095963055364e-13, 5.65453933676352e-13, 3.31349449831167e-13, 1.9639871055420616e-13, 3.2781374457394735e-14, -9.695690024501616e-14, 1.4172567470733394e-13, -8.207047237987486e-14, -9.761848041066681e-14, 1.9687039270934598e-13, 3.252375582393774e-13, -2.8732746704899365e-15, 4.8778465804293764e-14, 2.3757734603398195e-13, 1.7459895223950576e-14, 1.7916680780053623e-13, -7.968543088831409e-14, 1.328123266745862e-13, -8.443416186490124e-14, 2.4196053147185204e-13, 2.8803929236204248e-15, 8.263511809504173e-14, 3.672009121465439e-14, 1.1225974305955483e-13, -9.866109665357392e-14, 9.07298663825086e-14], [4.78587404895061e-14, 2.8087913227648875e-15, -5.3696988770322775e-15, 1.7563907142928437e-13, 7.764331576764691e-14, 1.5140591959426214e-13, -6.873122811992469e-14, 9.749370229314089e-14, 8.378346437855691e-14, 3.1185918105726407e-13, 1.5872601898201527e-13, 2.0383418006454006e-15, 2.69381440981889e-13, 1.0090649968158213e-13, 2.5906620598759034e-13, 8.978878567305476e-14, 5.788421567694442e-15, 3.978911858738658e-15, -4.849519765794119e-14, 4.9429369966677225e-14, -4.888670306242571e-13, -2.4841012493531656e-13, -2.7210354737634834e-13, 2.0492787154713366e-13, 2.415908185310345e-13, 3.4863306902846447e-13, 8.46123301631585e-14, 3.9810974070304816e-13, 2.781691706404271e-13, 1.6779303912018567e-13, 1.9608299088157838e-13, 1.0693024563674866e-13, -3.619480203834874e-14, -3.271680886277051e-13, -4.5090565667111476e-14, -4.7110901876638855e-14, -1.164576518986743e-13, 2.957144891371083e-13, 1.2939868902946128e-13, 8.889544374050817e-14, 7.228304055566931e-14, 2.6556353145169853e-13, -7.008914390711773e-14, 3.417111496648202e-14, 1.7298269479153194e-13, -4.270300679363147e-14, 6.724182571426346e-14, 9.253288781908842e-14, 1.6148037700297428e-14, 1.4638417973437956e-13], [1.1903698241954447e-13, 1.189536479300618e-13, -5.869234948312901e-14, -7.243901468488437e-16, -1.9198516745550648e-13, 4.5047854877779125e-14, 2.9925121083386463e-13, 1.9334014912057024e-13, 1.4538928871585255e-13, -3.602605613459674e-14, 1.4581303558244135e-13, 1.1650706441268532e-13, -5.2385548833912624e-14, 3.0813798659602406e-15, 6.197052961932903e-14, 1.8419001133335167e-13, 2.788257092659757e-13, 1.1509387464348625e-13, -6.931073418111819e-14, -1.1790392338666134e-13, -2.9973967101762367e-13, 2.922767822037542e-14, -4.254213626340986e-13, 1.1699780142100658e-13, 1.8547319170954257e-13, 1.9751858297816643e-13, 2.520015175266205e-13, 1.707224314174971e-13, 7.105848841195556e-14, 3.897729849381554e-13, 2.8689619175356965e-14, 1.0243462843359183e-13, 1.1821754241757992e-13, -1.7745548953895796e-13, 2.819087736687098e-13, -4.7803049767290023e-14, 5.93631453672458e-14, -1.0794920594350485e-13, -8.700218449592557e-15, 1.8648231626971525e-14, 8.659916452555608e-14, 1.502439530209551e-13, 2.4188978728009736e-13, 1.9269762380810102e-13, 3.467829322312266e-13, 9.68317019991484e-14, -3.793375729093003e-14, -6.633236305066473e-14, 1.0333990336629933e-13, 1.1343907719641236e-13], [1.506580775932631e-13, 1.427090426896465e-14, -8.814529780989261e-15, 2.39049584164e-13, 7.014713517081855e-14, 5.269959138130484e-14, 1.0553715426532204e-13, 7.977084399664932e-15, 5.5366437346285324e-14, 1.925537806729983e-14, -1.163722303200096e-13, -8.198589126965207e-16, 2.74517062727464e-13, 4.3756515880240265e-14, 1.0881491427318021e-13, -5.817815982656419e-14, 3.4119613669223066e-15, 2.2656285484853877e-13, -1.052668724046003e-15, 7.52972174628691e-14, -2.0041698064587193e-13, -5.08546601097476e-13, -7.656845806263551e-14, 8.380335271215844e-14, 2.4508295241344735e-13, 3.3870933943865034e-13, 2.802167135482203e-13, 2.37498849796694e-13, 4.527559696512057e-13, 4.4853923635186643e-13, 4.931465934394919e-13, 2.8103574697437017e-13, 2.3279888758907796e-13, 1.288503673332539e-13, 2.762767499584623e-13, -2.5382503716052385e-13, 3.4323970532143533e-13, 1.3369729314535034e-13, 1.0345087145865323e-13, 3.024261884757712e-13, 1.3963477726516849e-13, 4.1848604659736055e-14, 1.6084497015539378e-13, 2.220971751778697e-13, 1.9310775038489797e-13, 2.05543400225508e-13, 2.5294761944738564e-13, 5.0505694732753265e-14, 9.318839645257315e-14, 2.4871077758587858e-14], [9.156668072428722e-14, 3.686852865646302e-14, -4.850901784750859e-14, 4.1871843855676924e-14, 7.801765689648826e-14, 1.410299692783043e-14, 1.7423027267888386e-13, -4.712053094718324e-14, 2.508749501542451e-13, 2.7427840272424564e-13, 6.05489643883475e-14, -6.677076697537282e-14, 1.0831642521932569e-13, -1.7875017601070436e-13, 1.5064425401556392e-13, -5.4840938105808756e-14, 1.44948370797357e-13, -4.198782977121035e-14, -1.9695916176221823e-13, -1.7243499651157373e-13, -1.1075841442999626e-13, -1.3334556440806888e-13, 1.2295894825323922e-13, 1.0231738552116468e-13, 2.6700977583463126e-13, 4.4301942756647117e-13, 3.0738931365570377e-13, 3.81820605948463e-13, 2.415271758635096e-13, 3.035923292274423e-13, 5.328446559850486e-13, 2.592952436965279e-13, 2.5760402383272207e-13, 2.3469653954652503e-13, -1.5455303324033581e-13, -2.350323711694524e-13, 5.516670528325687e-16, 1.5656416050766064e-13, 1.2879154936539655e-13, 1.043067338773497e-13, 1.1352114452460593e-13, 2.2618014503417855e-13, 4.05824923362455e-13, 2.4660376280079277e-13, 2.403337945322548e-13, 3.5556667744678083e-14, 1.5932333306389185e-13, 1.4554798880885012e-13, 5.791185266794743e-14, 2.2345530102923367e-13], [9.3342691974245e-14, 8.844384643061365e-14, 1.3627914443627154e-13, -2.9627555698510596e-14, 1.1680707670633922e-13, -3.9214630349372614e-14, 1.4738743266216187e-13, -4.3208407636335586e-14, 2.2238045010048585e-13, 1.7400520586040302e-13, -9.941856772511734e-14, 3.1562515730339247e-13, -2.176687649568798e-13, -1.5571373942861733e-13, 1.7323183089824196e-13, 1.236598849577511e-13, 1.9647617679943025e-13, 2.429512415357514e-14, -1.900138168553847e-13, 2.58351867527787e-15, -1.3297834513224804e-13, 1.0269884172676297e-13, 1.554348690773269e-13, 3.9381115013968626e-13, 2.875793407661892e-13, 3.8367868452661436e-13, 4.4166693956640413e-13, 5.544557326285504e-13, 4.1448891844805824e-13, 1.6499681395470978e-13, 1.4407785132054124e-13, 1.0548544459795806e-13, 3.209517341565965e-13, 1.4639840988789343e-13, 1.9898473602349143e-13, 1.9116363019996453e-14, -8.345979106655441e-15, 2.0718814847369565e-13, 8.158349619783942e-14, 8.52850030722864e-14, 2.288298131709887e-13, 3.6147674480416225e-13, 3.1571915763174696e-13, 1.7695385629880322e-13, 1.889621949581824e-13, -8.126987716692083e-14, 2.9337087772106363e-13, 1.7170642620419063e-13, 1.3813890352779024e-13, 6.381751630103608e-15], [1.2371326836221885e-13, 2.830355511052561e-15, -1.1891429139120058e-13, 6.926384243715819e-14, 4.461975222896236e-13, 8.773076666176993e-14, 1.48946339203343e-13, 2.1547801249462845e-13, -3.654653077563019e-14, 2.039279660935589e-13, 7.959791544420378e-14, 1.51408426811786e-13, 2.0308445680336518e-13, -3.055670340780352e-14, 6.335692096014287e-15, -2.437036846197199e-13, 9.099763721405821e-14, -5.598321539825686e-15, 1.8125392408762514e-13, 1.2370050188163784e-13, 8.531871498358712e-14, 2.6318769212607673e-13, 2.0890281420948148e-13, 1.244943953699132e-13, 5.023647513605067e-13, 5.062446772549634e-13, 4.609081128911785e-13, 3.611264932923408e-13, 1.8328871406736447e-13, 2.6997517719659636e-13, 1.722641669067715e-13, 1.954789818512867e-13, 3.5708832809080993e-13, -8.654997054604544e-15, -3.0398258779942844e-13, 9.793503356371469e-14, 1.536506924297576e-13, -6.69328103074132e-15, 4.961821088006989e-14, -1.204015999314162e-13, 2.093491666913666e-13, 1.2361508030297313e-13, 2.052080022834496e-13, 2.308782234405199e-13, 2.3570189311601653e-13, -2.729485237276067e-14, 2.0785474307439405e-13, 3.91526580308197e-15, 9.023472480286163e-14, 3.199626978298009e-14], [8.284929545795267e-14, 9.634011795787989e-14, 4.678639000201858e-14, 2.3977480699717557e-13, 1.5720648253222252e-13, 2.5612633758678727e-13, 2.1522593548952557e-13, 2.725369300897451e-13, 2.766550552014968e-13, 1.697974714390954e-13, 3.5855866886702614e-13, 7.152996727918803e-14, 2.2104136554977616e-13, 1.3688838474204545e-13, 8.722494569072398e-14, 1.192940768243104e-15, -3.3950701408200223e-13, 4.3173735528485857e-13, -4.1912040651221824e-14, 3.013462960069213e-13, 1.5992440119579066e-13, 1.4838273025650356e-13, 3.5624668904936374e-13, 4.0090890676691693e-13, 4.927226161799414e-13, 5.457622201388013e-13, 3.0189690808021807e-13, 4.0563629928949685e-13, 1.639839251801195e-13, 1.3956025064778784e-15, -7.4685876515386e-14, 1.0964167941607261e-13, -4.749738268168026e-14, 2.1638203381857402e-13, 4.625377568478507e-14, -5.234618890691961e-14, -2.567280426874624e-13, -1.7278253751796396e-13, 5.6827359116128073e-14, 2.3708912979571173e-14, 8.968766349167975e-14, 2.503123847519967e-13, -2.321314459554323e-14, 2.702486129844972e-13, 1.7991924410824117e-13, 8.336536891579219e-14, 1.3166356026272918e-13, -3.976943692982418e-14, 1.245867287374275e-13, 9.942150184724663e-14], [2.9883396918031074e-14, 1.3669870357196912e-13, 3.747245027295454e-13, 1.3804949750614165e-13, 7.626404797391947e-14, 5.913494113872833e-14, 1.9996518004807007e-13, 1.0736550537515654e-13, 3.743849306091229e-13, 2.394553197219984e-13, 9.430219734436751e-14, 4.4192822551370955e-14, 3.359298516442122e-13, -3.108094226325457e-14, 2.9786630518884027e-13, -9.675340227350421e-14, 1.5284213510709938e-13, 2.2706490821703534e-13, 4.106873261605637e-13, 5.018106156301494e-13, 1.6823311678199754e-13, 1.0149438798082167e-13, 1.897776640696902e-14, 4.0592477838254093e-13, 4.863172039550057e-13, 4.2598872563096024e-13, 2.9984098971064244e-13, -1.2642198485984801e-13, 6.099449016607611e-14, 2.705994980769632e-14, 1.2024248479227447e-14, -1.0834280521343498e-13, -5.38615477902165e-14, -7.695912321043635e-14, -5.896535836642444e-14, -6.732599368416622e-14, -5.821165489743041e-14, -4.5515569530594005e-14, 1.0393281965311377e-13, 2.0312046586801885e-13, -2.994704255017129e-15, 9.9228886555041e-14, 1.9769235348136155e-13, 1.2159579441430035e-13, 1.1724380689394354e-13, 2.3566462366633734e-13, 1.610993477019814e-14, 8.189314433830128e-14, 1.919717673942809e-14, 9.549032029508575e-14], [6.442466189433144e-14, 6.966916464307832e-14, 7.636537344320182e-14, -1.8879785023762433e-14, 8.643314606789423e-14, 1.8084902878631043e-13, 2.9233747042035907e-13, 1.318863231515935e-13, -4.309074713666544e-15, -1.7363589271913657e-14, 1.31259491665571e-13, 3.173293604882138e-13, 1.0134636727922308e-13, -8.64737562155174e-14, 2.303211061541882e-13, 1.2146222070665014e-13, 1.219345398305663e-13, 9.527530945175472e-14, 3.491070551132208e-13, 1.377262426284151e-13, 3.6754488883829206e-13, 5.021736065174975e-13, 1.34370596246991e-13, 3.5758703398509895e-13, 3.0138923041295174e-13, 4.4643704965458e-13, 3.068282119263882e-13, -4.368868209369235e-14, -2.513399373609698e-13, -2.7514850207271957e-13, -2.8013463944376316e-13, -1.5362933025882784e-15, 1.677080376698628e-13, 3.7593754877770363e-14, -1.767888813857324e-13, 1.1203929087657064e-13, -1.3193112780637145e-13, 1.676481626048873e-13, 2.9082755626484713e-13, -4.7759085369195736e-14, 4.8069146861735856e-14, 1.9640812956057963e-13, -7.0579884303570775e-15, -1.8886903488651158e-14, 1.8640107903380998e-13, 9.44717801166714e-14, -1.049218424273822e-13, 5.160546960597404e-15, 2.3583296299427466e-14, 4.090543347296839e-14], [1.1108229950023557e-13, 2.5711663091047658e-14, 8.317464420112483e-14, 1.307386002843275e-13, 4.412875975550422e-14, 1.3618073953659132e-13, -8.966777515807822e-14, 1.6488836663240691e-13, 3.435179387039494e-13, 6.07922458033261e-14, 2.750199428001171e-13, 3.071108634327552e-13, -5.604602289129576e-15, 1.0345882679209384e-13, 2.6878895159967997e-13, -2.433364653438991e-13, -1.6582128194424922e-13, -1.0920872360728126e-13, 2.84027521554181e-13, 2.4554230176887515e-13, 3.792278719782355e-13, 3.977040051450498e-13, -3.136023274288684e-14, 3.9383459601166626e-13, 1.4880188281638645e-13, 5.79580383252426e-13, 2.2058643431820124e-13, 3.9682761742397543e-14, 2.5486808030803637e-14, -3.153990469403206e-13, 4.247040815818365e-14, -9.564839019557056e-14, 2.4859561498636988e-14, -5.565661219928981e-15, -1.337119569797332e-13, -1.2153005110506626e-13, 2.1691422800746568e-13, -7.683643895835604e-14, -9.005425935125141e-14, -1.5913469543840653e-13, 1.0472964726351841e-13, -2.226180631709814e-14, 3.1318651556692945e-13, -6.313960449312941e-14, 1.8011144604836854e-13, 8.597694767503022e-14, 4.5432241817374916e-14, 4.1770721674301917e-14, 1.3154170949106897e-13, 5.814654855697265e-14], [7.258975457400188e-14, -4.826364595521618e-14, 1.7984848636395934e-13, 1.524244597726765e-13, 1.019949709001218e-13, 1.5028875767573308e-13, -8.193983279435393e-15, 2.4080738420559182e-14, 1.1897983141252733e-13, 2.0815873981103183e-13, 6.403943808618376e-14, -1.6281526365839738e-13, 7.13570370326766e-14, 1.3304116109561642e-13, -1.6266201168131655e-13, 5.277659277484748e-13, 2.7540391299950284e-13, 5.547363105982625e-14, -1.0299865073250952e-13, 1.1917180295969304e-13, 1.7932591446934848e-13, 6.44636050811144e-14, 3.495597095202335e-13, 2.928026744675183e-13, 3.178295300554357e-13, 1.398843470527475e-13, -1.321375599000127e-13, 1.9535085287142144e-14, -5.296045720026843e-14, 2.504635496398955e-13, -6.88430229164351e-14, -2.485566819639823e-13, -2.2056758275292715e-13, -3.8835268009219936e-14, 2.9957508912784037e-14, 2.9676966094939255e-15, -1.9025080989776288e-13, -1.2967839370820475e-15, 2.1428716548595184e-13, -6.090404059983651e-14, 3.885725020826708e-14, 2.7716926518685236e-13, 1.1811286269782645e-13, 1.9601139288061287e-13, 2.9946206105135875e-14, -1.4977289089393268e-14, 1.448583549119864e-13, -8.145830303416934e-15, 3.9726311094347676e-15, 4.720176479495672e-14], [7.124732932534822e-14, 8.241884686668519e-14, 1.4885610647753789e-13, -2.778182686073022e-14, 1.0199664124909379e-14, 1.2691985049745336e-13, 2.309219709981797e-13, -7.281042359742057e-14, -7.233977821060819e-14, 6.070807783342333e-14, 3.264780286732689e-15, 1.3188799011243368e-13, 1.2348130330741558e-13, -1.225086113283702e-13, -2.2634722058895856e-13, -2.884433685824972e-13, -1.1622148556045264e-13, -3.193011312166774e-14, -1.1497913894858297e-13, 2.2797101663016295e-13, 2.3691325187454385e-15, 1.3166314013438735e-13, 5.814058002401312e-13, 2.806888293842291e-13, 2.292694842569859e-13, 4.029702664761457e-14, 2.812116045667473e-13, -7.323667768153325e-14, -1.43208158547882e-13, -6.344904256942036e-14, -1.6430676289411954e-15, 8.725907095410296e-14, -1.9518546121814057e-13, 6.47391211819337e-14, -8.131551530211889e-14, 2.712837007985691e-13, 1.3256884197170027e-13, -3.685094086434623e-14, 2.4985745352042177e-13, 1.6303383542823867e-14, 2.2072041460166614e-13, -9.144651046599436e-14, -3.0646309329227656e-14, 1.5208424051908233e-14, 4.881928940421963e-14, -7.794019065126417e-14, 1.434489327453367e-13, 5.473667851439712e-14, -3.978702218084213e-15, 2.8993192395521117e-14], [3.650130599251039e-14, 1.0964586714696384e-13, 8.374242902039423e-15, 1.9395796817603395e-13, 1.259454915575678e-13, 4.4827189242492224e-14, 2.972189551767035e-13, -1.033671236170923e-13, 1.4418713889952778e-13, 2.3271597322793713e-13, 3.3672123791496367e-13, 2.2124256636793516e-14, -2.85271548679418e-14, 3.2136543860056266e-13, 1.2032140962823373e-13, 5.2795478899065815e-14, -1.4809632470011436e-13, 4.014607860015028e-14, -1.1101928024895985e-13, -2.596042684207406e-13, 1.2152021197035096e-13, 3.437700157090523e-13, 1.354446204715823e-13, 4.802966292911937e-13, 2.2925064624423896e-13, 3.99174779602135e-13, 9.836338828953656e-14, 3.595927266890342e-14, 8.98009287373866e-14, 1.4470132177982903e-13, 7.497982405313755e-14, 9.856563265228657e-14, 2.1570454298604214e-13, -5.192160771287776e-15, 1.9425003868877438e-13, 2.215009181931113e-13, 1.1715628467356964e-13, -1.1042553048172532e-13, 1.623672306631449e-13, 1.8428589546298085e-13, -4.624582035134446e-14, -1.1854917275708893e-13, 4.788197833019425e-13, 8.91879208290633e-14, 2.855311473370925e-14, -8.37126998580115e-14, 1.870387931991388e-13, 1.5278978508282727e-14, 1.3973590622280707e-13, -2.5680258073978784e-15], [2.297803196630796e-14, 1.4613189944136934e-13, -1.674886358077332e-13, 1.581938247931236e-13, 7.148662629734293e-14, -2.1302680756549175e-13, -4.445912970998771e-14, 1.46722708310211e-13, 3.597413640306184e-14, 1.235206598462768e-13, 1.1920614506350652e-13, 7.114390321435668e-14, 1.4383667054727184e-13, 2.4974334124176767e-13, -1.4700765019366735e-13, 1.2477683003584567e-13, -8.179244228526811e-14, -4.5923402342169795e-14, 3.134557568476755e-14, 1.5880181826639916e-13, 1.11142384629382e-13, -7.868049067090085e-14, 1.3465994270177306e-13, 3.9633519990228683e-13, 6.280881441030409e-14, 2.7174511013812463e-13, -5.91248919398421e-14, 4.95709593165139e-13, 8.261669343437306e-14, 4.998564022006165e-14, 7.39141752903287e-14, 2.2506822794365888e-13, 1.904059456761184e-13, 2.7509803246159037e-13, 1.1157597063068611e-13, 3.075350304276858e-14, -6.752614418147063e-14, 2.006041545984244e-13, -1.6449518749081862e-14, 1.6528321951109898e-13, 7.917981998143905e-14, -5.56888519673282e-14, 2.0569999967679636e-13, 5.648358910041902e-14, -4.282904529618291e-14, -9.613871385181355e-14, 9.355938333094338e-14, -3.364101464303597e-14, 3.28487915037326e-14, -7.424789271901974e-15], [1.5835252149798938e-14, 6.492462139738239e-14, 1.1415216374151965e-13, 6.127084652357909e-14, 2.504220789067979e-13, -3.593268261062321e-14, 4.1085482184368555e-14, -9.17559485422853e-14, 1.8812642416099479e-13, 7.873701826166882e-14, 7.134174978204455e-14, 2.3685358687373925e-13, 7.08273500613088e-14, -5.498916887157826e-14, 2.108804396296765e-13, 3.106817103928905e-13, 2.513210993482229e-13, 3.8213716587777447e-13, 1.943480099075856e-13, 4.425730547557953e-14, 3.84866800701069e-14, 3.766715672010035e-13, 3.526860877997584e-13, 2.3308153909544493e-13, 3.540530227937738e-13, 9.663783309818083e-14, -5.097655018373656e-14, 2.202996086334702e-13, -8.320269793233789e-14, 6.870652186291917e-14, 1.3760607237012223e-13, 2.2605829426251833e-13, 1.869799616787543e-13, -2.375748354283263e-14, 2.173174563479402e-13, 9.736892417561496e-14, 1.6439448543778545e-13, 2.5519218899497376e-13, 1.7083045861145812e-13, 2.1533145546596272e-13, 2.0674388308099256e-13, 1.3610578559108879e-14, 3.293751718851795e-13, -3.6881089308037854e-15, 2.584046258219397e-13, 2.7407489120020653e-14, 5.6140655953261856e-14, 8.644151475341311e-14, -6.9646136358341316e-15, -1.303944118343425e-14], [1.6349861934705605e-14, 4.4534081961424346e-14, 7.724134103593433e-14, -2.1213325218064245e-14, 1.541745111568668e-13, 8.033905572052413e-14, 2.7374828207200885e-13, 5.222601864862675e-14, 5.3131296969466044e-14, 2.0187874267239836e-13, -6.970852118193954e-14, 1.1048749941214644e-13, 1.8406376954289289e-13, -2.4541333337935916e-15, 8.248919803515234e-14, 7.787403398995182e-14, 2.6405527070449963e-13, 4.37431158190147e-14, -1.0222610247450498e-13, 2.1549350303316783e-13, 1.4315603552843975e-13, 1.1715942885986985e-13, 2.3047769205294943e-13, -1.7255391993736824e-13, 3.40127963771239e-13, 1.0312426233045555e-13, 1.3257888439432292e-13, -1.4851044927242235e-13, -1.5681581738442169e-13, -9.811131806069726e-14, 7.912559632028762e-14, 1.5995204157492546e-14, 7.597659209667568e-14, 6.196433340391327e-13, 2.312487766380211e-13, 3.5343120574279907e-13, 2.2709086130653922e-13, 1.7639821623793156e-13, 5.265081244793836e-14, 2.380084248177622e-13, -1.46552912615e-17, 1.3220476688217964e-13, 6.436248289973939e-14, -2.080004598463761e-14, 2.2624567150297814e-13, 3.1576710647282513e-14, -1.945343469915862e-14, 1.3739817660354814e-13, -7.634988121059654e-15, 2.119155308318802e-15], [5.2495256541241e-15, 3.823523664564857e-14, 1.451413994416409e-13, 5.869088581019616e-14, 8.897269314529777e-14, 1.239632582781397e-13, 2.1515224701124623e-14, 1.5669669067071984e-13, 3.374192676024006e-14, 5.702750961343248e-14, 2.320845609877359e-13, 1.5116159463469253e-13, 8.91418625655234e-14, 2.471558385470224e-13, 8.074521818312794e-14, 1.0714483635173785e-13, 4.821695749916352e-14, 1.9775872020684482e-13, 1.97251435562866e-13, 2.8069050989759647e-13, 2.3033051160803453e-13, 2.775632642563336e-13, -2.923563355381603e-14, 3.0115786166934333e-13, 3.3544204198175664e-13, 4.4023659907408905e-14, -9.395298260087351e-14, 3.668261508893607e-14, 1.9962183016070285e-14, -1.0947754475968546e-13, 3.5145860831017894e-13, 1.6647573686874757e-14, 2.2714530180812514e-13, 1.5047509137160187e-13, 9.036516110047521e-14, 4.773027676222008e-13, 6.943049108733279e-14, 3.0080489965209067e-13, 2.9364179273891344e-14, 7.799337076782459e-14, 1.9218468776029812e-13, 7.220662463129982e-14, 1.5235055784209445e-13, -8.530636185508436e-14, 2.3152012533673993e-13, 4.964668473962479e-14, 2.1738404330198975e-14, 5.676161919502577e-14, -4.158585503949777e-14, -1.4919086702730347e-15], [-2.0019128194081245e-15, 2.7599264155542605e-14, 5.701955427999186e-14, 1.189703988536267e-13, 2.3315732143916988e-14, 9.76879879343185e-15, 7.924535322650222e-14, 9.996228156209166e-14, 7.005480857956783e-14, 1.8292526239409301e-13, 9.895629780008741e-14, 1.4286648578575034e-13, 7.847489883394329e-14, 1.5065430999071372e-13, 1.6140501478759117e-13, 2.7122338866459282e-14, 3.1033522648361844e-13, 5.456081414575639e-14, 3.704987705521745e-13, -3.0957167710364553e-13, 2.054278378264482e-13, 4.612229584258047e-14, 6.460848159641278e-14, 3.002065284730959e-13, 2.612986324708466e-13, 4.122177656184535e-14, 3.4461249500718216e-13, 1.5187655820481094e-13, -1.1869530288114924e-14, 2.382552705473828e-13, -1.0927739426238106e-13, 8.642016274687872e-14, 5.253670762317419e-13, 3.9163672847265796e-13, 1.2786511216153484e-13, 2.647342523150187e-13, 1.3334849853019817e-14, 2.7900912916850595e-13, 1.0018483438678505e-13, 3.291109518157448e-13, 1.4429307900430677e-13, -1.065774716608103e-14, 2.902690024106369e-13, 1.160437441668008e-13, 2.2953934217771754e-13, 7.482782568481866e-14, 1.3723173801754446e-13, 2.076654794915607e-15, -2.2071288278469915e-14, -1.1339008777535848e-15], [-4.24919710759219e-15, 1.0222903320850248e-14, 4.50495286148829e-14, 3.2023905926950157e-15, 2.0563928435513718e-13, -1.1469776137976867e-13, 1.150903103288442e-13, 1.8710201573832186e-13, -2.995583517568026e-14, -4.384151394243134e-14, -5.5435524741595174e-14, 9.183466839627133e-14, 2.9069609675143326e-13, 2.2944471843311387e-13, -1.1316397444767132e-14, 1.5218264203063075e-13, 2.0703866409916422e-13, 1.518024394337944e-13, -2.204574557642899e-15, 1.8383389157727165e-13, 2.9252506450125337e-13, 4.79186189426134e-14, -1.018584630703423e-13, 1.6613594451975883e-13, -3.5493694571994694e-13, 1.406259006811461e-13, 1.3967749483076441e-14, -7.653160874129816e-14, -1.4364907646637753e-13, 1.272569289528791e-13, 1.5776965779819296e-13, -1.212490936645938e-13, 2.8205449044069186e-13, 1.9344775618618942e-14, 3.2160932987926327e-13, 2.718177787887355e-13, 3.3544540300849135e-13, 4.0050631539521875e-13, 2.9649037131679323e-13, 1.4923294804763954e-13, 1.0984309029840253e-13, 2.208673917586737e-13, 1.9446944055090398e-13, 2.753101235823522e-15, 1.6276879204277922e-13, 4.47346491989388e-14, -7.647549619667435e-15, -1.8197684637931595e-14, -7.216684288189907e-15, -3.4515305110532912e-15], [-5.991920597997577e-16, 1.544165287986881e-14, 5.865361636051697e-14, 5.864063981576503e-14, 1.9920958600153776e-13, 2.6354401855819588e-14, -7.258472658642698e-14, 9.527279545796727e-14, 1.748937366458092e-13, 1.6916310474797414e-13, 2.754122884612853e-13, 7.825381645844634e-14, 3.4212568758920647e-13, 1.241091783380291e-13, 9.162404857173886e-14, 3.677305855653845e-13, 1.9859302733109957e-13, 1.998856131611368e-14, 1.4227692374940704e-13, -3.815777378855627e-14, 3.878627816464959e-15, 4.166319524621931e-13, -1.8669166893295862e-14, 1.7076513543056587e-13, 1.7821169344921228e-13, 2.322826176195947e-13, 2.0261484818488024e-13, 1.7078691434170568e-13, -2.1940354264296524e-13, 3.435686251555131e-13, -7.340626045383714e-14, -1.9154466966535277e-13, 3.4188179631050586e-13, -3.195607298743519e-14, 2.716387770100581e-13, 2.1107681574816795e-13, 3.0974460735015696e-13, 1.9330414005591656e-13, 1.4476161697314638e-13, 1.805619862611449e-13, 2.09366134455366e-13, 3.916773182914904e-14, 1.503163912786043e-13, -5.525840676419251e-14, 2.1249293286323273e-13, 4.067680911610909e-14, 4.45395249951434e-15, -6.985549749191416e-15, 1.4521510824871096e-14, 1.3675480764626345e-14], [2.554207947171082e-15, -2.5119170744223327e-15, 3.57840376457425e-15, 1.7023168424478048e-14, 4.79764001421433e-14, -4.396545857953717e-14, 5.779586336428222e-14, -6.741099513448909e-14, 1.0278886438839716e-13, 1.0328421603221505e-13, 1.9190099270934013e-13, -2.495444443532252e-13, 9.551691035336596e-14, 2.8439639423831486e-14, 6.920626452553563e-14, 9.856751645356127e-14, 1.0923593708181065e-13, -4.3488530749355e-15, 3.3871896173293115e-13, 9.90071739870313e-14, 5.334568100841611e-14, 2.5244829013684744e-13, 1.0026732184332046e-14, 1.574032787790558e-13, -4.888335558821816e-14, 2.545766603165994e-13, -3.284037267386325e-13, 2.8383114543568955e-13, -2.0556223823825492e-13, 1.2220335420670692e-13, -2.6203243744184375e-14, -3.5828419631079786e-14, 3.295606788768918e-13, -2.048675763538163e-13, 6.465022744581161e-13, 8.445844799356492e-14, 3.484301876969381e-13, 1.900891824588996e-13, 2.691624321430469e-13, 9.689764859628983e-14, 2.686909668283416e-13, 3.518358700086224e-14, 1.4220825309430724e-13, 8.383789810387926e-14, 1.6748172401888362e-13, -7.516741135776828e-14, -2.0158564216759406e-14, -1.8507539454432585e-14, -1.7723691776911667e-14, 7.755580201760249e-15], [1.419469671470018e-15, 8.441448296019592e-16, 1.496849688740077e-14, 3.303260781768215e-14, 7.568662900190801e-14, 2.4814340103648976e-14, 1.2623566471650638e-13, 1.0896063104516227e-13, 5.2975530998597767e-14, -6.010051804101676e-14, 2.336897223041007e-13, 2.0052500783983296e-13, 4.695953370083272e-14, 2.2769676769063274e-13, 3.460240042630139e-14, 2.971025321921693e-14, 7.08499624528687e-14, 4.273608851241943e-14, 2.1513968720670434e-13, -1.3172804318693776e-13, 9.816240431181206e-14, -1.8727452585649146e-13, 2.356801277574039e-13, 2.8240620562544616e-13, 1.1127846555455609e-13, -5.2307249108268436e-14, 6.026968068497882e-14, 3.1918136753419923e-13, 1.9639242218160574e-13, -1.7157954744495552e-13, -2.168438903915257e-14, 3.6098704456416844e-14, 1.8936165569610752e-13, -5.4115295144291364e-14, 9.422641161251077e-14, 5.801820612480468e-14, 3.863216712675366e-13, 5.790620126412335e-14, 3.659246300066754e-13, 1.958947733844349e-13, 6.64596551619781e-14, 3.864977457003482e-14, 2.0388316143878094e-13, 9.55349148856928e-14, 8.337730869221668e-14, -2.3024720422360617e-14, -6.707936394794714e-15, 1.2465791508038063e-14, 4.995989211253101e-15, -3.860622437105174e-15], [-3.4565553222546406e-15, -1.0082840493791118e-14, -8.222037857681403e-15, 2.779690235312545e-14, 3.328237750503671e-14, 3.1057076262932734e-14, 7.742767473180312e-14, 9.344465441230368e-14, 6.581607952865429e-14, -3.287391407743169e-15, 8.670364095740221e-14, 1.8953144175631875e-13, 1.0497689956895373e-13, 1.4028004018812323e-13, 4.9377866975352375e-14, -5.965625264831367e-14, 2.4024125787683315e-13, -8.736982898228593e-14, 2.29513592376121e-13, -2.337024887846817e-13, 3.4761096453540807e-13, -2.866914333970322e-13, 1.2529038949989774e-13, -3.94361328532114e-14, 3.723281719828636e-13, -1.6181075034558956e-13, 2.408232847080777e-13, -1.6679481417997827e-13, 2.854848790093817e-13, 9.94399265079153e-14, -5.0258439039186156e-14, 4.658510990157572e-13, 4.4334560979006343e-13, -1.594495816306142e-14, 5.128376564557391e-13, 5.875641227899575e-14, 2.0439359026905995e-13, 2.9427198525167064e-13, 1.3617110368978336e-13, 1.1456544805714397e-13, 2.735250990548027e-13, 2.006058215592646e-13, 1.6305185012496087e-13, 3.941896518943645e-14, -1.2403401602242153e-14, -2.862806613811294e-15, -3.806607569575241e-15, 9.950524630067577e-15, -1.929055068691809e-15, 3.050394341958494e-16], [3.917150027873137e-15, -9.673329709946818e-15, 9.438008498848286e-16, 4.101178947092448e-15, 2.4711544185170194e-14, 4.6856107589841184e-14, 5.851481137738451e-14, 6.842346378073752e-14, 1.8779814129569333e-13, -7.839743936498278e-15, 7.914444110929814e-14, 1.2714177312963398e-13, 2.6958200821940344e-14, 4.745739595030628e-14, 2.17114588568941e-13, 9.973156333978675e-14, 2.3796635099720617e-14, 1.2593313165280146e-13, 1.9451969332159869e-13, -4.9153850477726135e-14, 3.674198803278045e-13, 1.1122633575885027e-13, 5.645720910630973e-14, 1.9682350096538598e-13, 3.6976765914594964e-14, 2.013934402274667e-13, 3.823502929198308e-13, 1.9637254401239958e-14, 1.2626161780601025e-13, -9.873018743701556e-14, -2.037085608432975e-14, 4.9231313334818436e-14, 2.175822998336241e-13, -1.8750524407879637e-13, 3.215643083840508e-13, 4.717350099957274e-14, -2.4210541561044694e-15, 1.69661797089736e-13, 1.1704469316496657e-13, 2.2505712842391806e-13, 1.4601904754774075e-13, 7.224200350344073e-14, 1.4440696088999921e-13, 1.2900006854821983e-14, -6.490200699411924e-17, 1.7469525988560858e-14, 3.3966779279385236e-15, 1.4625980480453653e-14, 3.321307877500652e-15, 2.479675400559808e-15], [3.4326880513833825e-15, -1.186659913060095e-15, 2.2301166244091154e-15, 4.943020429413027e-15, 2.342815882700605e-14, 2.5602795640402957e-14, 3.211728029795663e-14, 1.0745887720506418e-14, 9.26423786859823e-14, 2.0258637771345712e-14, -1.2863996096102413e-14, 5.310575384390864e-14, 1.096789488657518e-13, -2.4307267217906978e-14, 1.9696795735234252e-13, -1.0356266964329543e-14, -7.893382128476567e-14, 2.7505470503227242e-14, -2.268387944658317e-14, 1.6032219497287559e-13, 8.328602564555698e-14, -8.817879796295652e-15, 1.1065122071645533e-13, 2.1413559402223836e-13, -1.999743957665362e-13, 2.0147152988893996e-13, 9.512352114760675e-14, 7.172593004560121e-14, 1.6030795126683456e-13, 3.555512004607686e-13, 2.1402965391745937e-13, 4.878955939480395e-15, 6.228206156106558e-14, -7.44153850140098e-15, 1.3471981776674857e-13, 1.8783687441830538e-13, 1.1990435771006003e-13, 2.2939929036208673e-13, 9.140296111404423e-15, 9.076357151754574e-14, 1.6436202713524667e-13, 1.2332490714403455e-13, 3.3512885663170705e-14, 3.4003415995452826e-14, 2.6070298534981023e-14, 2.4972826744343833e-14, 1.6421883452144743e-14, -3.642049396714465e-15, 3.1226240177444206e-15, 2.1861507440071705e-15], [2.7669190960503184e-15, 2.6932238415074052e-15, 9.284965103630721e-15, 2.4308941378527226e-15, -5.560636302848513e-16, 2.6097307027537174e-14, 2.8927452474418816e-14, 4.50465978808854e-14, 4.958387555251999e-14, 6.588621385668694e-14, 1.0798542507232944e-13, 1.8628970097750962e-14, -2.992275684502409e-14, 7.5958167436007e-14, 1.403267286441759e-13, 2.272809626049574e-13, -3.526482084863572e-14, 3.315732562646223e-13, 2.649170216962454e-13, 1.478735753637772e-13, 6.883758157678194e-14, 1.9420020604642152e-13, 1.4351361895745263e-13, 1.687741065610135e-13, -1.0774947557454229e-13, 1.5575476292831875e-13, -4.001145795977726e-14, 2.8476905485378887e-14, 2.3902781880538737e-14, -7.676190683526124e-14, -5.765140697732568e-14, 1.0274197095037126e-14, 5.522951277629577e-16, 1.0722355620572388e-13, 3.1284023494556473e-14, 5.1765839200910643e-14, 1.5796290328291135e-13, -3.542770189626093e-14, 4.708954648197268e-14, 1.7844848320368312e-13, 5.131969339506465e-14, 1.4726894291723636e-14, 3.1217866833244123e-14, 2.7297784800824065e-14, 2.5248764667570867e-14, 2.0164007250478462e-14, 2.268534481358192e-14, 1.4614047480292734e-14, 1.6087742506980078e-14, 2.1384164140228912e-15], [2.597545752642638e-15, 4.3731392035991756e-15, 1.653954331654018e-15, -2.7602194889540105e-15, 5.682903285323185e-15, 6.8350188654536445e-15, 1.601949028615622e-14, 1.3887354197920747e-14, 3.773863139306874e-14, 4.3483717061115756e-14, 3.1724938024920227e-14, 6.472781837428554e-14, -1.2624068084562002e-14, 7.15119627468612e-14, -1.2974078191993477e-13, 2.1143189195965695e-14, -3.675379634969153e-14, -4.912956434906246e-14, 5.345308478612795e-14, -8.729571021126939e-14, -3.2267601541039956e-14, 3.329334692051683e-13, 1.0650838257143455e-13, -1.7463622507731674e-13, 1.1216239525699279e-13, 3.087622930768308e-13, -8.013513592660445e-15, -1.3629421865811735e-15, 1.73151857435494e-13, 8.507962129949975e-14, 1.0417065295217562e-13, 2.2926151537101813e-13, 1.2330837306090414e-13, -1.1944397836256837e-13, 2.1537459315990048e-13, -4.0267299179297736e-14, -2.954381124508146e-14, 1.9744426091924255e-13, 1.174077247098962e-13, 5.139820064378091e-15, 7.107607620407234e-15, 3.8204672308779844e-14, 3.174713028813829e-14, 2.9056838451177805e-14, 1.3885679613784025e-14, 1.6002741056657215e-14, 2.5105351825205346e-14, 1.0533595852936072e-14, 6.108116365943685e-15, 4.6599640412972685e-15], [3.702345437064762e-15, 8.766586022108773e-15, 4.602599158460945e-15, 7.737994315467592e-16, 9.337095746369487e-15, -3.1747548722414233e-15, 1.4575734486022528e-15, 8.245486270760244e-15, 1.1635883025878403e-14, 1.3558657133508085e-14, 2.7865781378330276e-14, 6.967377250231138e-14, 8.04219582232037e-15, 9.180451402334908e-14, 5.885628085160882e-14, 1.185215391542177e-13, 8.61404589151682e-14, -3.31724631216692e-14, 1.157956516046818e-13, 1.902717553284826e-14, 1.5996377128717904e-13, -8.775463266209177e-14, 1.8931370685502935e-13, 1.3012224320773074e-14, 5.67913500514744e-14, 2.084351029447984e-13, -5.538276814150839e-14, 1.449755842718864e-13, 6.155850568873023e-14, -1.0595776372187421e-13, 6.661353733157169e-14, 7.36746614778995e-14, 7.102666030192953e-14, -6.276945109517929e-14, 1.06528480969207e-13, 1.51844520030614e-13, 5.936649284145334e-14, -1.596966272600104e-14, 1.1195805364066537e-14, 8.813482848266455e-15, 7.820900841553659e-15, 1.051286895671676e-14, 1.7173489667561374e-14, 1.628914830711231e-14, 1.4757670386829173e-14, 1.1166494635959749e-14, 1.597091802882887e-14, 2.084066290852435e-14, 1.349710494329701e-14, 1.1682361417760141e-14], [3.5352751762406662e-15, 8.611030962444362e-15, 8.086371131618524e-15, 4.3145177473856e-15, -1.053924873906781e-15, 7.503509655283592e-16, -2.3615956195807697e-15, -3.964465711823236e-15, -5.8977082996480336e-15, 1.0463878265113465e-14, 1.3325009871271564e-14, 2.3842484993155492e-14, 3.7790974641077266e-14, 6.38104003772462e-14, 4.46356208830094e-14, -4.833734120975909e-15, 1.3871401857018517e-13, 4.8183669104336427e-14, 2.1963969542865974e-13, 4.919027628258986e-14, -1.7333274301544604e-13, 2.0432806380026036e-13, -6.244661634579457e-14, 7.68703541575641e-14, 6.494387953847117e-16, -1.543859576855558e-13, 2.838828347742628e-13, -5.683112671867746e-14, -6.928268044990513e-14, 2.025185439269092e-13, -1.5611067939649143e-13, -4.346173486206861e-14, 1.2288839379686473e-13, 5.466675086240359e-14, -3.358658091771362e-14, -2.6156346918026693e-14, -1.518204575186484e-14, 1.3336734501327458e-14, -1.5844464480133276e-14, -2.7543573856843003e-15, -8.559527971119512e-15, 1.0924472970731962e-15, 9.651556092762936e-16, 5.915713255491345e-15, 3.802001404408072e-15, 4.063493604236157e-15, 8.06878503356763e-15, 1.4253108106742837e-14, 1.138339351573021e-14, 1.1343195873152363e-14], [2.5864496210336067e-15, 4.196019532130618e-15, 5.800145774233862e-15, 8.1822586493795e-15, 1.98683880932055e-15, 4.9945234207378775e-15, 3.979539933669047e-15, 2.4436652771149493e-15, 3.830055982654082e-15, -1.9001631983774385e-15, 7.057569996081134e-15, -2.893373227081064e-16, 6.636963080627802e-15, 1.141144809397622e-14, 4.060562870238657e-15, 3.1765554948806965e-14, 7.458161692397436e-14, -1.5342834628110334e-14, 4.1883566791666924e-14, 5.666698867415852e-14, 8.143024422075859e-14, 1.608175398404299e-13, -2.9671103356394835e-14, 4.4835981444484724e-14, 2.749219580287787e-13, -1.4019670908677236e-14, -2.9963790509120874e-15, 9.783370131816876e-14, 1.1275153716499425e-13, 9.373273370579666e-14, 4.1263020290113056e-14, 3.091010418812285e-15, 3.8875674868935756e-14, 1.618090766084858e-14, 1.7917141820086814e-15, 1.9294737994292842e-14, 2.6178537910695335e-15, 1.6868869514674416e-14, 3.0709118092815983e-15, 6.958542103668213e-15, -4.9844742218516525e-15, 6.2251492141999175e-15, -1.3566613313981644e-15, 4.915175491821463e-15, 2.711229009108953e-15, 5.043932546617115e-15, 5.453443330461416e-15, 1.060163800958901e-14, 9.582886072937846e-15, 5.69693057444619e-15]], 'out_ymax': 0.010092303156852722, 'out_xmax': 0.014072280377149582, 'out_ymin': -0.009957600384950638, 'out_xmin': -0.013706106692552567}, date_modified=datetime.datetime(2022, 10, 14, 22, 55, 33, 822000), unique_on=['inputs', 'outputs', 'flow_id'], unique_hash='84f85f609f96bd0383431a0533b9682d', result_type_string='lume_services.results.generic.Result')"
      ]
     },
     "execution_count": 17,
     "metadata": {},
     "output_type": "execute_result"
    }
   ],
   "source": [
    "result = loaded_model.run_and_return(\n",
    "    parameters={\n",
    "                        \"distgen:r_dist:sigma_xy:value\": 0.4130, \n",
    "                        \"distgen:total_charge:value\": 250.0, \n",
    "                        \"distgen:t_dist:length:value\":7.499772441611215, \n",
    "                        \"SOL1:solenoid_field_scale\": 0.17, \n",
    "                        \"CQ01:b1_gradient\":-0.0074,\n",
    "                        \"SQ01:b1_gradient\": -0.0074,\n",
    "                        \"L0A_phase:dtheta0_deg\": -8.8997,\n",
    "                        \"L0A_scale:voltage\": 70000000.0,\n",
    "                        \"distgen:t_dist:length:value\": 7.499772441611215,\n",
    "                        \"end_mean_z\": 4.6147002\n",
    "    },\n",
    "    task_name=\"save_db_result\" # Want to get the result from the save_db_result task\n",
    ")\n",
    "result"
   ]
  },
  {
   "cell_type": "code",
   "execution_count": 22,
   "id": "06c25a25",
   "metadata": {},
   "outputs": [
    {
     "data": {
      "text/html": [
       "<div>\n",
       "<style scoped>\n",
       "    .dataframe tbody tr th:only-of-type {\n",
       "        vertical-align: middle;\n",
       "    }\n",
       "\n",
       "    .dataframe tbody tr th {\n",
       "        vertical-align: top;\n",
       "    }\n",
       "\n",
       "    .dataframe thead th {\n",
       "        text-align: right;\n",
       "    }\n",
       "</style>\n",
       "<table border=\"1\" class=\"dataframe\">\n",
       "  <thead>\n",
       "    <tr style=\"text-align: right;\">\n",
       "      <th></th>\n",
       "      <th>project_name</th>\n",
       "      <th>flow_id</th>\n",
       "      <th>distgen:r_dist:sigma_xy:value</th>\n",
       "      <th>distgen:t_dist:length:value</th>\n",
       "      <th>distgen:total_charge:value</th>\n",
       "      <th>SOL1:solenoid_field_scale</th>\n",
       "      <th>CQ01:b1_gradient</th>\n",
       "      <th>SQ01:b1_gradient</th>\n",
       "      <th>L0A_phase:dtheta0_deg</th>\n",
       "      <th>L0A_scale:voltage</th>\n",
       "      <th>...</th>\n",
       "      <th>end_cov_y__py</th>\n",
       "      <th>end_cov_z__pz</th>\n",
       "      <th>x:y</th>\n",
       "      <th>out_ymax</th>\n",
       "      <th>out_xmax</th>\n",
       "      <th>out_ymin</th>\n",
       "      <th>out_xmin</th>\n",
       "      <th>date_modified</th>\n",
       "      <th>unique_hash</th>\n",
       "      <th>result_type_string</th>\n",
       "    </tr>\n",
       "  </thead>\n",
       "  <tbody>\n",
       "    <tr>\n",
       "      <th>0</th>\n",
       "      <td>test</td>\n",
       "      <td>fb70c882-183e-41e0-8f15-d72c4f32816a</td>\n",
       "      <td>0.137667</td>\n",
       "      <td>12.374625</td>\n",
       "      <td>0.00004</td>\n",
       "      <td>0.087426</td>\n",
       "      <td>0.003524</td>\n",
       "      <td>0.003524</td>\n",
       "      <td>-8.8997</td>\n",
       "      <td>7.000000e+13</td>\n",
       "      <td>...</td>\n",
       "      <td>1197.300171</td>\n",
       "      <td>-13.803169</td>\n",
       "      <td>[[1.5396431061364324e-15, 4.492893568714936e-1...</td>\n",
       "      <td>0.010092</td>\n",
       "      <td>0.014072</td>\n",
       "      <td>-0.009958</td>\n",
       "      <td>-0.013706</td>\n",
       "      <td>2022-10-14 22:55:33.822</td>\n",
       "      <td>84f85f609f96bd0383431a0533b9682d</td>\n",
       "      <td>lume_services.results.generic.Result</td>\n",
       "    </tr>\n",
       "    <tr>\n",
       "      <th>1</th>\n",
       "      <td>test</td>\n",
       "      <td>fb70c882-183e-41e0-8f15-d72c4f32816a</td>\n",
       "      <td>0.137667</td>\n",
       "      <td>12.374625</td>\n",
       "      <td>0.00004</td>\n",
       "      <td>0.087426</td>\n",
       "      <td>0.003524</td>\n",
       "      <td>0.003524</td>\n",
       "      <td>-8.8997</td>\n",
       "      <td>7.000000e+13</td>\n",
       "      <td>...</td>\n",
       "      <td>1197.300171</td>\n",
       "      <td>-13.803169</td>\n",
       "      <td>[[1.5396431061364324e-15, 4.492893568714936e-1...</td>\n",
       "      <td>0.010092</td>\n",
       "      <td>0.014072</td>\n",
       "      <td>-0.009958</td>\n",
       "      <td>-0.013706</td>\n",
       "      <td>2022-10-14 22:56:50.477</td>\n",
       "      <td>84f85f609f96bd0383431a0533b9682d</td>\n",
       "      <td>lume_services.results.generic.Result</td>\n",
       "    </tr>\n",
       "  </tbody>\n",
       "</table>\n",
       "<p>2 rows × 40 columns</p>\n",
       "</div>"
      ],
      "text/plain": [
       "  project_name                               flow_id  \\\n",
       "0         test  fb70c882-183e-41e0-8f15-d72c4f32816a   \n",
       "1         test  fb70c882-183e-41e0-8f15-d72c4f32816a   \n",
       "\n",
       "   distgen:r_dist:sigma_xy:value  distgen:t_dist:length:value  \\\n",
       "0                       0.137667                    12.374625   \n",
       "1                       0.137667                    12.374625   \n",
       "\n",
       "   distgen:total_charge:value  SOL1:solenoid_field_scale  CQ01:b1_gradient  \\\n",
       "0                     0.00004                   0.087426          0.003524   \n",
       "1                     0.00004                   0.087426          0.003524   \n",
       "\n",
       "   SQ01:b1_gradient  L0A_phase:dtheta0_deg  L0A_scale:voltage  ...  \\\n",
       "0          0.003524                -8.8997       7.000000e+13  ...   \n",
       "1          0.003524                -8.8997       7.000000e+13  ...   \n",
       "\n",
       "   end_cov_y__py  end_cov_z__pz  \\\n",
       "0    1197.300171     -13.803169   \n",
       "1    1197.300171     -13.803169   \n",
       "\n",
       "                                                 x:y  out_ymax  out_xmax  \\\n",
       "0  [[1.5396431061364324e-15, 4.492893568714936e-1...  0.010092  0.014072   \n",
       "1  [[1.5396431061364324e-15, 4.492893568714936e-1...  0.010092  0.014072   \n",
       "\n",
       "   out_ymin  out_xmin           date_modified  \\\n",
       "0 -0.009958 -0.013706 2022-10-14 22:55:33.822   \n",
       "1 -0.009958 -0.013706 2022-10-14 22:56:50.477   \n",
       "\n",
       "                        unique_hash                    result_type_string  \n",
       "0  84f85f609f96bd0383431a0533b9682d  lume_services.results.generic.Result  \n",
       "1  84f85f609f96bd0383431a0533b9682d  lume_services.results.generic.Result  \n",
       "\n",
       "[2 rows x 40 columns]"
      ]
     },
     "execution_count": 22,
     "metadata": {},
     "output_type": "execute_result"
    }
   ],
   "source": [
    "results_df = loaded_model.get_results_df()\n",
    "results_df"
   ]
  },
  {
   "cell_type": "code",
   "execution_count": null,
   "id": "1c0a3f6b",
   "metadata": {},
   "outputs": [],
   "source": []
  }
 ],
 "metadata": {
  "kernelspec": {
   "display_name": "Python 3 (ipykernel)",
   "language": "python",
   "name": "python3"
  },
  "language_info": {
   "codemirror_mode": {
    "name": "ipython",
    "version": 3
   },
   "file_extension": ".py",
   "mimetype": "text/x-python",
   "name": "python",
   "nbconvert_exporter": "python",
   "pygments_lexer": "ipython3",
   "version": "3.10.6"
  },
  "vscode": {
   "interpreter": {
    "hash": "7b1aa5d32c5360a08f3d071b8537e8759b8901de3eea112666c46651e79793b3"
   }
  }
 },
 "nbformat": 4,
 "nbformat_minor": 5
}
